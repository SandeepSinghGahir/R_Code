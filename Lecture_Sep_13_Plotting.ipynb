{
 "cells": [
  {
   "cell_type": "code",
   "execution_count": 1,
   "metadata": {},
   "outputs": [
    {
     "name": "stdout",
     "output_type": "stream",
     "text": [
      "List of 12\n",
      " $ coefficients : Named num [1:3] 19.746 -5.048 0.929\n",
      "  ..- attr(*, \"names\")= chr [1:3] \"(Intercept)\" \"wt\" \"qsec\"\n",
      " $ residuals    : Named num [1:32] -0.8151 -0.0482 -2.5273 -0.1806 0.5039 ...\n",
      "  ..- attr(*, \"names\")= chr [1:32] \"Mazda RX4\" \"Mazda RX4 Wag\" \"Datsun 710\" \"Hornet 4 Drive\" ...\n",
      " $ effects      : Named num [1:32] -113.65 -29.116 -9.103 0.357 0.503 ...\n",
      "  ..- attr(*, \"names\")= chr [1:32] \"(Intercept)\" \"wt\" \"qsec\" \"\" ...\n",
      " $ rank         : int 3\n",
      " $ fitted.values: Named num [1:32] 21.8 21 25.3 21.6 18.2 ...\n",
      "  ..- attr(*, \"names\")= chr [1:32] \"Mazda RX4\" \"Mazda RX4 Wag\" \"Datsun 710\" \"Hornet 4 Drive\" ...\n",
      " $ assign       : int [1:3] 0 1 2\n",
      " $ qr           :List of 5\n",
      "  ..$ qr   : num [1:32, 1:3] -5.657 0.177 0.177 0.177 0.177 ...\n",
      "  .. ..- attr(*, \"dimnames\")=List of 2\n",
      "  .. .. ..$ : chr [1:32] \"Mazda RX4\" \"Mazda RX4 Wag\" \"Datsun 710\" \"Hornet 4 Drive\" ...\n",
      "  .. .. ..$ : chr [1:3] \"(Intercept)\" \"wt\" \"qsec\"\n",
      "  .. ..- attr(*, \"assign\")= int [1:3] 0 1 2\n",
      "  ..$ qraux: num [1:3] 1.18 1.05 1.08\n",
      "  ..$ pivot: int [1:3] 1 2 3\n",
      "  ..$ tol  : num 1e-07\n",
      "  ..$ rank : int 3\n",
      "  ..- attr(*, \"class\")= chr \"qr\"\n",
      " $ df.residual  : int 29\n",
      " $ xlevels      : Named list()\n",
      " $ call         : language lm(formula = equ, data = mtcars)\n",
      " $ terms        :Classes 'terms', 'formula'  language mpg ~ wt + qsec\n",
      "  .. ..- attr(*, \"variables\")= language list(mpg, wt, qsec)\n",
      "  .. ..- attr(*, \"factors\")= int [1:3, 1:2] 0 1 0 0 0 1\n",
      "  .. .. ..- attr(*, \"dimnames\")=List of 2\n",
      "  .. .. .. ..$ : chr [1:3] \"mpg\" \"wt\" \"qsec\"\n",
      "  .. .. .. ..$ : chr [1:2] \"wt\" \"qsec\"\n",
      "  .. ..- attr(*, \"term.labels\")= chr [1:2] \"wt\" \"qsec\"\n",
      "  .. ..- attr(*, \"order\")= int [1:2] 1 1\n",
      "  .. ..- attr(*, \"intercept\")= int 1\n",
      "  .. ..- attr(*, \"response\")= int 1\n",
      "  .. ..- attr(*, \".Environment\")=<environment: R_GlobalEnv> \n",
      "  .. ..- attr(*, \"predvars\")= language list(mpg, wt, qsec)\n",
      "  .. ..- attr(*, \"dataClasses\")= Named chr [1:3] \"numeric\" \"numeric\" \"numeric\"\n",
      "  .. .. ..- attr(*, \"names\")= chr [1:3] \"mpg\" \"wt\" \"qsec\"\n",
      " $ model        :'data.frame':\t32 obs. of  3 variables:\n",
      "  ..$ mpg : num [1:32] 21 21 22.8 21.4 18.7 18.1 14.3 24.4 22.8 19.2 ...\n",
      "  ..$ wt  : num [1:32] 2.62 2.88 2.32 3.21 3.44 ...\n",
      "  ..$ qsec: num [1:32] 16.5 17 18.6 19.4 17 ...\n",
      "  ..- attr(*, \"terms\")=Classes 'terms', 'formula'  language mpg ~ wt + qsec\n",
      "  .. .. ..- attr(*, \"variables\")= language list(mpg, wt, qsec)\n",
      "  .. .. ..- attr(*, \"factors\")= int [1:3, 1:2] 0 1 0 0 0 1\n",
      "  .. .. .. ..- attr(*, \"dimnames\")=List of 2\n",
      "  .. .. .. .. ..$ : chr [1:3] \"mpg\" \"wt\" \"qsec\"\n",
      "  .. .. .. .. ..$ : chr [1:2] \"wt\" \"qsec\"\n",
      "  .. .. ..- attr(*, \"term.labels\")= chr [1:2] \"wt\" \"qsec\"\n",
      "  .. .. ..- attr(*, \"order\")= int [1:2] 1 1\n",
      "  .. .. ..- attr(*, \"intercept\")= int 1\n",
      "  .. .. ..- attr(*, \"response\")= int 1\n",
      "  .. .. ..- attr(*, \".Environment\")=<environment: R_GlobalEnv> \n",
      "  .. .. ..- attr(*, \"predvars\")= language list(mpg, wt, qsec)\n",
      "  .. .. ..- attr(*, \"dataClasses\")= Named chr [1:3] \"numeric\" \"numeric\" \"numeric\"\n",
      "  .. .. .. ..- attr(*, \"names\")= chr [1:3] \"mpg\" \"wt\" \"qsec\"\n",
      " - attr(*, \"class\")= chr \"lm\"\n"
     ]
    },
    {
     "data": {
      "text/html": [
       "<strong>$coefficients</strong> = <dl class=dl-horizontal>\n",
       "\t<dt>(Intercept)</dt>\n",
       "\t\t<dd>19.7462225964812</dd>\n",
       "\t<dt>wt</dt>\n",
       "\t\t<dd>-5.04798198284327</dd>\n",
       "\t<dt>qsec</dt>\n",
       "\t\t<dd>0.929197979568393</dd>\n",
       "</dl>\n"
      ],
      "text/latex": [
       "\\textbf{\\$coefficients} = \\begin{description*}\n",
       "\\item[(Intercept)] 19.7462225964812\n",
       "\\item[wt] -5.04798198284327\n",
       "\\item[qsec] 0.929197979568393\n",
       "\\end{description*}\n"
      ],
      "text/markdown": [
       "**$coefficients** = (Intercept)\n",
       ":   19.7462225964812wt\n",
       ":   -5.04798198284327qsec\n",
       ":   0.929197979568393\n",
       "\n"
      ],
      "text/plain": [
       "$coefficients\n",
       "(Intercept)          wt        qsec \n",
       "  19.746223   -5.047982    0.929198 \n"
      ]
     },
     "metadata": {},
     "output_type": "display_data"
    }
   ],
   "source": [
    "#Linear Model takes 2 things \n",
    "#1. dataframe and 2. equation\n",
    "#Result = constant + W1V1 + w2v2 +.....\n",
    "equ <- mpg ~ wt + qsec\n",
    "bob <- lm(equ,mtcars)\n",
    "str(bob)\n",
    "bob[1]\n"
   ]
  },
  {
   "cell_type": "code",
   "execution_count": 2,
   "metadata": {},
   "outputs": [
    {
     "data": {
      "text/html": [
       "<strong>$residuals</strong> = <dl class=dl-horizontal>\n",
       "\t<dt>Mazda RX4</dt>\n",
       "\t\t<dd>-0.815108545127579</dd>\n",
       "\t<dt>Mazda RX4 Wag</dt>\n",
       "\t\t<dd>-0.0482240080608037</dd>\n",
       "\t<dt>Datsun 710</dt>\n",
       "\t\t<dd>-2.52727879605257</dd>\n",
       "\t<dt>Hornet 4 Drive</dt>\n",
       "\t\t<dd>-0.180569244449605</dd>\n",
       "\t<dt>Hornet Sportabout</dt>\n",
       "\t\t<dd>0.503885812245647</dd>\n",
       "\t<dt>Valiant</dt>\n",
       "\t\t<dd>-2.96858808271634</dd>\n",
       "\t<dt>Duster 360</dt>\n",
       "\t\t<dd>-2.14342291409402</dd>\n",
       "\t<dt>Merc 240D</dt>\n",
       "\t\t<dd>2.17288033742101</dd>\n",
       "\t<dt>Merc 230</dt>\n",
       "\t\t<dd>-2.32371308264105</dd>\n",
       "\t<dt>Merc 280</dt>\n",
       "\t\t<dd>-0.185487601601898</dd>\n",
       "\t<dt>Merc 280C</dt>\n",
       "\t\t<dd>-2.14300638934293</dd>\n",
       "\t<dt>Merc 450SE</dt>\n",
       "\t\t<dd>1.03101922920092</dd>\n",
       "\t<dt>Merc 450SL</dt>\n",
       "\t\t<dd>0.0288657591205276</dd>\n",
       "\t<dt>Merc 450SLC</dt>\n",
       "\t\t<dd>-2.19041433356467</dd>\n",
       "\t<dt>Cadillac Fleetwood</dt>\n",
       "\t\t<dd>0.448703140806316</dd>\n",
       "\t<dt>Lincoln Continental</dt>\n",
       "\t\t<dd>1.47572368255199</dd>\n",
       "\t<dt>Chrysler Imperial</dt>\n",
       "\t\t<dd>5.74861229773472</dd>\n",
       "\t<dt>Fiat 128</dt>\n",
       "\t\t<dd>5.66785310357742</dd>\n",
       "\t<dt>Honda Civic</dt>\n",
       "\t\t<dd>1.59752172420408</dd>\n",
       "\t<dt>Toyota Corolla</dt>\n",
       "\t\t<dd>4.92578454862522</dd>\n",
       "\t<dt>Toyota Corona</dt>\n",
       "\t\t<dd>-4.39619857993604</dd>\n",
       "\t<dt>Dodge Challenger</dt>\n",
       "\t\t<dd>-2.15289593219163</dd>\n",
       "\t<dt>AMC Javelin</dt>\n",
       "\t\t<dd>-3.28152953194772</dd>\n",
       "\t<dt>Camaro Z28</dt>\n",
       "\t\t<dd>-1.38091264751193</dd>\n",
       "\t<dt>Pontiac Firebird</dt>\n",
       "\t\t<dd>3.02044257591012</dd>\n",
       "\t<dt>Fiat X1-9</dt>\n",
       "\t\t<dd>-0.240219273522058</dd>\n",
       "\t<dt>Porsche 914-2</dt>\n",
       "\t\t<dd>1.53885258801128</dd>\n",
       "\t<dt>Lotus Europa</dt>\n",
       "\t\t<dd>2.58792828885486</dd>\n",
       "\t<dt>Ford Pantera L</dt>\n",
       "\t\t<dd>-1.41749041460968</dd>\n",
       "\t<dt>Ferrari Dino</dt>\n",
       "\t\t<dd>-0.465881187315389</dd>\n",
       "\t<dt>Maserati Bora</dt>\n",
       "\t\t<dd>-0.291217419429216</dd>\n",
       "\t<dt>Volvo 142E</dt>\n",
       "\t\t<dd>-1.59591510414898</dd>\n",
       "</dl>\n"
      ],
      "text/latex": [
       "\\textbf{\\$residuals} = \\begin{description*}\n",
       "\\item[Mazda RX4] -0.815108545127579\n",
       "\\item[Mazda RX4 Wag] -0.0482240080608037\n",
       "\\item[Datsun 710] -2.52727879605257\n",
       "\\item[Hornet 4 Drive] -0.180569244449605\n",
       "\\item[Hornet Sportabout] 0.503885812245647\n",
       "\\item[Valiant] -2.96858808271634\n",
       "\\item[Duster 360] -2.14342291409402\n",
       "\\item[Merc 240D] 2.17288033742101\n",
       "\\item[Merc 230] -2.32371308264105\n",
       "\\item[Merc 280] -0.185487601601898\n",
       "\\item[Merc 280C] -2.14300638934293\n",
       "\\item[Merc 450SE] 1.03101922920092\n",
       "\\item[Merc 450SL] 0.0288657591205276\n",
       "\\item[Merc 450SLC] -2.19041433356467\n",
       "\\item[Cadillac Fleetwood] 0.448703140806316\n",
       "\\item[Lincoln Continental] 1.47572368255199\n",
       "\\item[Chrysler Imperial] 5.74861229773472\n",
       "\\item[Fiat 128] 5.66785310357742\n",
       "\\item[Honda Civic] 1.59752172420408\n",
       "\\item[Toyota Corolla] 4.92578454862522\n",
       "\\item[Toyota Corona] -4.39619857993604\n",
       "\\item[Dodge Challenger] -2.15289593219163\n",
       "\\item[AMC Javelin] -3.28152953194772\n",
       "\\item[Camaro Z28] -1.38091264751193\n",
       "\\item[Pontiac Firebird] 3.02044257591012\n",
       "\\item[Fiat X1-9] -0.240219273522058\n",
       "\\item[Porsche 914-2] 1.53885258801128\n",
       "\\item[Lotus Europa] 2.58792828885486\n",
       "\\item[Ford Pantera L] -1.41749041460968\n",
       "\\item[Ferrari Dino] -0.465881187315389\n",
       "\\item[Maserati Bora] -0.291217419429216\n",
       "\\item[Volvo 142E] -1.59591510414898\n",
       "\\end{description*}\n"
      ],
      "text/markdown": [
       "**$residuals** = Mazda RX4\n",
       ":   -0.815108545127579Mazda RX4 Wag\n",
       ":   -0.0482240080608037Datsun 710\n",
       ":   -2.52727879605257Hornet 4 Drive\n",
       ":   -0.180569244449605Hornet Sportabout\n",
       ":   0.503885812245647Valiant\n",
       ":   -2.96858808271634Duster 360\n",
       ":   -2.14342291409402Merc 240D\n",
       ":   2.17288033742101Merc 230\n",
       ":   -2.32371308264105Merc 280\n",
       ":   -0.185487601601898Merc 280C\n",
       ":   -2.14300638934293Merc 450SE\n",
       ":   1.03101922920092Merc 450SL\n",
       ":   0.0288657591205276Merc 450SLC\n",
       ":   -2.19041433356467Cadillac Fleetwood\n",
       ":   0.448703140806316Lincoln Continental\n",
       ":   1.47572368255199Chrysler Imperial\n",
       ":   5.74861229773472Fiat 128\n",
       ":   5.66785310357742Honda Civic\n",
       ":   1.59752172420408Toyota Corolla\n",
       ":   4.92578454862522Toyota Corona\n",
       ":   -4.39619857993604Dodge Challenger\n",
       ":   -2.15289593219163AMC Javelin\n",
       ":   -3.28152953194772Camaro Z28\n",
       ":   -1.38091264751193Pontiac Firebird\n",
       ":   3.02044257591012Fiat X1-9\n",
       ":   -0.240219273522058Porsche 914-2\n",
       ":   1.53885258801128Lotus Europa\n",
       ":   2.58792828885486Ford Pantera L\n",
       ":   -1.41749041460968Ferrari Dino\n",
       ":   -0.465881187315389Maserati Bora\n",
       ":   -0.291217419429216Volvo 142E\n",
       ":   -1.59591510414898\n",
       "\n"
      ],
      "text/plain": [
       "$residuals\n",
       "          Mazda RX4       Mazda RX4 Wag          Datsun 710      Hornet 4 Drive \n",
       "        -0.81510855         -0.04822401         -2.52727880         -0.18056924 \n",
       "  Hornet Sportabout             Valiant          Duster 360           Merc 240D \n",
       "         0.50388581         -2.96858808         -2.14342291          2.17288034 \n",
       "           Merc 230            Merc 280           Merc 280C          Merc 450SE \n",
       "        -2.32371308         -0.18548760         -2.14300639          1.03101923 \n",
       "         Merc 450SL         Merc 450SLC  Cadillac Fleetwood Lincoln Continental \n",
       "         0.02886576         -2.19041433          0.44870314          1.47572368 \n",
       "  Chrysler Imperial            Fiat 128         Honda Civic      Toyota Corolla \n",
       "         5.74861230          5.66785310          1.59752172          4.92578455 \n",
       "      Toyota Corona    Dodge Challenger         AMC Javelin          Camaro Z28 \n",
       "        -4.39619858         -2.15289593         -3.28152953         -1.38091265 \n",
       "   Pontiac Firebird           Fiat X1-9       Porsche 914-2        Lotus Europa \n",
       "         3.02044258         -0.24021927          1.53885259          2.58792829 \n",
       "     Ford Pantera L        Ferrari Dino       Maserati Bora          Volvo 142E \n",
       "        -1.41749041         -0.46588119         -0.29121742         -1.59591510 \n"
      ]
     },
     "metadata": {},
     "output_type": "display_data"
    }
   ],
   "source": [
    "bob[2]"
   ]
  },
  {
   "cell_type": "code",
   "execution_count": 3,
   "metadata": {},
   "outputs": [
    {
     "data": {
      "text/plain": [
       "          Length Class  Mode   \n",
       "residuals 32     -none- numeric"
      ]
     },
     "metadata": {},
     "output_type": "display_data"
    }
   ],
   "source": [
    "summary(bob[2])"
   ]
  },
  {
   "cell_type": "raw",
   "metadata": {},
   "source": [
    "summary(bob$residuals)"
   ]
  },
  {
   "cell_type": "code",
   "execution_count": 5,
   "metadata": {},
   "outputs": [
    {
     "data": {
      "text/html": [
       "<table>\n",
       "<thead><tr><th></th><th scope=col>mpg</th><th scope=col>cyl</th><th scope=col>disp</th><th scope=col>hp</th><th scope=col>drat</th><th scope=col>wt</th><th scope=col>qsec</th><th scope=col>vs</th><th scope=col>am</th><th scope=col>gear</th><th scope=col>carb</th></tr></thead>\n",
       "<tbody>\n",
       "\t<tr><th scope=row>mpg</th><td> 1.0000000 </td><td>-0.8521620 </td><td>-0.8475514 </td><td>-0.7761684 </td><td> 0.68117191</td><td>-0.8676594 </td><td> 0.41868403</td><td> 0.6640389 </td><td> 0.59983243</td><td> 0.4802848 </td><td>-0.55092507</td></tr>\n",
       "\t<tr><th scope=row>cyl</th><td>-0.8521620 </td><td> 1.0000000 </td><td> 0.9020329 </td><td> 0.8324475 </td><td>-0.69993811</td><td> 0.7824958 </td><td>-0.59124207</td><td>-0.8108118 </td><td>-0.52260705</td><td>-0.4926866 </td><td> 0.52698829</td></tr>\n",
       "\t<tr><th scope=row>disp</th><td>-0.8475514 </td><td> 0.9020329 </td><td> 1.0000000 </td><td> 0.7909486 </td><td>-0.71021393</td><td> 0.8879799 </td><td>-0.43369788</td><td>-0.7104159 </td><td>-0.59122704</td><td>-0.5555692 </td><td> 0.39497686</td></tr>\n",
       "\t<tr><th scope=row>hp</th><td>-0.7761684 </td><td> 0.8324475 </td><td> 0.7909486 </td><td> 1.0000000 </td><td>-0.44875912</td><td> 0.6587479 </td><td>-0.70822339</td><td>-0.7230967 </td><td>-0.24320426</td><td>-0.1257043 </td><td> 0.74981247</td></tr>\n",
       "\t<tr><th scope=row>drat</th><td> 0.6811719 </td><td>-0.6999381 </td><td>-0.7102139 </td><td>-0.4487591 </td><td> 1.00000000</td><td>-0.7124406 </td><td> 0.09120476</td><td> 0.4402785 </td><td> 0.71271113</td><td> 0.6996101 </td><td>-0.09078980</td></tr>\n",
       "\t<tr><th scope=row>wt</th><td>-0.8676594 </td><td> 0.7824958 </td><td> 0.8879799 </td><td> 0.6587479 </td><td>-0.71244065</td><td> 1.0000000 </td><td>-0.17471588</td><td>-0.5549157 </td><td>-0.69249526</td><td>-0.5832870 </td><td> 0.42760594</td></tr>\n",
       "\t<tr><th scope=row>qsec</th><td> 0.4186840 </td><td>-0.5912421 </td><td>-0.4336979 </td><td>-0.7082234 </td><td> 0.09120476</td><td>-0.1747159 </td><td> 1.00000000</td><td> 0.7445354 </td><td>-0.22986086</td><td>-0.2126822 </td><td>-0.65624923</td></tr>\n",
       "\t<tr><th scope=row>vs</th><td> 0.6640389 </td><td>-0.8108118 </td><td>-0.7104159 </td><td>-0.7230967 </td><td> 0.44027846</td><td>-0.5549157 </td><td> 0.74453544</td><td> 1.0000000 </td><td> 0.16834512</td><td> 0.2060233 </td><td>-0.56960714</td></tr>\n",
       "\t<tr><th scope=row>am</th><td> 0.5998324 </td><td>-0.5226070 </td><td>-0.5912270 </td><td>-0.2432043 </td><td> 0.71271113</td><td>-0.6924953 </td><td>-0.22986086</td><td> 0.1683451 </td><td> 1.00000000</td><td> 0.7940588 </td><td> 0.05753435</td></tr>\n",
       "\t<tr><th scope=row>gear</th><td> 0.4802848 </td><td>-0.4926866 </td><td>-0.5555692 </td><td>-0.1257043 </td><td> 0.69961013</td><td>-0.5832870 </td><td>-0.21268223</td><td> 0.2060233 </td><td> 0.79405876</td><td> 1.0000000 </td><td> 0.27407284</td></tr>\n",
       "\t<tr><th scope=row>carb</th><td>-0.5509251 </td><td> 0.5269883 </td><td> 0.3949769 </td><td> 0.7498125 </td><td>-0.09078980</td><td> 0.4276059 </td><td>-0.65624923</td><td>-0.5696071 </td><td> 0.05753435</td><td> 0.2740728 </td><td> 1.00000000</td></tr>\n",
       "</tbody>\n",
       "</table>\n"
      ],
      "text/latex": [
       "\\begin{tabular}{r|lllllllllll}\n",
       "  & mpg & cyl & disp & hp & drat & wt & qsec & vs & am & gear & carb\\\\\n",
       "\\hline\n",
       "\tmpg &  1.0000000  & -0.8521620  & -0.8475514  & -0.7761684  &  0.68117191 & -0.8676594  &  0.41868403 &  0.6640389  &  0.59983243 &  0.4802848  & -0.55092507\\\\\n",
       "\tcyl & -0.8521620  &  1.0000000  &  0.9020329  &  0.8324475  & -0.69993811 &  0.7824958  & -0.59124207 & -0.8108118  & -0.52260705 & -0.4926866  &  0.52698829\\\\\n",
       "\tdisp & -0.8475514  &  0.9020329  &  1.0000000  &  0.7909486  & -0.71021393 &  0.8879799  & -0.43369788 & -0.7104159  & -0.59122704 & -0.5555692  &  0.39497686\\\\\n",
       "\thp & -0.7761684  &  0.8324475  &  0.7909486  &  1.0000000  & -0.44875912 &  0.6587479  & -0.70822339 & -0.7230967  & -0.24320426 & -0.1257043  &  0.74981247\\\\\n",
       "\tdrat &  0.6811719  & -0.6999381  & -0.7102139  & -0.4487591  &  1.00000000 & -0.7124406  &  0.09120476 &  0.4402785  &  0.71271113 &  0.6996101  & -0.09078980\\\\\n",
       "\twt & -0.8676594  &  0.7824958  &  0.8879799  &  0.6587479  & -0.71244065 &  1.0000000  & -0.17471588 & -0.5549157  & -0.69249526 & -0.5832870  &  0.42760594\\\\\n",
       "\tqsec &  0.4186840  & -0.5912421  & -0.4336979  & -0.7082234  &  0.09120476 & -0.1747159  &  1.00000000 &  0.7445354  & -0.22986086 & -0.2126822  & -0.65624923\\\\\n",
       "\tvs &  0.6640389  & -0.8108118  & -0.7104159  & -0.7230967  &  0.44027846 & -0.5549157  &  0.74453544 &  1.0000000  &  0.16834512 &  0.2060233  & -0.56960714\\\\\n",
       "\tam &  0.5998324  & -0.5226070  & -0.5912270  & -0.2432043  &  0.71271113 & -0.6924953  & -0.22986086 &  0.1683451  &  1.00000000 &  0.7940588  &  0.05753435\\\\\n",
       "\tgear &  0.4802848  & -0.4926866  & -0.5555692  & -0.1257043  &  0.69961013 & -0.5832870  & -0.21268223 &  0.2060233  &  0.79405876 &  1.0000000  &  0.27407284\\\\\n",
       "\tcarb & -0.5509251  &  0.5269883  &  0.3949769  &  0.7498125  & -0.09078980 &  0.4276059  & -0.65624923 & -0.5696071  &  0.05753435 &  0.2740728  &  1.00000000\\\\\n",
       "\\end{tabular}\n"
      ],
      "text/markdown": [
       "\n",
       "| <!--/--> | mpg | cyl | disp | hp | drat | wt | qsec | vs | am | gear | carb | \n",
       "|---|---|---|---|---|---|---|---|---|---|---|\n",
       "| mpg |  1.0000000  | -0.8521620  | -0.8475514  | -0.7761684  |  0.68117191 | -0.8676594  |  0.41868403 |  0.6640389  |  0.59983243 |  0.4802848  | -0.55092507 | \n",
       "| cyl | -0.8521620  |  1.0000000  |  0.9020329  |  0.8324475  | -0.69993811 |  0.7824958  | -0.59124207 | -0.8108118  | -0.52260705 | -0.4926866  |  0.52698829 | \n",
       "| disp | -0.8475514  |  0.9020329  |  1.0000000  |  0.7909486  | -0.71021393 |  0.8879799  | -0.43369788 | -0.7104159  | -0.59122704 | -0.5555692  |  0.39497686 | \n",
       "| hp | -0.7761684  |  0.8324475  |  0.7909486  |  1.0000000  | -0.44875912 |  0.6587479  | -0.70822339 | -0.7230967  | -0.24320426 | -0.1257043  |  0.74981247 | \n",
       "| drat |  0.6811719  | -0.6999381  | -0.7102139  | -0.4487591  |  1.00000000 | -0.7124406  |  0.09120476 |  0.4402785  |  0.71271113 |  0.6996101  | -0.09078980 | \n",
       "| wt | -0.8676594  |  0.7824958  |  0.8879799  |  0.6587479  | -0.71244065 |  1.0000000  | -0.17471588 | -0.5549157  | -0.69249526 | -0.5832870  |  0.42760594 | \n",
       "| qsec |  0.4186840  | -0.5912421  | -0.4336979  | -0.7082234  |  0.09120476 | -0.1747159  |  1.00000000 |  0.7445354  | -0.22986086 | -0.2126822  | -0.65624923 | \n",
       "| vs |  0.6640389  | -0.8108118  | -0.7104159  | -0.7230967  |  0.44027846 | -0.5549157  |  0.74453544 |  1.0000000  |  0.16834512 |  0.2060233  | -0.56960714 | \n",
       "| am |  0.5998324  | -0.5226070  | -0.5912270  | -0.2432043  |  0.71271113 | -0.6924953  | -0.22986086 |  0.1683451  |  1.00000000 |  0.7940588  |  0.05753435 | \n",
       "| gear |  0.4802848  | -0.4926866  | -0.5555692  | -0.1257043  |  0.69961013 | -0.5832870  | -0.21268223 |  0.2060233  |  0.79405876 |  1.0000000  |  0.27407284 | \n",
       "| carb | -0.5509251  |  0.5269883  |  0.3949769  |  0.7498125  | -0.09078980 |  0.4276059  | -0.65624923 | -0.5696071  |  0.05753435 |  0.2740728  |  1.00000000 | \n",
       "\n",
       "\n"
      ],
      "text/plain": [
       "     mpg        cyl        disp       hp         drat        wt        \n",
       "mpg   1.0000000 -0.8521620 -0.8475514 -0.7761684  0.68117191 -0.8676594\n",
       "cyl  -0.8521620  1.0000000  0.9020329  0.8324475 -0.69993811  0.7824958\n",
       "disp -0.8475514  0.9020329  1.0000000  0.7909486 -0.71021393  0.8879799\n",
       "hp   -0.7761684  0.8324475  0.7909486  1.0000000 -0.44875912  0.6587479\n",
       "drat  0.6811719 -0.6999381 -0.7102139 -0.4487591  1.00000000 -0.7124406\n",
       "wt   -0.8676594  0.7824958  0.8879799  0.6587479 -0.71244065  1.0000000\n",
       "qsec  0.4186840 -0.5912421 -0.4336979 -0.7082234  0.09120476 -0.1747159\n",
       "vs    0.6640389 -0.8108118 -0.7104159 -0.7230967  0.44027846 -0.5549157\n",
       "am    0.5998324 -0.5226070 -0.5912270 -0.2432043  0.71271113 -0.6924953\n",
       "gear  0.4802848 -0.4926866 -0.5555692 -0.1257043  0.69961013 -0.5832870\n",
       "carb -0.5509251  0.5269883  0.3949769  0.7498125 -0.09078980  0.4276059\n",
       "     qsec        vs         am          gear       carb       \n",
       "mpg   0.41868403  0.6640389  0.59983243  0.4802848 -0.55092507\n",
       "cyl  -0.59124207 -0.8108118 -0.52260705 -0.4926866  0.52698829\n",
       "disp -0.43369788 -0.7104159 -0.59122704 -0.5555692  0.39497686\n",
       "hp   -0.70822339 -0.7230967 -0.24320426 -0.1257043  0.74981247\n",
       "drat  0.09120476  0.4402785  0.71271113  0.6996101 -0.09078980\n",
       "wt   -0.17471588 -0.5549157 -0.69249526 -0.5832870  0.42760594\n",
       "qsec  1.00000000  0.7445354 -0.22986086 -0.2126822 -0.65624923\n",
       "vs    0.74453544  1.0000000  0.16834512  0.2060233 -0.56960714\n",
       "am   -0.22986086  0.1683451  1.00000000  0.7940588  0.05753435\n",
       "gear -0.21268223  0.2060233  0.79405876  1.0000000  0.27407284\n",
       "carb -0.65624923 -0.5696071  0.05753435  0.2740728  1.00000000"
      ]
     },
     "metadata": {},
     "output_type": "display_data"
    }
   ],
   "source": [
    "cor(mtcars)"
   ]
  },
  {
   "cell_type": "code",
   "execution_count": 6,
   "metadata": {},
   "outputs": [
    {
     "data": {},
     "metadata": {},
     "output_type": "display_data"
    }
   ],
   "source": [
    "#library(help=\"datasets\")"
   ]
  },
  {
   "cell_type": "code",
   "execution_count": 7,
   "metadata": {},
   "outputs": [
    {
     "data": {
      "text/plain": [
       "    142.24 144.78 147.32 149.86 152.4 154.94 157.48 160.02 162.56 165.1 167.64\n",
       "9.4      0      0      0      0     0      0      0      0      0     0      0\n",
       "9.5      0      0      0      0     0      1      0      0      0     0      0\n",
       "9.6      0      0      0      0     0      0      0      0      0     0      0\n",
       "9.7      0      0      0      0     0      0      0      0      0     0      0\n",
       "9.8      0      0      0      0     0      0      1      0      0     0      0\n",
       "9.9      0      0      1      0     1      0      1      0      0     0      0\n",
       "    170.18 172.72 175.26 177.8 180.34 182.88 185.42 187.96 190.5 193.04 195.58\n",
       "9.4      0      0      0     0      0      0      0      0     0      0      0\n",
       "9.5      0      0      0     0      0      0      0      0     0      0      0\n",
       "9.6      0      0      0     0      0      0      0      0     0      0      0\n",
       "9.7      0      0      0     0      0      0      0      0     0      0      0\n",
       "9.8      0      0      0     0      0      0      0      0     0      0      0\n",
       "9.9      0      0      0     0      0      0      0      0     0      0      0"
      ]
     },
     "metadata": {},
     "output_type": "display_data"
    }
   ],
   "source": [
    "head(crimtab)"
   ]
  },
  {
   "cell_type": "code",
   "execution_count": 9,
   "metadata": {},
   "outputs": [
    {
     "name": "stdout",
     "output_type": "stream",
     "text": [
      " 'table' int [1:42, 1:22] 0 0 0 0 0 0 1 0 0 0 ...\n",
      " - attr(*, \"dimnames\")=List of 2\n",
      "  ..$ : chr [1:42] \"9.4\" \"9.5\" \"9.6\" \"9.7\" ...\n",
      "  ..$ : chr [1:22] \"142.24\" \"144.78\" \"147.32\" \"149.86\" ...\n"
     ]
    }
   ],
   "source": [
    "str(crimtab)"
   ]
  },
  {
   "cell_type": "code",
   "execution_count": 10,
   "metadata": {},
   "outputs": [
    {
     "data": {
      "text/html": [
       "<table>\n",
       "<thead><tr><th scope=col>area</th><th scope=col>peri</th><th scope=col>shape</th><th scope=col>perm</th></tr></thead>\n",
       "<tbody>\n",
       "\t<tr><td>4990     </td><td>2791.90  </td><td>0.0903296</td><td> 6.3     </td></tr>\n",
       "\t<tr><td>7002     </td><td>3892.60  </td><td>0.1486220</td><td> 6.3     </td></tr>\n",
       "\t<tr><td>7558     </td><td>3930.66  </td><td>0.1833120</td><td> 6.3     </td></tr>\n",
       "\t<tr><td>7352     </td><td>3869.32  </td><td>0.1170630</td><td> 6.3     </td></tr>\n",
       "\t<tr><td>7943     </td><td>3948.54  </td><td>0.1224170</td><td>17.1     </td></tr>\n",
       "\t<tr><td>7979     </td><td>4010.15  </td><td>0.1670450</td><td>17.1     </td></tr>\n",
       "</tbody>\n",
       "</table>\n"
      ],
      "text/latex": [
       "\\begin{tabular}{r|llll}\n",
       " area & peri & shape & perm\\\\\n",
       "\\hline\n",
       "\t 4990      & 2791.90   & 0.0903296 &  6.3     \\\\\n",
       "\t 7002      & 3892.60   & 0.1486220 &  6.3     \\\\\n",
       "\t 7558      & 3930.66   & 0.1833120 &  6.3     \\\\\n",
       "\t 7352      & 3869.32   & 0.1170630 &  6.3     \\\\\n",
       "\t 7943      & 3948.54   & 0.1224170 & 17.1     \\\\\n",
       "\t 7979      & 4010.15   & 0.1670450 & 17.1     \\\\\n",
       "\\end{tabular}\n"
      ],
      "text/markdown": [
       "\n",
       "area | peri | shape | perm | \n",
       "|---|---|---|---|---|---|\n",
       "| 4990      | 2791.90   | 0.0903296 |  6.3      | \n",
       "| 7002      | 3892.60   | 0.1486220 |  6.3      | \n",
       "| 7558      | 3930.66   | 0.1833120 |  6.3      | \n",
       "| 7352      | 3869.32   | 0.1170630 |  6.3      | \n",
       "| 7943      | 3948.54   | 0.1224170 | 17.1      | \n",
       "| 7979      | 4010.15   | 0.1670450 | 17.1      | \n",
       "\n",
       "\n"
      ],
      "text/plain": [
       "  area peri    shape     perm\n",
       "1 4990 2791.90 0.0903296  6.3\n",
       "2 7002 3892.60 0.1486220  6.3\n",
       "3 7558 3930.66 0.1833120  6.3\n",
       "4 7352 3869.32 0.1170630  6.3\n",
       "5 7943 3948.54 0.1224170 17.1\n",
       "6 7979 4010.15 0.1670450 17.1"
      ]
     },
     "metadata": {},
     "output_type": "display_data"
    }
   ],
   "source": [
    "head(rock)"
   ]
  },
  {
   "cell_type": "code",
   "execution_count": 11,
   "metadata": {},
   "outputs": [
    {
     "name": "stdout",
     "output_type": "stream",
     "text": [
      "'data.frame':\t48 obs. of  4 variables:\n",
      " $ area : int  4990 7002 7558 7352 7943 7979 9333 8209 8393 6425 ...\n",
      " $ peri : num  2792 3893 3931 3869 3949 ...\n",
      " $ shape: num  0.0903 0.1486 0.1833 0.1171 0.1224 ...\n",
      " $ perm : num  6.3 6.3 6.3 6.3 17.1 17.1 17.1 17.1 119 119 ...\n"
     ]
    }
   ],
   "source": [
    "str(rock)"
   ]
  },
  {
   "cell_type": "code",
   "execution_count": 12,
   "metadata": {},
   "outputs": [
    {
     "data": {
      "text/html": [
       "<table>\n",
       "<thead><tr><th></th><th scope=col>area</th><th scope=col>peri</th><th scope=col>shape</th><th scope=col>perm</th></tr></thead>\n",
       "<tbody>\n",
       "\t<tr><th scope=row>area</th><td> 1.0000000</td><td> 0.8225064</td><td>-0.1821611</td><td>-0.3966370</td></tr>\n",
       "\t<tr><th scope=row>peri</th><td> 0.8225064</td><td> 1.0000000</td><td>-0.4331255</td><td>-0.7387158</td></tr>\n",
       "\t<tr><th scope=row>shape</th><td>-0.1821611</td><td>-0.4331255</td><td> 1.0000000</td><td> 0.5567208</td></tr>\n",
       "\t<tr><th scope=row>perm</th><td>-0.3966370</td><td>-0.7387158</td><td> 0.5567208</td><td> 1.0000000</td></tr>\n",
       "</tbody>\n",
       "</table>\n"
      ],
      "text/latex": [
       "\\begin{tabular}{r|llll}\n",
       "  & area & peri & shape & perm\\\\\n",
       "\\hline\n",
       "\tarea &  1.0000000 &  0.8225064 & -0.1821611 & -0.3966370\\\\\n",
       "\tperi &  0.8225064 &  1.0000000 & -0.4331255 & -0.7387158\\\\\n",
       "\tshape & -0.1821611 & -0.4331255 &  1.0000000 &  0.5567208\\\\\n",
       "\tperm & -0.3966370 & -0.7387158 &  0.5567208 &  1.0000000\\\\\n",
       "\\end{tabular}\n"
      ],
      "text/markdown": [
       "\n",
       "| <!--/--> | area | peri | shape | perm | \n",
       "|---|---|---|---|\n",
       "| area |  1.0000000 |  0.8225064 | -0.1821611 | -0.3966370 | \n",
       "| peri |  0.8225064 |  1.0000000 | -0.4331255 | -0.7387158 | \n",
       "| shape | -0.1821611 | -0.4331255 |  1.0000000 |  0.5567208 | \n",
       "| perm | -0.3966370 | -0.7387158 |  0.5567208 |  1.0000000 | \n",
       "\n",
       "\n"
      ],
      "text/plain": [
       "      area       peri       shape      perm      \n",
       "area   1.0000000  0.8225064 -0.1821611 -0.3966370\n",
       "peri   0.8225064  1.0000000 -0.4331255 -0.7387158\n",
       "shape -0.1821611 -0.4331255  1.0000000  0.5567208\n",
       "perm  -0.3966370 -0.7387158  0.5567208  1.0000000"
      ]
     },
     "metadata": {},
     "output_type": "display_data"
    }
   ],
   "source": [
    "cor(rock)"
   ]
  },
  {
   "cell_type": "code",
   "execution_count": 17,
   "metadata": {},
   "outputs": [
    {
     "data": {
      "text/plain": [
       "    Min.  1st Qu.   Median     Mean  3rd Qu.     Max. \n",
       "-2511.91 -1282.72   -80.14     0.00   790.80  4375.36 "
      ]
     },
     "metadata": {},
     "output_type": "display_data"
    }
   ],
   "source": [
    "ap.equ <- area ~ peri\n",
    "liz <- lm(ap.equ,rock)\n",
    "summary(liz$residuals)"
   ]
  },
  {
   "cell_type": "code",
   "execution_count": 18,
   "metadata": {},
   "outputs": [
    {
     "data": {
      "text/html": [
       "<table>\n",
       "<thead><tr><th scope=col>extra</th><th scope=col>group</th><th scope=col>ID</th></tr></thead>\n",
       "<tbody>\n",
       "\t<tr><td> 0.7</td><td>1   </td><td>1   </td></tr>\n",
       "\t<tr><td>-1.6</td><td>1   </td><td>2   </td></tr>\n",
       "\t<tr><td>-0.2</td><td>1   </td><td>3   </td></tr>\n",
       "\t<tr><td>-1.2</td><td>1   </td><td>4   </td></tr>\n",
       "\t<tr><td>-0.1</td><td>1   </td><td>5   </td></tr>\n",
       "\t<tr><td> 3.4</td><td>1   </td><td>6   </td></tr>\n",
       "</tbody>\n",
       "</table>\n"
      ],
      "text/latex": [
       "\\begin{tabular}{r|lll}\n",
       " extra & group & ID\\\\\n",
       "\\hline\n",
       "\t  0.7 & 1    & 1   \\\\\n",
       "\t -1.6 & 1    & 2   \\\\\n",
       "\t -0.2 & 1    & 3   \\\\\n",
       "\t -1.2 & 1    & 4   \\\\\n",
       "\t -0.1 & 1    & 5   \\\\\n",
       "\t  3.4 & 1    & 6   \\\\\n",
       "\\end{tabular}\n"
      ],
      "text/markdown": [
       "\n",
       "extra | group | ID | \n",
       "|---|---|---|---|---|---|\n",
       "|  0.7 | 1    | 1    | \n",
       "| -1.6 | 1    | 2    | \n",
       "| -0.2 | 1    | 3    | \n",
       "| -1.2 | 1    | 4    | \n",
       "| -0.1 | 1    | 5    | \n",
       "|  3.4 | 1    | 6    | \n",
       "\n",
       "\n"
      ],
      "text/plain": [
       "  extra group ID\n",
       "1  0.7  1     1 \n",
       "2 -1.6  1     2 \n",
       "3 -0.2  1     3 \n",
       "4 -1.2  1     4 \n",
       "5 -0.1  1     5 \n",
       "6  3.4  1     6 "
      ]
     },
     "metadata": {},
     "output_type": "display_data"
    }
   ],
   "source": [
    "head(sleep)"
   ]
  },
  {
   "cell_type": "code",
   "execution_count": 20,
   "metadata": {},
   "outputs": [],
   "source": [
    "sleep.equ <- extra ~ group"
   ]
  },
  {
   "cell_type": "code",
   "execution_count": 21,
   "metadata": {},
   "outputs": [],
   "source": [
    "liz <- lm(sleep.equ,sleep)"
   ]
  },
  {
   "cell_type": "code",
   "execution_count": 22,
   "metadata": {},
   "outputs": [
    {
     "data": {
      "text/html": [
       "<strong>$coefficients</strong> = <dl class=dl-horizontal>\n",
       "\t<dt>(Intercept)</dt>\n",
       "\t\t<dd>0.75</dd>\n",
       "\t<dt>group2</dt>\n",
       "\t\t<dd>1.58</dd>\n",
       "</dl>\n"
      ],
      "text/latex": [
       "\\textbf{\\$coefficients} = \\begin{description*}\n",
       "\\item[(Intercept)] 0.75\n",
       "\\item[group2] 1.58\n",
       "\\end{description*}\n"
      ],
      "text/markdown": [
       "**$coefficients** = (Intercept)\n",
       ":   0.75group2\n",
       ":   1.58\n",
       "\n"
      ],
      "text/plain": [
       "$coefficients\n",
       "(Intercept)      group2 \n",
       "       0.75        1.58 \n"
      ]
     },
     "metadata": {},
     "output_type": "display_data"
    }
   ],
   "source": [
    "liz[1]"
   ]
  },
  {
   "cell_type": "code",
   "execution_count": 23,
   "metadata": {},
   "outputs": [
    {
     "data": {
      "text/plain": [
       "   Min. 1st Qu.  Median    Mean 3rd Qu.    Max. \n",
       " -2.430  -1.305  -0.580   0.000   1.455   3.170 "
      ]
     },
     "metadata": {},
     "output_type": "display_data"
    }
   ],
   "source": [
    "summary(liz$residuals)"
   ]
  },
  {
   "cell_type": "code",
   "execution_count": 24,
   "metadata": {},
   "outputs": [
    {
     "data": {
      "text/html": [
       "<table>\n",
       "<thead><tr><th scope=col>temperature</th><th scope=col>pressure</th></tr></thead>\n",
       "<tbody>\n",
       "\t<tr><td>  0   </td><td>0.0002</td></tr>\n",
       "\t<tr><td> 20   </td><td>0.0012</td></tr>\n",
       "\t<tr><td> 40   </td><td>0.0060</td></tr>\n",
       "\t<tr><td> 60   </td><td>0.0300</td></tr>\n",
       "\t<tr><td> 80   </td><td>0.0900</td></tr>\n",
       "\t<tr><td>100   </td><td>0.2700</td></tr>\n",
       "</tbody>\n",
       "</table>\n"
      ],
      "text/latex": [
       "\\begin{tabular}{r|ll}\n",
       " temperature & pressure\\\\\n",
       "\\hline\n",
       "\t   0    & 0.0002\\\\\n",
       "\t  20    & 0.0012\\\\\n",
       "\t  40    & 0.0060\\\\\n",
       "\t  60    & 0.0300\\\\\n",
       "\t  80    & 0.0900\\\\\n",
       "\t 100    & 0.2700\\\\\n",
       "\\end{tabular}\n"
      ],
      "text/markdown": [
       "\n",
       "temperature | pressure | \n",
       "|---|---|---|---|---|---|\n",
       "|   0    | 0.0002 | \n",
       "|  20    | 0.0012 | \n",
       "|  40    | 0.0060 | \n",
       "|  60    | 0.0300 | \n",
       "|  80    | 0.0900 | \n",
       "| 100    | 0.2700 | \n",
       "\n",
       "\n"
      ],
      "text/plain": [
       "  temperature pressure\n",
       "1   0         0.0002  \n",
       "2  20         0.0012  \n",
       "3  40         0.0060  \n",
       "4  60         0.0300  \n",
       "5  80         0.0900  \n",
       "6 100         0.2700  "
      ]
     },
     "metadata": {},
     "output_type": "display_data"
    }
   ],
   "source": [
    "head(pressure)"
   ]
  },
  {
   "cell_type": "code",
   "execution_count": 35,
   "metadata": {},
   "outputs": [
    {
     "data": {
      "text/plain": [
       "   Min. 1st Qu.  Median    Mean 3rd Qu.    Max. \n",
       "-158.08 -117.06  -32.84    0.00   72.30  409.43 "
      ]
     },
     "metadata": {},
     "output_type": "display_data"
    }
   ],
   "source": [
    "equ.pressure <- pressure ~ temperature\n",
    "lim.pressure <- lm(equ.pressure,pressure)\n",
    "summary(lim.pressure$residuals)"
   ]
  },
  {
   "cell_type": "code",
   "execution_count": 36,
   "metadata": {},
   "outputs": [
    {
     "data": {
      "image/png": "[encoded data removed]",
      "text/plain": [
       "plot without title"
      ]
     },
     "metadata": {},
     "output_type": "display_data"
    }
   ],
   "source": [
    "plot(pressure$temperature,pressure$pressure)"
   ]
  },
  {
   "cell_type": "code",
   "execution_count": 67,
   "metadata": {},
   "outputs": [
    {
     "data": {
      "text/html": [
       "<table>\n",
       "<thead><tr><th scope=col>education</th><th scope=col>age</th><th scope=col>parity</th><th scope=col>induced</th><th scope=col>case</th><th scope=col>spontaneous</th><th scope=col>stratum</th><th scope=col>pooled.stratum</th></tr></thead>\n",
       "<tbody>\n",
       "\t<tr><td>0-5yrs </td><td>26     </td><td>6      </td><td>1      </td><td>1      </td><td>2      </td><td>1      </td><td> 3     </td></tr>\n",
       "\t<tr><td>0-5yrs </td><td>42     </td><td>1      </td><td>1      </td><td>1      </td><td>0      </td><td>2      </td><td> 1     </td></tr>\n",
       "\t<tr><td>0-5yrs </td><td>39     </td><td>6      </td><td>2      </td><td>1      </td><td>0      </td><td>3      </td><td> 4     </td></tr>\n",
       "\t<tr><td>0-5yrs </td><td>34     </td><td>4      </td><td>2      </td><td>1      </td><td>0      </td><td>4      </td><td> 2     </td></tr>\n",
       "\t<tr><td>6-11yrs</td><td>35     </td><td>3      </td><td>1      </td><td>1      </td><td>1      </td><td>5      </td><td>32     </td></tr>\n",
       "\t<tr><td>6-11yrs</td><td>36     </td><td>4      </td><td>2      </td><td>1      </td><td>1      </td><td>6      </td><td>36     </td></tr>\n",
       "</tbody>\n",
       "</table>\n"
      ],
      "text/latex": [
       "\\begin{tabular}{r|llllllll}\n",
       " education & age & parity & induced & case & spontaneous & stratum & pooled.stratum\\\\\n",
       "\\hline\n",
       "\t 0-5yrs  & 26      & 6       & 1       & 1       & 2       & 1       &  3     \\\\\n",
       "\t 0-5yrs  & 42      & 1       & 1       & 1       & 0       & 2       &  1     \\\\\n",
       "\t 0-5yrs  & 39      & 6       & 2       & 1       & 0       & 3       &  4     \\\\\n",
       "\t 0-5yrs  & 34      & 4       & 2       & 1       & 0       & 4       &  2     \\\\\n",
       "\t 6-11yrs & 35      & 3       & 1       & 1       & 1       & 5       & 32     \\\\\n",
       "\t 6-11yrs & 36      & 4       & 2       & 1       & 1       & 6       & 36     \\\\\n",
       "\\end{tabular}\n"
      ],
      "text/markdown": [
       "\n",
       "education | age | parity | induced | case | spontaneous | stratum | pooled.stratum | \n",
       "|---|---|---|---|---|---|\n",
       "| 0-5yrs  | 26      | 6       | 1       | 1       | 2       | 1       |  3      | \n",
       "| 0-5yrs  | 42      | 1       | 1       | 1       | 0       | 2       |  1      | \n",
       "| 0-5yrs  | 39      | 6       | 2       | 1       | 0       | 3       |  4      | \n",
       "| 0-5yrs  | 34      | 4       | 2       | 1       | 0       | 4       |  2      | \n",
       "| 6-11yrs | 35      | 3       | 1       | 1       | 1       | 5       | 32      | \n",
       "| 6-11yrs | 36      | 4       | 2       | 1       | 1       | 6       | 36      | \n",
       "\n",
       "\n"
      ],
      "text/plain": [
       "  education age parity induced case spontaneous stratum pooled.stratum\n",
       "1 0-5yrs    26  6      1       1    2           1        3            \n",
       "2 0-5yrs    42  1      1       1    0           2        1            \n",
       "3 0-5yrs    39  6      2       1    0           3        4            \n",
       "4 0-5yrs    34  4      2       1    0           4        2            \n",
       "5 6-11yrs   35  3      1       1    1           5       32            \n",
       "6 6-11yrs   36  4      2       1    1           6       36            "
      ]
     },
     "metadata": {},
     "output_type": "display_data"
    }
   ],
   "source": [
    "head(infert)"
   ]
  },
  {
   "cell_type": "code",
   "execution_count": 71,
   "metadata": {},
   "outputs": [
    {
     "data": {
      "text/html": [
       "<table>\n",
       "<thead><tr><th></th><th scope=col>education</th><th scope=col>age</th><th scope=col>parity</th><th scope=col>induced</th><th scope=col>case</th><th scope=col>spontaneous</th><th scope=col>stratum</th><th scope=col>pooled.stratum</th></tr></thead>\n",
       "<tbody>\n",
       "\t<tr><th scope=row>education</th><td> 1.000000000</td><td>-0.331606850</td><td>-0.291366509</td><td>-0.02390309 </td><td>0.002835283 </td><td> 0.07594847 </td><td> 0.875454205</td><td> 0.884098575</td></tr>\n",
       "\t<tr><th scope=row>age</th><td>-0.331606850</td><td> 1.000000000</td><td> 0.082795117</td><td>-0.10081920 </td><td>0.003530451 </td><td>-0.08427289 </td><td>-0.210093427</td><td>-0.174769382</td></tr>\n",
       "\t<tr><th scope=row>parity</th><td>-0.291366509</td><td> 0.082795117</td><td> 1.000000000</td><td> 0.44609185 </td><td>0.008910762 </td><td> 0.31238542 </td><td>-0.311240878</td><td> 0.119989464</td></tr>\n",
       "\t<tr><th scope=row>induced</th><td>-0.023903086</td><td>-0.100819200</td><td> 0.446091853</td><td> 1.00000000 </td><td>0.017112002 </td><td>-0.26852622 </td><td>-0.100799751</td><td> 0.162692616</td></tr>\n",
       "\t<tr><th scope=row>case</th><td> 0.002835283</td><td> 0.003530451</td><td> 0.008910762</td><td> 0.01711200 </td><td>1.000000000 </td><td> 0.36399763 </td><td> 0.003825897</td><td> 0.004861419</td></tr>\n",
       "\t<tr><th scope=row>spontaneous</th><td> 0.075948467</td><td>-0.084272890</td><td> 0.312385422</td><td>-0.26852622 </td><td>0.363997632 </td><td> 1.00000000 </td><td> 0.060748045</td><td> 0.212777807</td></tr>\n",
       "\t<tr><th scope=row>stratum</th><td> 0.875454205</td><td>-0.210093427</td><td>-0.311240878</td><td>-0.10079975 </td><td>0.003825897 </td><td> 0.06074804 </td><td> 1.000000000</td><td> 0.753010702</td></tr>\n",
       "\t<tr><th scope=row>pooled.stratum</th><td> 0.884098575</td><td>-0.174769382</td><td> 0.119989464</td><td> 0.16269262 </td><td>0.004861419 </td><td> 0.21277781 </td><td> 0.753010702</td><td> 1.000000000</td></tr>\n",
       "</tbody>\n",
       "</table>\n"
      ],
      "text/latex": [
       "\\begin{tabular}{r|llllllll}\n",
       "  & education & age & parity & induced & case & spontaneous & stratum & pooled.stratum\\\\\n",
       "\\hline\n",
       "\teducation &  1.000000000 & -0.331606850 & -0.291366509 & -0.02390309  & 0.002835283  &  0.07594847  &  0.875454205 &  0.884098575\\\\\n",
       "\tage & -0.331606850 &  1.000000000 &  0.082795117 & -0.10081920  & 0.003530451  & -0.08427289  & -0.210093427 & -0.174769382\\\\\n",
       "\tparity & -0.291366509 &  0.082795117 &  1.000000000 &  0.44609185  & 0.008910762  &  0.31238542  & -0.311240878 &  0.119989464\\\\\n",
       "\tinduced & -0.023903086 & -0.100819200 &  0.446091853 &  1.00000000  & 0.017112002  & -0.26852622  & -0.100799751 &  0.162692616\\\\\n",
       "\tcase &  0.002835283 &  0.003530451 &  0.008910762 &  0.01711200  & 1.000000000  &  0.36399763  &  0.003825897 &  0.004861419\\\\\n",
       "\tspontaneous &  0.075948467 & -0.084272890 &  0.312385422 & -0.26852622  & 0.363997632  &  1.00000000  &  0.060748045 &  0.212777807\\\\\n",
       "\tstratum &  0.875454205 & -0.210093427 & -0.311240878 & -0.10079975  & 0.003825897  &  0.06074804  &  1.000000000 &  0.753010702\\\\\n",
       "\tpooled.stratum &  0.884098575 & -0.174769382 &  0.119989464 &  0.16269262  & 0.004861419  &  0.21277781  &  0.753010702 &  1.000000000\\\\\n",
       "\\end{tabular}\n"
      ],
      "text/markdown": [
       "\n",
       "| <!--/--> | education | age | parity | induced | case | spontaneous | stratum | pooled.stratum | \n",
       "|---|---|---|---|---|---|---|---|\n",
       "| education |  1.000000000 | -0.331606850 | -0.291366509 | -0.02390309  | 0.002835283  |  0.07594847  |  0.875454205 |  0.884098575 | \n",
       "| age | -0.331606850 |  1.000000000 |  0.082795117 | -0.10081920  | 0.003530451  | -0.08427289  | -0.210093427 | -0.174769382 | \n",
       "| parity | -0.291366509 |  0.082795117 |  1.000000000 |  0.44609185  | 0.008910762  |  0.31238542  | -0.311240878 |  0.119989464 | \n",
       "| induced | -0.023903086 | -0.100819200 |  0.446091853 |  1.00000000  | 0.017112002  | -0.26852622  | -0.100799751 |  0.162692616 | \n",
       "| case |  0.002835283 |  0.003530451 |  0.008910762 |  0.01711200  | 1.000000000  |  0.36399763  |  0.003825897 |  0.004861419 | \n",
       "| spontaneous |  0.075948467 | -0.084272890 |  0.312385422 | -0.26852622  | 0.363997632  |  1.00000000  |  0.060748045 |  0.212777807 | \n",
       "| stratum |  0.875454205 | -0.210093427 | -0.311240878 | -0.10079975  | 0.003825897  |  0.06074804  |  1.000000000 |  0.753010702 | \n",
       "| pooled.stratum |  0.884098575 | -0.174769382 |  0.119989464 |  0.16269262  | 0.004861419  |  0.21277781  |  0.753010702 |  1.000000000 | \n",
       "\n",
       "\n"
      ],
      "text/plain": [
       "               education    age          parity       induced     case       \n",
       "education       1.000000000 -0.331606850 -0.291366509 -0.02390309 0.002835283\n",
       "age            -0.331606850  1.000000000  0.082795117 -0.10081920 0.003530451\n",
       "parity         -0.291366509  0.082795117  1.000000000  0.44609185 0.008910762\n",
       "induced        -0.023903086 -0.100819200  0.446091853  1.00000000 0.017112002\n",
       "case            0.002835283  0.003530451  0.008910762  0.01711200 1.000000000\n",
       "spontaneous     0.075948467 -0.084272890  0.312385422 -0.26852622 0.363997632\n",
       "stratum         0.875454205 -0.210093427 -0.311240878 -0.10079975 0.003825897\n",
       "pooled.stratum  0.884098575 -0.174769382  0.119989464  0.16269262 0.004861419\n",
       "               spontaneous stratum      pooled.stratum\n",
       "education       0.07594847  0.875454205  0.884098575  \n",
       "age            -0.08427289 -0.210093427 -0.174769382  \n",
       "parity          0.31238542 -0.311240878  0.119989464  \n",
       "induced        -0.26852622 -0.100799751  0.162692616  \n",
       "case            0.36399763  0.003825897  0.004861419  \n",
       "spontaneous     1.00000000  0.060748045  0.212777807  \n",
       "stratum         0.06074804  1.000000000  0.753010702  \n",
       "pooled.stratum  0.21277781  0.753010702  1.000000000  "
      ]
     },
     "metadata": {},
     "output_type": "display_data"
    }
   ],
   "source": [
    "mine <- infert\n",
    "mine$education <- as.numeric(mine$education)\n",
    "cor(mine)"
   ]
  },
  {
   "cell_type": "code",
   "execution_count": 45,
   "metadata": {},
   "outputs": [
    {
     "ename": "ERROR",
     "evalue": "Error in terms.formula(formula, data = data): invalid term in model formula\n",
     "output_type": "error",
     "traceback": [
      "Error in terms.formula(formula, data = data): invalid term in model formula\nTraceback:\n",
      "1. lm(os.equ, occupationalStatus)",
      "2. eval(mf, parent.frame())",
      "3. eval(mf, parent.frame())",
      "4. stats::model.frame(formula = os.equ, data = occupationalStatus, \n .     drop.unused.levels = TRUE)",
      "5. model.frame.default(formula = os.equ, data = occupationalStatus, \n .     drop.unused.levels = TRUE)",
      "6. terms(formula, data = data)",
      "7. terms.formula(formula, data = data)"
     ]
    }
   ],
   "source": [
    "os.equ <- 4 ~ 5 + 6\n",
    "os.lm <- lm(os.equ,occupationalStatus)\n",
    "summary(os.lm$residuals)"
   ]
  },
  {
   "cell_type": "code",
   "execution_count": null,
   "metadata": {},
   "outputs": [],
   "source": []
  }
 ],
 "metadata": {
  "kernelspec": {
   "display_name": "R",
   "language": "R",
   "name": "ir"
  },
  "language_info": {
   "codemirror_mode": "r",
   "file_extension": ".r",
   "mimetype": "text/x-r-source",
   "name": "R",
   "pygments_lexer": "r",
   "version": "3.5.1"
  }
 },
 "nbformat": 4,
 "nbformat_minor": 2
}
