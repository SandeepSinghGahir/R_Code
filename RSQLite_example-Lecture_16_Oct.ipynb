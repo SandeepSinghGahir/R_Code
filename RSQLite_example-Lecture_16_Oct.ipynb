{
 "cells": [
  {
   "cell_type": "markdown",
   "metadata": {},
   "source": [
    "# Using RSQLite\n",
    "RSQLite is a local personal database package. You may place data in it, or use it to access a data base on disk. I will access a database called bnames.sqlite\n",
    "\n",
    "First, we need to include the library, and then\n",
    "we need to connect to the data base\n"
   ]
  },
  {
   "cell_type": "code",
   "execution_count": 1,
   "metadata": {},
   "outputs": [],
   "source": [
    "#install.packages(\"RSQLite\")\n",
    "library(RSQLite)"
   ]
  },
  {
   "cell_type": "markdown",
   "metadata": {},
   "source": [
    "Connect to the database\n",
    "\n",
    "SQLite() returns a 'connector' that knows how to talk to an SQLite database.\n",
    "\n",
    "After getting a 'connection' to a database, ask the database what tables it has, and what fields it has.\n"
   ]
  },
  {
   "cell_type": "code",
   "execution_count": 2,
   "metadata": {},
   "outputs": [],
   "source": [
    "conn.baby <- dbConnect(SQLite(),\"bnames.sqlite\")"
   ]
  },
  {
   "cell_type": "code",
   "execution_count": 3,
   "metadata": {},
   "outputs": [
    {
     "data": {
      "text/html": [
       "'babyNames'"
      ],
      "text/latex": [
       "'babyNames'"
      ],
      "text/markdown": [
       "'babyNames'"
      ],
      "text/plain": [
       "[1] \"babyNames\""
      ]
     },
     "metadata": {},
     "output_type": "display_data"
    }
   ],
   "source": [
    "# a table is like a database version of a data frame.\n",
    "#\n",
    "# in a database, table, \n",
    "#   rows are called records\n",
    "#   cols are called fields\n",
    "dbListTables(conn.baby)"
   ]
  },
  {
   "cell_type": "code",
   "execution_count": 4,
   "metadata": {},
   "outputs": [
    {
     "data": {
      "text/html": [
       "<ol class=list-inline>\n",
       "\t<li>'Name'</li>\n",
       "\t<li>'Sex'</li>\n",
       "\t<li>'Count'</li>\n",
       "\t<li>'Year'</li>\n",
       "</ol>\n"
      ],
      "text/latex": [
       "\\begin{enumerate*}\n",
       "\\item 'Name'\n",
       "\\item 'Sex'\n",
       "\\item 'Count'\n",
       "\\item 'Year'\n",
       "\\end{enumerate*}\n"
      ],
      "text/markdown": [
       "1. 'Name'\n",
       "2. 'Sex'\n",
       "3. 'Count'\n",
       "4. 'Year'\n",
       "\n",
       "\n"
      ],
      "text/plain": [
       "[1] \"Name\"  \"Sex\"   \"Count\" \"Year\" "
      ]
     },
     "metadata": {},
     "output_type": "display_data"
    }
   ],
   "source": [
    "dbListFields(conn.baby,'babyNames')"
   ]
  },
  {
   "cell_type": "markdown",
   "metadata": {},
   "source": [
    "An SQL query is used SQLto get things from the database.  All the data doesn't have to be brought into memory at once. It is fetched from the disk as needed.\n",
    "\n",
    "SQL stands for structed query language. It is a text based method to describe how to get, modify, or delete data. The first command to try is 'select'\n",
    "\n",
    "select means to get something from the database. We will select which data is desired. The bnames database is all the files from the baby names assignment placed in one database. The table from above is 'babyNames', it has fields names 'Name', 'Sex', 'Count', and 'Year' \n",
    "\n",
    "After select, indicate which fields (cols to us) is desired. This is a comma separated list....\n",
    "\n",
    "\"select Year,Count .... \"\n",
    "\n",
    "Next indicate which database to get the data from\n",
    "\n",
    "\"select Year,Count from babyNames ...\"\n",
    "\n",
    "The use a where clause to indicate which data is desired. This feels like R selection except there are no $ signs.\n",
    "\n",
    "\"select Year,Count from babyNames where Name='Morris' and Sex='M' ...\n",
    "\n",
    "If you want the returned data to be sorted, add order by, and a field list. End it all with a semicolon.\n",
    "\n",
    "\"select Year,Count from babyNames where Name='Morris' and Sex='M order by Year ;\""
   ]
  },
  {
   "cell_type": "code",
   "execution_count": 10,
   "metadata": {},
   "outputs": [],
   "source": [
    "mojos <- dbGetQuery(conn.baby,\"select Year,Count from babyNames \n",
    "where Name='Morris' and Sex='M' order by Year ;\")"
   ]
  },
  {
   "cell_type": "code",
   "execution_count": 11,
   "metadata": {},
   "outputs": [
    {
     "name": "stdout",
     "output_type": "stream",
     "text": [
      "'data.frame':\t126 obs. of  2 variables:\n",
      " $ Year : int  1885 1886 1887 1888 1889 1890 1891 1892 1893 1894 ...\n",
      " $ Count: int  99 96 95 95 112 93 97 136 113 122 ...\n"
     ]
    },
    {
     "data": {
      "text/html": [
       "<table>\n",
       "<thead><tr><th scope=col>Year</th><th scope=col>Count</th></tr></thead>\n",
       "<tbody>\n",
       "\t<tr><td>1885</td><td> 99 </td></tr>\n",
       "\t<tr><td>1886</td><td> 96 </td></tr>\n",
       "\t<tr><td>1887</td><td> 95 </td></tr>\n",
       "\t<tr><td>1888</td><td> 95 </td></tr>\n",
       "\t<tr><td>1889</td><td>112 </td></tr>\n",
       "\t<tr><td>1890</td><td> 93 </td></tr>\n",
       "</tbody>\n",
       "</table>\n"
      ],
      "text/latex": [
       "\\begin{tabular}{r|ll}\n",
       " Year & Count\\\\\n",
       "\\hline\n",
       "\t 1885 &  99 \\\\\n",
       "\t 1886 &  96 \\\\\n",
       "\t 1887 &  95 \\\\\n",
       "\t 1888 &  95 \\\\\n",
       "\t 1889 & 112 \\\\\n",
       "\t 1890 &  93 \\\\\n",
       "\\end{tabular}\n"
      ],
      "text/markdown": [
       "\n",
       "Year | Count | \n",
       "|---|---|---|---|---|---|\n",
       "| 1885 |  99  | \n",
       "| 1886 |  96  | \n",
       "| 1887 |  95  | \n",
       "| 1888 |  95  | \n",
       "| 1889 | 112  | \n",
       "| 1890 |  93  | \n",
       "\n",
       "\n"
      ],
      "text/plain": [
       "  Year Count\n",
       "1 1885  99  \n",
       "2 1886  96  \n",
       "3 1887  95  \n",
       "4 1888  95  \n",
       "5 1889 112  \n",
       "6 1890  93  "
      ]
     },
     "metadata": {},
     "output_type": "display_data"
    }
   ],
   "source": [
    "str(mojos)\n",
    "head(mojos)"
   ]
  },
  {
   "cell_type": "code",
   "execution_count": 7,
   "metadata": {
    "scrolled": false
   },
   "outputs": [
    {
     "data": {
      "image/png": "[encoded data removed]",
      "text/plain": [
       "plot without title"
      ]
     },
     "metadata": {},
     "output_type": "display_data"
    }
   ],
   "source": [
    "plot(mojos,type=\"l\",col=\"green\")"
   ]
  },
  {
   "cell_type": "markdown",
   "metadata": {},
   "source": [
    "You can also do some simple math on the data, and have the result returned. The math is done on the database server."
   ]
  },
  {
   "cell_type": "code",
   "execution_count": 12,
   "metadata": {},
   "outputs": [
    {
     "data": {
      "text/html": [
       "<table>\n",
       "<thead><tr><th scope=col>sum(Count)</th><th scope=col>count(Year)</th></tr></thead>\n",
       "<tbody>\n",
       "\t<tr><td>69133</td><td>126  </td></tr>\n",
       "</tbody>\n",
       "</table>\n"
      ],
      "text/latex": [
       "\\begin{tabular}{r|ll}\n",
       " sum(Count) & count(Year)\\\\\n",
       "\\hline\n",
       "\t 69133 & 126  \\\\\n",
       "\\end{tabular}\n"
      ],
      "text/markdown": [
       "\n",
       "sum(Count) | count(Year) | \n",
       "|---|\n",
       "| 69133 | 126   | \n",
       "\n",
       "\n"
      ],
      "text/plain": [
       "  sum(Count) count(Year)\n",
       "1 69133      126        "
      ]
     },
     "metadata": {},
     "output_type": "display_data"
    }
   ],
   "source": [
    "dbGetQuery(conn.baby,\"select sum(Count),count(Year) from babyNames \n",
    "where Name='Morris' and Sex='M' order by Year ;\")"
   ]
  },
  {
   "cell_type": "markdown",
   "metadata": {},
   "source": [
    "It will confuse things if you have a field named the same as the math commands. You can have both calculated and non calculated values in a select."
   ]
  },
  {
   "cell_type": "code",
   "execution_count": 14,
   "metadata": {},
   "outputs": [
    {
     "data": {
      "text/html": [
       "<table>\n",
       "<thead><tr><th scope=col>Year*Count</th><th scope=col>Year</th><th scope=col>Count</th></tr></thead>\n",
       "<tbody>\n",
       "\t<tr><td>186615</td><td>1885  </td><td> 99   </td></tr>\n",
       "\t<tr><td>181056</td><td>1886  </td><td> 96   </td></tr>\n",
       "\t<tr><td>179265</td><td>1887  </td><td> 95   </td></tr>\n",
       "\t<tr><td>179360</td><td>1888  </td><td> 95   </td></tr>\n",
       "\t<tr><td>211568</td><td>1889  </td><td>112   </td></tr>\n",
       "\t<tr><td>175770</td><td>1890  </td><td> 93   </td></tr>\n",
       "</tbody>\n",
       "</table>\n"
      ],
      "text/latex": [
       "\\begin{tabular}{r|lll}\n",
       " Year*Count & Year & Count\\\\\n",
       "\\hline\n",
       "\t 186615 & 1885   &  99   \\\\\n",
       "\t 181056 & 1886   &  96   \\\\\n",
       "\t 179265 & 1887   &  95   \\\\\n",
       "\t 179360 & 1888   &  95   \\\\\n",
       "\t 211568 & 1889   & 112   \\\\\n",
       "\t 175770 & 1890   &  93   \\\\\n",
       "\\end{tabular}\n"
      ],
      "text/markdown": [
       "\n",
       "Year*Count | Year | Count | \n",
       "|---|---|---|---|---|---|\n",
       "| 186615 | 1885   |  99    | \n",
       "| 181056 | 1886   |  96    | \n",
       "| 179265 | 1887   |  95    | \n",
       "| 179360 | 1888   |  95    | \n",
       "| 211568 | 1889   | 112    | \n",
       "| 175770 | 1890   |  93    | \n",
       "\n",
       "\n"
      ],
      "text/plain": [
       "  Year*Count Year Count\n",
       "1 186615     1885  99  \n",
       "2 181056     1886  96  \n",
       "3 179265     1887  95  \n",
       "4 179360     1888  95  \n",
       "5 211568     1889 112  \n",
       "6 175770     1890  93  "
      ]
     },
     "metadata": {},
     "output_type": "display_data"
    }
   ],
   "source": [
    "head(dbGetQuery(conn.baby,\"select Year*Count,year,count from babyNames \n",
    "where Name='Morris' and Sex='M' order by Year ;\"))"
   ]
  },
  {
   "cell_type": "code",
   "execution_count": 8,
   "metadata": {},
   "outputs": [
    {
     "data": {
      "text/html": [
       "<table>\n",
       "<thead><tr><th scope=col>Name</th><th scope=col>cnt</th></tr></thead>\n",
       "<tbody>\n",
       "\t<tr><td>Jacob    </td><td>22082    </td></tr>\n",
       "\t<tr><td>Ethan    </td><td>17985    </td></tr>\n",
       "\t<tr><td>Michael  </td><td>17308    </td></tr>\n",
       "\t<tr><td>Jayden   </td><td>17152    </td></tr>\n",
       "\t<tr><td>William  </td><td>17030    </td></tr>\n",
       "\t<tr><td>Alexander</td><td>16742    </td></tr>\n",
       "</tbody>\n",
       "</table>\n"
      ],
      "text/latex": [
       "\\begin{tabular}{r|ll}\n",
       " Name & cnt\\\\\n",
       "\\hline\n",
       "\t Jacob     & 22082    \\\\\n",
       "\t Ethan     & 17985    \\\\\n",
       "\t Michael   & 17308    \\\\\n",
       "\t Jayden    & 17152    \\\\\n",
       "\t William   & 17030    \\\\\n",
       "\t Alexander & 16742    \\\\\n",
       "\\end{tabular}\n"
      ],
      "text/markdown": [
       "\n",
       "Name | cnt | \n",
       "|---|---|---|---|---|---|\n",
       "| Jacob     | 22082     | \n",
       "| Ethan     | 17985     | \n",
       "| Michael   | 17308     | \n",
       "| Jayden    | 17152     | \n",
       "| William   | 17030     | \n",
       "| Alexander | 16742     | \n",
       "\n",
       "\n"
      ],
      "text/plain": [
       "  Name      cnt  \n",
       "1 Jacob     22082\n",
       "2 Ethan     17985\n",
       "3 Michael   17308\n",
       "4 Jayden    17152\n",
       "5 William   17030\n",
       "6 Alexander 16742"
      ]
     },
     "metadata": {},
     "output_type": "display_data"
    }
   ],
   "source": [
    "head(dbGetQuery(conn.baby,\"select Name,count as cnt from babyNames group by Name order by cnt desc ;\"))"
   ]
  },
  {
   "cell_type": "code",
   "execution_count": 9,
   "metadata": {},
   "outputs": [
    {
     "data": {
      "text/html": [
       "<table>\n",
       "<thead><tr><th scope=col>count(*)</th></tr></thead>\n",
       "<tbody>\n",
       "\t<tr><td>70</td></tr>\n",
       "</tbody>\n",
       "</table>\n"
      ],
      "text/latex": [
       "\\begin{tabular}{r|l}\n",
       " count(*)\\\\\n",
       "\\hline\n",
       "\t 70\\\\\n",
       "\\end{tabular}\n"
      ],
      "text/markdown": [
       "\n",
       "count(*) | \n",
       "|---|\n",
       "| 70 | \n",
       "\n",
       "\n"
      ],
      "text/plain": [
       "  count(*)\n",
       "1 70      "
      ]
     },
     "metadata": {},
     "output_type": "display_data"
    }
   ],
   "source": [
    "head(dbGetQuery(conn.baby,\"select count(*) from babyNames where Name='Chanel';\"))"
   ]
  },
  {
   "cell_type": "code",
   "execution_count": null,
   "metadata": {},
   "outputs": [],
   "source": []
  }
 ],
 "metadata": {
  "kernelspec": {
   "display_name": "R",
   "language": "R",
   "name": "ir"
  },
  "language_info": {
   "codemirror_mode": "r",
   "file_extension": ".r",
   "mimetype": "text/x-r-source",
   "name": "R",
   "pygments_lexer": "r",
   "version": "3.5.1"
  }
 },
 "nbformat": 4,
 "nbformat_minor": 2
}
