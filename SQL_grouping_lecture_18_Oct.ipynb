{
 "cells": [
  {
   "cell_type": "code",
   "execution_count": 1,
   "metadata": {},
   "outputs": [
    {
     "name": "stderr",
     "output_type": "stream",
     "text": [
      "Loading required package: DBI\n"
     ]
    }
   ],
   "source": [
    "library(RMySQL)"
   ]
  },
  {
   "cell_type": "code",
   "execution_count": 4,
   "metadata": {},
   "outputs": [],
   "source": [
    "dbc<-dbConnect(MySQL(),user='students',password='WeLoveR',dbname='engr122')"
   ]
  },
  {
   "cell_type": "code",
   "execution_count": 5,
   "metadata": {},
   "outputs": [
    {
     "data": {
      "text/html": [
       "<ol class=list-inline>\n",
       "\t<li>'babynames'</li>\n",
       "\t<li>'physc'</li>\n",
       "</ol>\n"
      ],
      "text/latex": [
       "\\begin{enumerate*}\n",
       "\\item 'babynames'\n",
       "\\item 'physc'\n",
       "\\end{enumerate*}\n"
      ],
      "text/markdown": [
       "1. 'babynames'\n",
       "2. 'physc'\n",
       "\n",
       "\n"
      ],
      "text/plain": [
       "[1] \"babynames\" \"physc\"    "
      ]
     },
     "metadata": {},
     "output_type": "display_data"
    }
   ],
   "source": [
    "dbListTables(dbc)"
   ]
  },
  {
   "cell_type": "code",
   "execution_count": 6,
   "metadata": {},
   "outputs": [
    {
     "data": {
      "text/html": [
       "<ol class=list-inline>\n",
       "\t<li>'row_names'</li>\n",
       "\t<li>'CASEID'</li>\n",
       "\t<li>'YEAR'</li>\n",
       "\t<li>'AGE'</li>\n",
       "\t<li>'GENDER'</li>\n",
       "\t<li>'RACE'</li>\n",
       "\t<li>'ETHNIC'</li>\n",
       "\t<li>'MARSTAT'</li>\n",
       "\t<li>'EDUC'</li>\n",
       "\t<li>'EMPLOY'</li>\n",
       "\t<li>'DETNLF'</li>\n",
       "\t<li>'PREG'</li>\n",
       "\t<li>'VET'</li>\n",
       "\t<li>'LIVARAG'</li>\n",
       "\t<li>'PRIMINC'</li>\n",
       "\t<li>'ARRESTS'</li>\n",
       "\t<li>'STFIPS'</li>\n",
       "\t<li>'CBSA'</li>\n",
       "\t<li>'PMSA'</li>\n",
       "\t<li>'REGION'</li>\n",
       "\t<li>'DIVISION'</li>\n",
       "\t<li>'SERVSETA'</li>\n",
       "\t<li>'METHUSE'</li>\n",
       "\t<li>'DAYWAIT'</li>\n",
       "\t<li>'PSOURCE'</li>\n",
       "\t<li>'DETCRIM'</li>\n",
       "\t<li>'NOPRIOR'</li>\n",
       "\t<li>'SUB1'</li>\n",
       "\t<li>'ROUTE1'</li>\n",
       "\t<li>'FREQ1'</li>\n",
       "\t<li>'FRSTUSE1'</li>\n",
       "\t<li>'SUB2'</li>\n",
       "\t<li>'ROUTE2'</li>\n",
       "\t<li>'FREQ2'</li>\n",
       "\t<li>'FRSTUSE2'</li>\n",
       "\t<li>'SUB3'</li>\n",
       "\t<li>'ROUTE3'</li>\n",
       "\t<li>'FREQ3'</li>\n",
       "\t<li>'FRSTUSE3'</li>\n",
       "\t<li>'NUMSUBS'</li>\n",
       "\t<li>'IDU'</li>\n",
       "\t<li>'ALCFLG'</li>\n",
       "\t<li>'COKEFLG'</li>\n",
       "\t<li>'MARFLG'</li>\n",
       "\t<li>'HERFLG'</li>\n",
       "\t<li>'METHFLG'</li>\n",
       "\t<li>'OPSYNFLG'</li>\n",
       "\t<li>'PCPFLG'</li>\n",
       "\t<li>'HALLFLG'</li>\n",
       "\t<li>'MTHAMFLG'</li>\n",
       "\t<li>'AMPHFLG'</li>\n",
       "\t<li>'STIMFLG'</li>\n",
       "\t<li>'BENZFLG'</li>\n",
       "\t<li>'TRNQFLG'</li>\n",
       "\t<li>'BARBFLG'</li>\n",
       "\t<li>'SEDHPFLG'</li>\n",
       "\t<li>'INHFLG'</li>\n",
       "\t<li>'OTCFLG'</li>\n",
       "\t<li>'OTHERFLG'</li>\n",
       "\t<li>'ALCDRUG'</li>\n",
       "\t<li>'DSMCRIT'</li>\n",
       "\t<li>'PSYPROB'</li>\n",
       "\t<li>'HLTHINS'</li>\n",
       "\t<li>'PRIMPAY'</li>\n",
       "</ol>\n"
      ],
      "text/latex": [
       "\\begin{enumerate*}\n",
       "\\item 'row\\_names'\n",
       "\\item 'CASEID'\n",
       "\\item 'YEAR'\n",
       "\\item 'AGE'\n",
       "\\item 'GENDER'\n",
       "\\item 'RACE'\n",
       "\\item 'ETHNIC'\n",
       "\\item 'MARSTAT'\n",
       "\\item 'EDUC'\n",
       "\\item 'EMPLOY'\n",
       "\\item 'DETNLF'\n",
       "\\item 'PREG'\n",
       "\\item 'VET'\n",
       "\\item 'LIVARAG'\n",
       "\\item 'PRIMINC'\n",
       "\\item 'ARRESTS'\n",
       "\\item 'STFIPS'\n",
       "\\item 'CBSA'\n",
       "\\item 'PMSA'\n",
       "\\item 'REGION'\n",
       "\\item 'DIVISION'\n",
       "\\item 'SERVSETA'\n",
       "\\item 'METHUSE'\n",
       "\\item 'DAYWAIT'\n",
       "\\item 'PSOURCE'\n",
       "\\item 'DETCRIM'\n",
       "\\item 'NOPRIOR'\n",
       "\\item 'SUB1'\n",
       "\\item 'ROUTE1'\n",
       "\\item 'FREQ1'\n",
       "\\item 'FRSTUSE1'\n",
       "\\item 'SUB2'\n",
       "\\item 'ROUTE2'\n",
       "\\item 'FREQ2'\n",
       "\\item 'FRSTUSE2'\n",
       "\\item 'SUB3'\n",
       "\\item 'ROUTE3'\n",
       "\\item 'FREQ3'\n",
       "\\item 'FRSTUSE3'\n",
       "\\item 'NUMSUBS'\n",
       "\\item 'IDU'\n",
       "\\item 'ALCFLG'\n",
       "\\item 'COKEFLG'\n",
       "\\item 'MARFLG'\n",
       "\\item 'HERFLG'\n",
       "\\item 'METHFLG'\n",
       "\\item 'OPSYNFLG'\n",
       "\\item 'PCPFLG'\n",
       "\\item 'HALLFLG'\n",
       "\\item 'MTHAMFLG'\n",
       "\\item 'AMPHFLG'\n",
       "\\item 'STIMFLG'\n",
       "\\item 'BENZFLG'\n",
       "\\item 'TRNQFLG'\n",
       "\\item 'BARBFLG'\n",
       "\\item 'SEDHPFLG'\n",
       "\\item 'INHFLG'\n",
       "\\item 'OTCFLG'\n",
       "\\item 'OTHERFLG'\n",
       "\\item 'ALCDRUG'\n",
       "\\item 'DSMCRIT'\n",
       "\\item 'PSYPROB'\n",
       "\\item 'HLTHINS'\n",
       "\\item 'PRIMPAY'\n",
       "\\end{enumerate*}\n"
      ],
      "text/markdown": [
       "1. 'row_names'\n",
       "2. 'CASEID'\n",
       "3. 'YEAR'\n",
       "4. 'AGE'\n",
       "5. 'GENDER'\n",
       "6. 'RACE'\n",
       "7. 'ETHNIC'\n",
       "8. 'MARSTAT'\n",
       "9. 'EDUC'\n",
       "10. 'EMPLOY'\n",
       "11. 'DETNLF'\n",
       "12. 'PREG'\n",
       "13. 'VET'\n",
       "14. 'LIVARAG'\n",
       "15. 'PRIMINC'\n",
       "16. 'ARRESTS'\n",
       "17. 'STFIPS'\n",
       "18. 'CBSA'\n",
       "19. 'PMSA'\n",
       "20. 'REGION'\n",
       "21. 'DIVISION'\n",
       "22. 'SERVSETA'\n",
       "23. 'METHUSE'\n",
       "24. 'DAYWAIT'\n",
       "25. 'PSOURCE'\n",
       "26. 'DETCRIM'\n",
       "27. 'NOPRIOR'\n",
       "28. 'SUB1'\n",
       "29. 'ROUTE1'\n",
       "30. 'FREQ1'\n",
       "31. 'FRSTUSE1'\n",
       "32. 'SUB2'\n",
       "33. 'ROUTE2'\n",
       "34. 'FREQ2'\n",
       "35. 'FRSTUSE2'\n",
       "36. 'SUB3'\n",
       "37. 'ROUTE3'\n",
       "38. 'FREQ3'\n",
       "39. 'FRSTUSE3'\n",
       "40. 'NUMSUBS'\n",
       "41. 'IDU'\n",
       "42. 'ALCFLG'\n",
       "43. 'COKEFLG'\n",
       "44. 'MARFLG'\n",
       "45. 'HERFLG'\n",
       "46. 'METHFLG'\n",
       "47. 'OPSYNFLG'\n",
       "48. 'PCPFLG'\n",
       "49. 'HALLFLG'\n",
       "50. 'MTHAMFLG'\n",
       "51. 'AMPHFLG'\n",
       "52. 'STIMFLG'\n",
       "53. 'BENZFLG'\n",
       "54. 'TRNQFLG'\n",
       "55. 'BARBFLG'\n",
       "56. 'SEDHPFLG'\n",
       "57. 'INHFLG'\n",
       "58. 'OTCFLG'\n",
       "59. 'OTHERFLG'\n",
       "60. 'ALCDRUG'\n",
       "61. 'DSMCRIT'\n",
       "62. 'PSYPROB'\n",
       "63. 'HLTHINS'\n",
       "64. 'PRIMPAY'\n",
       "\n",
       "\n"
      ],
      "text/plain": [
       " [1] \"row_names\" \"CASEID\"    \"YEAR\"      \"AGE\"       \"GENDER\"    \"RACE\"     \n",
       " [7] \"ETHNIC\"    \"MARSTAT\"   \"EDUC\"      \"EMPLOY\"    \"DETNLF\"    \"PREG\"     \n",
       "[13] \"VET\"       \"LIVARAG\"   \"PRIMINC\"   \"ARRESTS\"   \"STFIPS\"    \"CBSA\"     \n",
       "[19] \"PMSA\"      \"REGION\"    \"DIVISION\"  \"SERVSETA\"  \"METHUSE\"   \"DAYWAIT\"  \n",
       "[25] \"PSOURCE\"   \"DETCRIM\"   \"NOPRIOR\"   \"SUB1\"      \"ROUTE1\"    \"FREQ1\"    \n",
       "[31] \"FRSTUSE1\"  \"SUB2\"      \"ROUTE2\"    \"FREQ2\"     \"FRSTUSE2\"  \"SUB3\"     \n",
       "[37] \"ROUTE3\"    \"FREQ3\"     \"FRSTUSE3\"  \"NUMSUBS\"   \"IDU\"       \"ALCFLG\"   \n",
       "[43] \"COKEFLG\"   \"MARFLG\"    \"HERFLG\"    \"METHFLG\"   \"OPSYNFLG\"  \"PCPFLG\"   \n",
       "[49] \"HALLFLG\"   \"MTHAMFLG\"  \"AMPHFLG\"   \"STIMFLG\"   \"BENZFLG\"   \"TRNQFLG\"  \n",
       "[55] \"BARBFLG\"   \"SEDHPFLG\"  \"INHFLG\"    \"OTCFLG\"    \"OTHERFLG\"  \"ALCDRUG\"  \n",
       "[61] \"DSMCRIT\"   \"PSYPROB\"   \"HLTHINS\"   \"PRIMPAY\"  "
      ]
     },
     "metadata": {},
     "output_type": "display_data"
    }
   ],
   "source": [
    "dbListFields(dbc,'physc')"
   ]
  },
  {
   "cell_type": "code",
   "execution_count": 7,
   "metadata": {},
   "outputs": [
    {
     "data": {
      "text/html": [
       "<table>\n",
       "<thead><tr><th scope=col>count(CASEID)</th></tr></thead>\n",
       "<tbody>\n",
       "\t<tr><td>1749767</td></tr>\n",
       "</tbody>\n",
       "</table>\n"
      ],
      "text/latex": [
       "\\begin{tabular}{r|l}\n",
       " count(CASEID)\\\\\n",
       "\\hline\n",
       "\t 1749767\\\\\n",
       "\\end{tabular}\n"
      ],
      "text/markdown": [
       "\n",
       "count(CASEID) | \n",
       "|---|\n",
       "| 1749767 | \n",
       "\n",
       "\n"
      ],
      "text/plain": [
       "  count(CASEID)\n",
       "1 1749767      "
      ]
     },
     "metadata": {},
     "output_type": "display_data"
    }
   ],
   "source": [
    "dbGetQuery(dbc,\"select count(CASEID) from physc;\")"
   ]
  },
  {
   "cell_type": "code",
   "execution_count": 8,
   "metadata": {},
   "outputs": [
    {
     "data": {
      "text/html": [
       "<table>\n",
       "<thead><tr><th scope=col>EMPLOY</th></tr></thead>\n",
       "<tbody>\n",
       "\t<tr><td>NA                    </td></tr>\n",
       "\t<tr><td>(1) FULL TIME         </td></tr>\n",
       "\t<tr><td>(2) PART TIME         </td></tr>\n",
       "\t<tr><td>(3) UNEMPLOYED        </td></tr>\n",
       "\t<tr><td>(4) NOT IN LABOR FORCE</td></tr>\n",
       "</tbody>\n",
       "</table>\n"
      ],
      "text/latex": [
       "\\begin{tabular}{r|l}\n",
       " EMPLOY\\\\\n",
       "\\hline\n",
       "\t NA                    \\\\\n",
       "\t (1) FULL TIME         \\\\\n",
       "\t (2) PART TIME         \\\\\n",
       "\t (3) UNEMPLOYED        \\\\\n",
       "\t (4) NOT IN LABOR FORCE\\\\\n",
       "\\end{tabular}\n"
      ],
      "text/markdown": [
       "\n",
       "EMPLOY | \n",
       "|---|---|---|---|---|\n",
       "| NA                     | \n",
       "| (1) FULL TIME          | \n",
       "| (2) PART TIME          | \n",
       "| (3) UNEMPLOYED         | \n",
       "| (4) NOT IN LABOR FORCE | \n",
       "\n",
       "\n"
      ],
      "text/plain": [
       "  EMPLOY                \n",
       "1 NA                    \n",
       "2 (1) FULL TIME         \n",
       "3 (2) PART TIME         \n",
       "4 (3) UNEMPLOYED        \n",
       "5 (4) NOT IN LABOR FORCE"
      ]
     },
     "metadata": {},
     "output_type": "display_data"
    }
   ],
   "source": [
    "dbGetQuery(dbc,\"select EMPLOY from physc group by EMPLOY\")"
   ]
  },
  {
   "cell_type": "code",
   "execution_count": 9,
   "metadata": {},
   "outputs": [
    {
     "data": {
      "text/html": [
       "<table>\n",
       "<thead><tr><th scope=col>EMPLOY</th><th scope=col>count(EMPLOY)</th></tr></thead>\n",
       "<tbody>\n",
       "\t<tr><td>NA                    </td><td>     0                </td></tr>\n",
       "\t<tr><td>(1) FULL TIME         </td><td>249987                </td></tr>\n",
       "\t<tr><td>(2) PART TIME         </td><td>124000                </td></tr>\n",
       "\t<tr><td>(3) UNEMPLOYED        </td><td>655694                </td></tr>\n",
       "\t<tr><td>(4) NOT IN LABOR FORCE</td><td>680052                </td></tr>\n",
       "</tbody>\n",
       "</table>\n"
      ],
      "text/latex": [
       "\\begin{tabular}{r|ll}\n",
       " EMPLOY & count(EMPLOY)\\\\\n",
       "\\hline\n",
       "\t NA                     &      0                \\\\\n",
       "\t (1) FULL TIME          & 249987                \\\\\n",
       "\t (2) PART TIME          & 124000                \\\\\n",
       "\t (3) UNEMPLOYED         & 655694                \\\\\n",
       "\t (4) NOT IN LABOR FORCE & 680052                \\\\\n",
       "\\end{tabular}\n"
      ],
      "text/markdown": [
       "\n",
       "EMPLOY | count(EMPLOY) | \n",
       "|---|---|---|---|---|\n",
       "| NA                     |      0                 | \n",
       "| (1) FULL TIME          | 249987                 | \n",
       "| (2) PART TIME          | 124000                 | \n",
       "| (3) UNEMPLOYED         | 655694                 | \n",
       "| (4) NOT IN LABOR FORCE | 680052                 | \n",
       "\n",
       "\n"
      ],
      "text/plain": [
       "  EMPLOY                 count(EMPLOY)\n",
       "1 NA                          0       \n",
       "2 (1) FULL TIME          249987       \n",
       "3 (2) PART TIME          124000       \n",
       "4 (3) UNEMPLOYED         655694       \n",
       "5 (4) NOT IN LABOR FORCE 680052       "
      ]
     },
     "metadata": {},
     "output_type": "display_data"
    }
   ],
   "source": [
    "dbGetQuery(dbc,\"select EMPLOY,count(EMPLOY) from physc group by EMPLOY;\")"
   ]
  },
  {
   "cell_type": "code",
   "execution_count": 10,
   "metadata": {},
   "outputs": [
    {
     "data": {
      "text/html": [
       "<table>\n",
       "<thead><tr><th scope=col>RACE</th><th scope=col>count(RACE)</th></tr></thead>\n",
       "<tbody>\n",
       "\t<tr><td>NA                                            </td><td>      0                                       </td></tr>\n",
       "\t<tr><td>(1) ALASKA NATIVE (ALEUT, ESKIMO, INDIAN)     </td><td>   3457                                       </td></tr>\n",
       "\t<tr><td>(13) ASIAN                                    </td><td>  11000                                       </td></tr>\n",
       "\t<tr><td>(2) AMERICAN INDIAN (OTHER THAN ALASKA NATIVE)</td><td>  40119                                       </td></tr>\n",
       "\t<tr><td>(20) OTHER SINGLE RACE                        </td><td> 137759                                       </td></tr>\n",
       "\t<tr><td>(21) TWO OR MORE RACES                        </td><td>  22612                                       </td></tr>\n",
       "\t<tr><td>(23) NATIVE HAWAIIAN OR OTHER PACIFIC ISLANDER</td><td>   7517                                       </td></tr>\n",
       "\t<tr><td>(3) ASIAN OR PACIFIC ISLANDER                 </td><td>   1656                                       </td></tr>\n",
       "\t<tr><td>(4) BLACK OR AFRICAN AMERICAN                 </td><td> 348798                                       </td></tr>\n",
       "\t<tr><td>(5) WHITE                                     </td><td>1158404                                       </td></tr>\n",
       "</tbody>\n",
       "</table>\n"
      ],
      "text/latex": [
       "\\begin{tabular}{r|ll}\n",
       " RACE & count(RACE)\\\\\n",
       "\\hline\n",
       "\t NA                                             &       0                                       \\\\\n",
       "\t (1) ALASKA NATIVE (ALEUT, ESKIMO, INDIAN)      &    3457                                       \\\\\n",
       "\t (13) ASIAN                                     &   11000                                       \\\\\n",
       "\t (2) AMERICAN INDIAN (OTHER THAN ALASKA NATIVE) &   40119                                       \\\\\n",
       "\t (20) OTHER SINGLE RACE                         &  137759                                       \\\\\n",
       "\t (21) TWO OR MORE RACES                         &   22612                                       \\\\\n",
       "\t (23) NATIVE HAWAIIAN OR OTHER PACIFIC ISLANDER &    7517                                       \\\\\n",
       "\t (3) ASIAN OR PACIFIC ISLANDER                  &    1656                                       \\\\\n",
       "\t (4) BLACK OR AFRICAN AMERICAN                  &  348798                                       \\\\\n",
       "\t (5) WHITE                                      & 1158404                                       \\\\\n",
       "\\end{tabular}\n"
      ],
      "text/markdown": [
       "\n",
       "RACE | count(RACE) | \n",
       "|---|---|---|---|---|---|---|---|---|---|\n",
       "| NA                                             |       0                                        | \n",
       "| (1) ALASKA NATIVE (ALEUT, ESKIMO, INDIAN)      |    3457                                        | \n",
       "| (13) ASIAN                                     |   11000                                        | \n",
       "| (2) AMERICAN INDIAN (OTHER THAN ALASKA NATIVE) |   40119                                        | \n",
       "| (20) OTHER SINGLE RACE                         |  137759                                        | \n",
       "| (21) TWO OR MORE RACES                         |   22612                                        | \n",
       "| (23) NATIVE HAWAIIAN OR OTHER PACIFIC ISLANDER |    7517                                        | \n",
       "| (3) ASIAN OR PACIFIC ISLANDER                  |    1656                                        | \n",
       "| (4) BLACK OR AFRICAN AMERICAN                  |  348798                                        | \n",
       "| (5) WHITE                                      | 1158404                                        | \n",
       "\n",
       "\n"
      ],
      "text/plain": [
       "   RACE                                           count(RACE)\n",
       "1  NA                                                   0    \n",
       "2  (1) ALASKA NATIVE (ALEUT, ESKIMO, INDIAN)         3457    \n",
       "3  (13) ASIAN                                       11000    \n",
       "4  (2) AMERICAN INDIAN (OTHER THAN ALASKA NATIVE)   40119    \n",
       "5  (20) OTHER SINGLE RACE                          137759    \n",
       "6  (21) TWO OR MORE RACES                           22612    \n",
       "7  (23) NATIVE HAWAIIAN OR OTHER PACIFIC ISLANDER    7517    \n",
       "8  (3) ASIAN OR PACIFIC ISLANDER                     1656    \n",
       "9  (4) BLACK OR AFRICAN AMERICAN                   348798    \n",
       "10 (5) WHITE                                      1158404    "
      ]
     },
     "metadata": {},
     "output_type": "display_data"
    }
   ],
   "source": [
    "dbGetQuery(dbc,\"select RACE,count(RACE) from physc group by RACE;\")"
   ]
  },
  {
   "cell_type": "code",
   "execution_count": 11,
   "metadata": {},
   "outputs": [
    {
     "data": {
      "text/html": [
       "TRUE"
      ],
      "text/latex": [
       "TRUE"
      ],
      "text/markdown": [
       "TRUE"
      ],
      "text/plain": [
       "[1] TRUE"
      ]
     },
     "metadata": {},
     "output_type": "display_data"
    }
   ],
   "source": [
    "dbDisconnect(dbc)"
   ]
  },
  {
   "cell_type": "code",
   "execution_count": null,
   "metadata": {},
   "outputs": [],
   "source": []
  }
 ],
 "metadata": {
  "kernelspec": {
   "display_name": "R",
   "language": "R",
   "name": "ir"
  },
  "language_info": {
   "codemirror_mode": "r",
   "file_extension": ".r",
   "mimetype": "text/x-r-source",
   "name": "R",
   "pygments_lexer": "r",
   "version": "3.5.1"
  }
 },
 "nbformat": 4,
 "nbformat_minor": 2
}
