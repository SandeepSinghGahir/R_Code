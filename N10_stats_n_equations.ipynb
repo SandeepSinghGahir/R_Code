{
 "cells": [
  {
   "cell_type": "markdown",
   "metadata": {},
   "source": [
    "# N10 formula and basic modeling"
   ]
  },
  {
   "cell_type": "markdown",
   "metadata": {},
   "source": [
    "When doing statistics, data is analyzed, and values created. The real power of statistics is building models, and fitting data to those models. The models are later used to understand complex systems, and make predictions.\n",
    "\n",
    "This notebook will cover the simpliest model, the linear model. The linear model assumes an equation in the form:\n",
    "\n",
    "Y = A + B0\\*V0 + B1\\*V1 + B2\\*V2 .... + e\n",
    "\n"
   ]
  },
  {
   "cell_type": "markdown",
   "metadata": {},
   "source": [
    "In this model mechanism, Y is the dependent variable, and V0, V1, V2 are independent variables. A is the intercept, and e represents an error term from the modeled Y to the actual Y. The goal of the statistics software is to minize the total error in the result. As an example, consider the mtcars data frame:"
   ]
  },
  {
   "cell_type": "code",
   "execution_count": 3,
   "metadata": {},
   "outputs": [
    {
     "data": {
      "text/html": [
       "<ol class=list-inline>\n",
       "\t<li>'mpg'</li>\n",
       "\t<li>'cyl'</li>\n",
       "\t<li>'disp'</li>\n",
       "\t<li>'hp'</li>\n",
       "\t<li>'drat'</li>\n",
       "\t<li>'wt'</li>\n",
       "\t<li>'qsec'</li>\n",
       "\t<li>'vs'</li>\n",
       "\t<li>'am'</li>\n",
       "\t<li>'gear'</li>\n",
       "\t<li>'carb'</li>\n",
       "</ol>\n"
      ],
      "text/latex": [
       "\\begin{enumerate*}\n",
       "\\item 'mpg'\n",
       "\\item 'cyl'\n",
       "\\item 'disp'\n",
       "\\item 'hp'\n",
       "\\item 'drat'\n",
       "\\item 'wt'\n",
       "\\item 'qsec'\n",
       "\\item 'vs'\n",
       "\\item 'am'\n",
       "\\item 'gear'\n",
       "\\item 'carb'\n",
       "\\end{enumerate*}\n"
      ],
      "text/markdown": [
       "1. 'mpg'\n",
       "2. 'cyl'\n",
       "3. 'disp'\n",
       "4. 'hp'\n",
       "5. 'drat'\n",
       "6. 'wt'\n",
       "7. 'qsec'\n",
       "8. 'vs'\n",
       "9. 'am'\n",
       "10. 'gear'\n",
       "11. 'carb'\n",
       "\n",
       "\n"
      ],
      "text/plain": [
       " [1] \"mpg\"  \"cyl\"  \"disp\" \"hp\"   \"drat\" \"wt\"   \"qsec\" \"vs\"   \"am\"   \"gear\"\n",
       "[11] \"carb\""
      ]
     },
     "metadata": {},
     "output_type": "display_data"
    }
   ],
   "source": [
    "names(mtcars)"
   ]
  },
  {
   "cell_type": "markdown",
   "metadata": {},
   "source": [
    "Create a hypothesis, or model assumption that mpg depends on disp, hp, and wt (displacement, horsepower, and weight). This is done with a new syntax. It creates an equation or formula. This is used by the optimization software to find the dependent and independent variables:\n",
    "\n",
    "mpg ~ disp + hp + wt\n",
    "\n",
    "Note that the '+' does not mean add, it simply implies the variable that will be used in the model fitting optimization."
   ]
  },
  {
   "cell_type": "code",
   "execution_count": 4,
   "metadata": {
    "collapsed": true
   },
   "outputs": [],
   "source": [
    "model1 <- mpg ~ disp + hp + wt"
   ]
  },
  {
   "cell_type": "markdown",
   "metadata": {},
   "source": [
    "The equation was assigned to a variable in this instance. This equation can then be used to find a model fit. For the first notebook the model will be a linear model 'lm' using the equation above."
   ]
  },
  {
   "cell_type": "code",
   "execution_count": 18,
   "metadata": {},
   "outputs": [
    {
     "data": {
      "text/html": [
       "'Now, print the result'"
      ],
      "text/latex": [
       "'Now, print the result'"
      ],
      "text/markdown": [
       "'Now, print the result'"
      ],
      "text/plain": [
       "[1] \"Now, print the result\""
      ]
     },
     "metadata": {},
     "output_type": "display_data"
    },
    {
     "data": {
      "text/plain": [
       "\n",
       "Call:\n",
       "lm(formula = model1, data = mtcars)\n",
       "\n",
       "Coefficients:\n",
       "(Intercept)         disp           hp           wt  \n",
       "  37.105505    -0.000937    -0.031157    -3.800891  \n"
      ]
     },
     "metadata": {},
     "output_type": "display_data"
    },
    {
     "data": {
      "text/html": [
       "'Just the first element'"
      ],
      "text/latex": [
       "'Just the first element'"
      ],
      "text/markdown": [
       "'Just the first element'"
      ],
      "text/plain": [
       "[1] \"Just the first element\""
      ]
     },
     "metadata": {},
     "output_type": "display_data"
    },
    {
     "data": {
      "text/html": [
       "<strong>$coefficients</strong> = <dl class=dl-horizontal>\n",
       "\t<dt>(Intercept)</dt>\n",
       "\t\t<dd>37.1055052690318</dd>\n",
       "\t<dt>disp</dt>\n",
       "\t\t<dd>-0.000937009081489654</dd>\n",
       "\t<dt>hp</dt>\n",
       "\t\t<dd>-0.0311565508299456</dd>\n",
       "\t<dt>wt</dt>\n",
       "\t\t<dd>-3.80089058263761</dd>\n",
       "</dl>\n"
      ],
      "text/latex": [
       "\\textbf{\\$coefficients} = \\begin{description*}\n",
       "\\item[(Intercept)] 37.1055052690318\n",
       "\\item[disp] -0.000937009081489654\n",
       "\\item[hp] -0.0311565508299456\n",
       "\\item[wt] -3.80089058263761\n",
       "\\end{description*}\n"
      ],
      "text/markdown": [
       "**$coefficients** = (Intercept)\n",
       ":   37.1055052690318disp\n",
       ":   -0.000937009081489654hp\n",
       ":   -0.0311565508299456wt\n",
       ":   -3.80089058263761\n",
       "\n"
      ],
      "text/plain": [
       "$coefficients\n",
       "  (Intercept)          disp            hp            wt \n",
       "37.1055052690 -0.0009370091 -0.0311565508 -3.8008905826 \n"
      ]
     },
     "metadata": {},
     "output_type": "display_data"
    },
    {
     "data": {
      "text/html": [
       "'You can get the coefficients by name using $'"
      ],
      "text/latex": [
       "'You can get the coefficients by name using \\$'"
      ],
      "text/markdown": [
       "'You can get the coefficients by name using $'"
      ],
      "text/plain": [
       "[1] \"You can get the coefficients by name using $\""
      ]
     },
     "metadata": {},
     "output_type": "display_data"
    },
    {
     "data": {
      "text/html": [
       "<strong>(Intercept):</strong> 37.1055052690318"
      ],
      "text/latex": [
       "\\textbf{(Intercept):} 37.1055052690318"
      ],
      "text/markdown": [
       "**(Intercept):** 37.1055052690318"
      ],
      "text/plain": [
       "(Intercept) \n",
       "   37.10551 "
      ]
     },
     "metadata": {},
     "output_type": "display_data"
    },
    {
     "data": {
      "text/html": [
       "'You can get the items by name using the vector indexed with the string'"
      ],
      "text/latex": [
       "'You can get the items by name using the vector indexed with the string'"
      ],
      "text/markdown": [
       "'You can get the items by name using the vector indexed with the string'"
      ],
      "text/plain": [
       "[1] \"You can get the items by name using the vector indexed with the string\""
      ]
     },
     "metadata": {},
     "output_type": "display_data"
    },
    {
     "data": {
      "text/html": [
       "<strong>disp:</strong> -0.000937009081489654"
      ],
      "text/latex": [
       "\\textbf{disp:} -0.000937009081489654"
      ],
      "text/markdown": [
       "**disp:** -0.000937009081489654"
      ],
      "text/plain": [
       "         disp \n",
       "-0.0009370091 "
      ]
     },
     "metadata": {},
     "output_type": "display_data"
    }
   ],
   "source": [
    "bob<-lm(model1,mtcars)\n",
    "\"Now, print the result\"\n",
    "bob\n",
    "\"Just the first element\"\n",
    "bob[1]\n",
    "'You can get the coefficients by name using $'\n",
    "bob$coefficients[1]\n",
    "'You can get the items by name using the vector indexed with the string'\n",
    "bob$coefficients[\"disp\"]"
   ]
  },
  {
   "cell_type": "markdown",
   "metadata": {},
   "source": [
    "The results are an equation that 'best' fits the data.\n",
    "\n",
    "mpg = 37.1055+(-0.00937)\\*disp+(-0.031157)\\*hp+(-3.800891)\\*wt\n",
    "\n",
    "The values can be accessed by getting the list elements from the $coefficients or first element of 'bob'\n",
    "\n",
    "The second element in the results are the residuals, or error term e for each data entry:"
   ]
  },
  {
   "cell_type": "code",
   "execution_count": 34,
   "metadata": {},
   "outputs": [
    {
     "data": {
      "text/html": [
       "<strong>$residuals</strong> = <dl class=dl-horizontal>\n",
       "\t<dt>Mazda RX4</dt>\n",
       "\t\t<dd>-2.57002989818897</dd>\n",
       "\t<dt>Mazda RX4 Wag</dt>\n",
       "\t\t<dd>-1.60080279961632</dd>\n",
       "\t<dt>Datsun 710</dt>\n",
       "\t\t<dd>-2.48868290932673</dd>\n",
       "\t<dt>Hornet 4 Drive</dt>\n",
       "\t\t<dd>0.183326888466451</dd>\n",
       "\t<dt>Hornet Sportabout</dt>\n",
       "\t\t<dd>0.459277999818319</dd>\n",
       "\t<dt>Valiant</dt>\n",
       "\t\t<dd>-2.37215897262622</dd>\n",
       "\t<dt>Duster 360</dt>\n",
       "\t\t<dd>-1.2656476663426</dd>\n",
       "\t<dt>Merc 240D</dt>\n",
       "\t\t<dd>1.48850107329332</dd>\n",
       "\t<dt>Merc 230</dt>\n",
       "\t\t<dd>0.759103273795234</dd>\n",
       "\t<dt>Merc 280</dt>\n",
       "\t\t<dd>-0.841143190617462</dd>\n",
       "\t<dt>Merc 280C</dt>\n",
       "\t\t<dd>-2.24114319061746</dd>\n",
       "\t<dt>Merc 450SE</dt>\n",
       "\t\t<dd>0.630725656368311</dd>\n",
       "\t<dt>Merc 450SL</dt>\n",
       "\t\t<dd>0.238422858271525</dd>\n",
       "\t<dt>Merc 450SLC</dt>\n",
       "\t\t<dd>-1.6715326125966</dd>\n",
       "\t<dt>Cadillac Fleetwood</dt>\n",
       "\t\t<dd>0.0785314964176018</dd>\n",
       "\t<dt>Lincoln Continental</dt>\n",
       "\t\t<dd>1.04020785711813</dd>\n",
       "\t<dt>Chrysler Imperial</dt>\n",
       "\t\t<dd>5.48854558190914</dd>\n",
       "\t<dt>Fiat 128</dt>\n",
       "\t\t<dd>5.78652898226057</dd>\n",
       "\t<dt>Honda Civic</dt>\n",
       "\t\t<dd>1.12400525255386</dd>\n",
       "\t<dt>Toyota Corolla</dt>\n",
       "\t\t<dd>5.86092609974858</dd>\n",
       "\t<dt>Toyota Corona</dt>\n",
       "\t\t<dd>-3.10158976163847</dd>\n",
       "\t<dt>Dodge Challenger</dt>\n",
       "\t\t<dd>-3.25491890574188</dd>\n",
       "\t<dt>AMC Javelin</dt>\n",
       "\t\t<dd>-3.89111273240693</dd>\n",
       "\t<dt>Camaro Z28</dt>\n",
       "\t\t<dd>-1.24877729984534</dd>\n",
       "\t<dt>Pontiac Firebird</dt>\n",
       "\t\t<dd>2.53611904904614</dd>\n",
       "\t<dt>Fiat X1-9</dt>\n",
       "\t\t<dd>-0.320425919413943</dd>\n",
       "\t<dt>Porsche 914-2</dt>\n",
       "\t\t<dd>-0.0236311041590723</dd>\n",
       "\t<dt>Lotus Europa</dt>\n",
       "\t\t<dd>2.65504198993241</dd>\n",
       "\t<dt>Ford Pantera L</dt>\n",
       "\t\t<dd>-0.702462515362088</dd>\n",
       "\t<dt>Ferrari Dino</dt>\n",
       "\t\t<dd>-1.28877564306916</dd>\n",
       "\t<dt>Maserati Bora</dt>\n",
       "\t\t<dd>2.18315837254461</dd>\n",
       "\t<dt>Volvo 142E</dt>\n",
       "\t\t<dd>-1.62958730997494</dd>\n",
       "</dl>\n"
      ],
      "text/latex": [
       "\\textbf{\\$residuals} = \\begin{description*}\n",
       "\\item[Mazda RX4] -2.57002989818897\n",
       "\\item[Mazda RX4 Wag] -1.60080279961632\n",
       "\\item[Datsun 710] -2.48868290932673\n",
       "\\item[Hornet 4 Drive] 0.183326888466451\n",
       "\\item[Hornet Sportabout] 0.459277999818319\n",
       "\\item[Valiant] -2.37215897262622\n",
       "\\item[Duster 360] -1.2656476663426\n",
       "\\item[Merc 240D] 1.48850107329332\n",
       "\\item[Merc 230] 0.759103273795234\n",
       "\\item[Merc 280] -0.841143190617462\n",
       "\\item[Merc 280C] -2.24114319061746\n",
       "\\item[Merc 450SE] 0.630725656368311\n",
       "\\item[Merc 450SL] 0.238422858271525\n",
       "\\item[Merc 450SLC] -1.6715326125966\n",
       "\\item[Cadillac Fleetwood] 0.0785314964176018\n",
       "\\item[Lincoln Continental] 1.04020785711813\n",
       "\\item[Chrysler Imperial] 5.48854558190914\n",
       "\\item[Fiat 128] 5.78652898226057\n",
       "\\item[Honda Civic] 1.12400525255386\n",
       "\\item[Toyota Corolla] 5.86092609974858\n",
       "\\item[Toyota Corona] -3.10158976163847\n",
       "\\item[Dodge Challenger] -3.25491890574188\n",
       "\\item[AMC Javelin] -3.89111273240693\n",
       "\\item[Camaro Z28] -1.24877729984534\n",
       "\\item[Pontiac Firebird] 2.53611904904614\n",
       "\\item[Fiat X1-9] -0.320425919413943\n",
       "\\item[Porsche 914-2] -0.0236311041590723\n",
       "\\item[Lotus Europa] 2.65504198993241\n",
       "\\item[Ford Pantera L] -0.702462515362088\n",
       "\\item[Ferrari Dino] -1.28877564306916\n",
       "\\item[Maserati Bora] 2.18315837254461\n",
       "\\item[Volvo 142E] -1.62958730997494\n",
       "\\end{description*}\n"
      ],
      "text/markdown": [
       "**$residuals** = Mazda RX4\n",
       ":   -2.57002989818897Mazda RX4 Wag\n",
       ":   -1.60080279961632Datsun 710\n",
       ":   -2.48868290932673Hornet 4 Drive\n",
       ":   0.183326888466451Hornet Sportabout\n",
       ":   0.459277999818319Valiant\n",
       ":   -2.37215897262622Duster 360\n",
       ":   -1.2656476663426Merc 240D\n",
       ":   1.48850107329332Merc 230\n",
       ":   0.759103273795234Merc 280\n",
       ":   -0.841143190617462Merc 280C\n",
       ":   -2.24114319061746Merc 450SE\n",
       ":   0.630725656368311Merc 450SL\n",
       ":   0.238422858271525Merc 450SLC\n",
       ":   -1.6715326125966Cadillac Fleetwood\n",
       ":   0.0785314964176018Lincoln Continental\n",
       ":   1.04020785711813Chrysler Imperial\n",
       ":   5.48854558190914Fiat 128\n",
       ":   5.78652898226057Honda Civic\n",
       ":   1.12400525255386Toyota Corolla\n",
       ":   5.86092609974858Toyota Corona\n",
       ":   -3.10158976163847Dodge Challenger\n",
       ":   -3.25491890574188AMC Javelin\n",
       ":   -3.89111273240693Camaro Z28\n",
       ":   -1.24877729984534Pontiac Firebird\n",
       ":   2.53611904904614Fiat X1-9\n",
       ":   -0.320425919413943Porsche 914-2\n",
       ":   -0.0236311041590723Lotus Europa\n",
       ":   2.65504198993241Ford Pantera L\n",
       ":   -0.702462515362088Ferrari Dino\n",
       ":   -1.28877564306916Maserati Bora\n",
       ":   2.18315837254461Volvo 142E\n",
       ":   -1.62958730997494\n",
       "\n"
      ],
      "text/plain": [
       "$residuals\n",
       "          Mazda RX4       Mazda RX4 Wag          Datsun 710      Hornet 4 Drive \n",
       "         -2.5700299          -1.6008028          -2.4886829           0.1833269 \n",
       "  Hornet Sportabout             Valiant          Duster 360           Merc 240D \n",
       "          0.4592780          -2.3721590          -1.2656477           1.4885011 \n",
       "           Merc 230            Merc 280           Merc 280C          Merc 450SE \n",
       "          0.7591033          -0.8411432          -2.2411432           0.6307257 \n",
       "         Merc 450SL         Merc 450SLC  Cadillac Fleetwood Lincoln Continental \n",
       "          0.2384229          -1.6715326           0.0785315           1.0402079 \n",
       "  Chrysler Imperial            Fiat 128         Honda Civic      Toyota Corolla \n",
       "          5.4885456           5.7865290           1.1240053           5.8609261 \n",
       "      Toyota Corona    Dodge Challenger         AMC Javelin          Camaro Z28 \n",
       "         -3.1015898          -3.2549189          -3.8911127          -1.2487773 \n",
       "   Pontiac Firebird           Fiat X1-9       Porsche 914-2        Lotus Europa \n",
       "          2.5361190          -0.3204259          -0.0236311           2.6550420 \n",
       "     Ford Pantera L        Ferrari Dino       Maserati Bora          Volvo 142E \n",
       "         -0.7024625          -1.2887756           2.1831584          -1.6295873 \n"
      ]
     },
     "metadata": {},
     "output_type": "display_data"
    },
    {
     "data": {
      "text/html": [
       "'list'"
      ],
      "text/latex": [
       "'list'"
      ],
      "text/markdown": [
       "'list'"
      ],
      "text/plain": [
       "[1] \"list\""
      ]
     },
     "metadata": {},
     "output_type": "display_data"
    }
   ],
   "source": [
    "bob[2]\n",
    "class(bob[2])"
   ]
  },
  {
   "cell_type": "markdown",
   "metadata": {},
   "source": [
    "You can see that the data fits reasonably well in many cases, but not all. It is often good to get a 'summary' of the error terms to see how well things worked. Convert the list to a vector with the handy 'unlist' function. "
   ]
  },
  {
   "cell_type": "code",
   "execution_count": 40,
   "metadata": {},
   "outputs": [
    {
     "data": {
      "text/html": [
       "'numeric'"
      ],
      "text/latex": [
       "'numeric'"
      ],
      "text/markdown": [
       "'numeric'"
      ],
      "text/plain": [
       "[1] \"numeric\""
      ]
     },
     "metadata": {},
     "output_type": "display_data"
    },
    {
     "data": {
      "text/plain": [
       "   Min. 1st Qu.  Median    Mean 3rd Qu.    Max. \n",
       " -3.891  -1.640  -0.172   0.000   1.061   5.861 "
      ]
     },
     "metadata": {},
     "output_type": "display_data"
    }
   ],
   "source": [
    "sally <- unlist(bob[2])\n",
    "class(sally)\n",
    "summary(sally)"
   ]
  },
  {
   "cell_type": "markdown",
   "metadata": {},
   "source": [
    "This shows that the model is off by most ~-4 to 6 mpg. The first and third quartiles are off by about 1.5 mpg. Not a great fit, but not too bad.\n",
    "\n",
    "The values of disp, hp, and wt don't have the same units. Display a line of the mtcars to see the typical units."
   ]
  },
  {
   "cell_type": "code",
   "execution_count": 30,
   "metadata": {},
   "outputs": [
    {
     "data": {
      "text/html": [
       "<table>\n",
       "<thead><tr><th></th><th scope=col>mpg</th><th scope=col>cyl</th><th scope=col>disp</th><th scope=col>hp</th><th scope=col>drat</th><th scope=col>wt</th><th scope=col>qsec</th><th scope=col>vs</th><th scope=col>am</th><th scope=col>gear</th><th scope=col>carb</th></tr></thead>\n",
       "<tbody>\n",
       "\t<tr><th scope=row>Mazda RX4 Wag</th><td>21   </td><td>6    </td><td>160  </td><td>110  </td><td>3.9  </td><td>2.875</td><td>17.02</td><td>0    </td><td>1    </td><td>4    </td><td>4    </td></tr>\n",
       "</tbody>\n",
       "</table>\n"
      ],
      "text/latex": [
       "\\begin{tabular}{r|lllllllllll}\n",
       "  & mpg & cyl & disp & hp & drat & wt & qsec & vs & am & gear & carb\\\\\n",
       "\\hline\n",
       "\tMazda RX4 Wag & 21    & 6     & 160   & 110   & 3.9   & 2.875 & 17.02 & 0     & 1     & 4     & 4    \\\\\n",
       "\\end{tabular}\n"
      ],
      "text/markdown": [
       "\n",
       "| <!--/--> | mpg | cyl | disp | hp | drat | wt | qsec | vs | am | gear | carb | \n",
       "|---|\n",
       "| Mazda RX4 Wag | 21    | 6     | 160   | 110   | 3.9   | 2.875 | 17.02 | 0     | 1     | 4     | 4     | \n",
       "\n",
       "\n"
      ],
      "text/plain": [
       "              mpg cyl disp hp  drat wt    qsec  vs am gear carb\n",
       "Mazda RX4 Wag 21  6   160  110 3.9  2.875 17.02 0  1  4    4   "
      ]
     },
     "metadata": {},
     "output_type": "display_data"
    },
    {
     "data": {
      "text/html": [
       "'list'"
      ],
      "text/latex": [
       "'list'"
      ],
      "text/markdown": [
       "'list'"
      ],
      "text/plain": [
       "[1] \"list\""
      ]
     },
     "metadata": {},
     "output_type": "display_data"
    }
   ],
   "source": [
    "mtcars[2,]"
   ]
  },
  {
   "cell_type": "markdown",
   "metadata": {},
   "source": [
    "The displacement is in cubic inches, the hp in units of one, but the weight appears to be in thousands of pounds.\n",
    "\n",
    "Make a model function. I used the sum function to get the sum of the vector multiplication. Since the first element is a constant, 1.0 was placed there. This will be multiplied with the intercept. The second variable disp will be multiplied by the B0 term, and so on to the vector length."
   ]
  },
  {
   "cell_type": "code",
   "execution_count": 42,
   "metadata": {
    "collapsed": true
   },
   "outputs": [],
   "source": [
    "mpgmodel <- function(disp,hp,wt) { sum(unlist(bob[1])*c(1.0,disp,hp,wt))}"
   ]
  },
  {
   "cell_type": "code",
   "execution_count": 44,
   "metadata": {},
   "outputs": [
    {
     "data": {
      "text/html": [
       "22.5057805350504"
      ],
      "text/latex": [
       "22.5057805350504"
      ],
      "text/markdown": [
       "22.5057805350504"
      ],
      "text/plain": [
       "[1] 22.50578"
      ]
     },
     "metadata": {},
     "output_type": "display_data"
    }
   ],
   "source": [
    "mpgmodel(160,110,2.9)"
   ]
  },
  {
   "cell_type": "markdown",
   "metadata": {},
   "source": [
    "A plot is nice. Let's run it from 2000 to 4000 pounds. It needs a floating point number, so use the 'seq' function to get a sequence with an increment. (Here 0.1)"
   ]
  },
  {
   "cell_type": "code",
   "execution_count": 64,
   "metadata": {},
   "outputs": [
    {
     "data": {
      "text/html": [
       "<ol class=list-inline>\n",
       "\t<li>0</li>\n",
       "\t<li>0.2</li>\n",
       "\t<li>0.4</li>\n",
       "\t<li>0.6</li>\n",
       "\t<li>0.8</li>\n",
       "\t<li>1</li>\n",
       "</ol>\n"
      ],
      "text/latex": [
       "\\begin{enumerate*}\n",
       "\\item 0\n",
       "\\item 0.2\n",
       "\\item 0.4\n",
       "\\item 0.6\n",
       "\\item 0.8\n",
       "\\item 1\n",
       "\\end{enumerate*}\n"
      ],
      "text/markdown": [
       "1. 0\n",
       "2. 0.2\n",
       "3. 0.4\n",
       "4. 0.6\n",
       "5. 0.8\n",
       "6. 1\n",
       "\n",
       "\n"
      ],
      "text/plain": [
       "[1] 0.0 0.2 0.4 0.6 0.8 1.0"
      ]
     },
     "metadata": {},
     "output_type": "display_data"
    },
    {
     "data": {
      "image/png": "[encoded data removed]",
      "text/plain": [
       "plot without title"
      ]
     },
     "metadata": {},
     "output_type": "display_data"
    }
   ],
   "source": [
    "seq(0,1,0.2)\n",
    "pmodel <- function(x) { mpgmodel(160,110,x)}\n",
    "plot(c(seq(2.0,4.0,0.1)),sapply(c(seq(2.0,4.0,0.1)),pmodel))"
   ]
  },
  {
   "cell_type": "markdown",
   "metadata": {},
   "source": [
    "You can see it is a straight line. The line comes from the linear model. Take a look at the error terms. (Get a list by unlist on the second element of the lm result)"
   ]
  },
  {
   "cell_type": "code",
   "execution_count": 62,
   "metadata": {},
   "outputs": [
    {
     "data": {
      "image/png": "[encoded data removed]",
      "text/plain": [
       "plot without title"
      ]
     },
     "metadata": {},
     "output_type": "display_data"
    }
   ],
   "source": [
    "plot(mtcars$wt,unlist(bob[2]))"
   ]
  },
  {
   "cell_type": "markdown",
   "metadata": {},
   "source": [
    "No clear pattern can be seen.\n",
    "\n",
    "Try a correlation of mtcars, and look for the highest correlating items to mpg."
   ]
  },
  {
   "cell_type": "code",
   "execution_count": 63,
   "metadata": {},
   "outputs": [
    {
     "data": {
      "text/html": [
       "<table>\n",
       "<thead><tr><th></th><th scope=col>mpg</th><th scope=col>cyl</th><th scope=col>disp</th><th scope=col>hp</th><th scope=col>drat</th><th scope=col>wt</th><th scope=col>qsec</th><th scope=col>vs</th><th scope=col>am</th><th scope=col>gear</th><th scope=col>carb</th></tr></thead>\n",
       "<tbody>\n",
       "\t<tr><th scope=row>mpg</th><td> 1.0000000 </td><td>-0.8521620 </td><td>-0.8475514 </td><td>-0.7761684 </td><td> 0.68117191</td><td>-0.8676594 </td><td> 0.41868403</td><td> 0.6640389 </td><td> 0.59983243</td><td> 0.4802848 </td><td>-0.55092507</td></tr>\n",
       "\t<tr><th scope=row>cyl</th><td>-0.8521620 </td><td> 1.0000000 </td><td> 0.9020329 </td><td> 0.8324475 </td><td>-0.69993811</td><td> 0.7824958 </td><td>-0.59124207</td><td>-0.8108118 </td><td>-0.52260705</td><td>-0.4926866 </td><td> 0.52698829</td></tr>\n",
       "\t<tr><th scope=row>disp</th><td>-0.8475514 </td><td> 0.9020329 </td><td> 1.0000000 </td><td> 0.7909486 </td><td>-0.71021393</td><td> 0.8879799 </td><td>-0.43369788</td><td>-0.7104159 </td><td>-0.59122704</td><td>-0.5555692 </td><td> 0.39497686</td></tr>\n",
       "\t<tr><th scope=row>hp</th><td>-0.7761684 </td><td> 0.8324475 </td><td> 0.7909486 </td><td> 1.0000000 </td><td>-0.44875912</td><td> 0.6587479 </td><td>-0.70822339</td><td>-0.7230967 </td><td>-0.24320426</td><td>-0.1257043 </td><td> 0.74981247</td></tr>\n",
       "\t<tr><th scope=row>drat</th><td> 0.6811719 </td><td>-0.6999381 </td><td>-0.7102139 </td><td>-0.4487591 </td><td> 1.00000000</td><td>-0.7124406 </td><td> 0.09120476</td><td> 0.4402785 </td><td> 0.71271113</td><td> 0.6996101 </td><td>-0.09078980</td></tr>\n",
       "\t<tr><th scope=row>wt</th><td>-0.8676594 </td><td> 0.7824958 </td><td> 0.8879799 </td><td> 0.6587479 </td><td>-0.71244065</td><td> 1.0000000 </td><td>-0.17471588</td><td>-0.5549157 </td><td>-0.69249526</td><td>-0.5832870 </td><td> 0.42760594</td></tr>\n",
       "\t<tr><th scope=row>qsec</th><td> 0.4186840 </td><td>-0.5912421 </td><td>-0.4336979 </td><td>-0.7082234 </td><td> 0.09120476</td><td>-0.1747159 </td><td> 1.00000000</td><td> 0.7445354 </td><td>-0.22986086</td><td>-0.2126822 </td><td>-0.65624923</td></tr>\n",
       "\t<tr><th scope=row>vs</th><td> 0.6640389 </td><td>-0.8108118 </td><td>-0.7104159 </td><td>-0.7230967 </td><td> 0.44027846</td><td>-0.5549157 </td><td> 0.74453544</td><td> 1.0000000 </td><td> 0.16834512</td><td> 0.2060233 </td><td>-0.56960714</td></tr>\n",
       "\t<tr><th scope=row>am</th><td> 0.5998324 </td><td>-0.5226070 </td><td>-0.5912270 </td><td>-0.2432043 </td><td> 0.71271113</td><td>-0.6924953 </td><td>-0.22986086</td><td> 0.1683451 </td><td> 1.00000000</td><td> 0.7940588 </td><td> 0.05753435</td></tr>\n",
       "\t<tr><th scope=row>gear</th><td> 0.4802848 </td><td>-0.4926866 </td><td>-0.5555692 </td><td>-0.1257043 </td><td> 0.69961013</td><td>-0.5832870 </td><td>-0.21268223</td><td> 0.2060233 </td><td> 0.79405876</td><td> 1.0000000 </td><td> 0.27407284</td></tr>\n",
       "\t<tr><th scope=row>carb</th><td>-0.5509251 </td><td> 0.5269883 </td><td> 0.3949769 </td><td> 0.7498125 </td><td>-0.09078980</td><td> 0.4276059 </td><td>-0.65624923</td><td>-0.5696071 </td><td> 0.05753435</td><td> 0.2740728 </td><td> 1.00000000</td></tr>\n",
       "</tbody>\n",
       "</table>\n"
      ],
      "text/latex": [
       "\\begin{tabular}{r|lllllllllll}\n",
       "  & mpg & cyl & disp & hp & drat & wt & qsec & vs & am & gear & carb\\\\\n",
       "\\hline\n",
       "\tmpg &  1.0000000  & -0.8521620  & -0.8475514  & -0.7761684  &  0.68117191 & -0.8676594  &  0.41868403 &  0.6640389  &  0.59983243 &  0.4802848  & -0.55092507\\\\\n",
       "\tcyl & -0.8521620  &  1.0000000  &  0.9020329  &  0.8324475  & -0.69993811 &  0.7824958  & -0.59124207 & -0.8108118  & -0.52260705 & -0.4926866  &  0.52698829\\\\\n",
       "\tdisp & -0.8475514  &  0.9020329  &  1.0000000  &  0.7909486  & -0.71021393 &  0.8879799  & -0.43369788 & -0.7104159  & -0.59122704 & -0.5555692  &  0.39497686\\\\\n",
       "\thp & -0.7761684  &  0.8324475  &  0.7909486  &  1.0000000  & -0.44875912 &  0.6587479  & -0.70822339 & -0.7230967  & -0.24320426 & -0.1257043  &  0.74981247\\\\\n",
       "\tdrat &  0.6811719  & -0.6999381  & -0.7102139  & -0.4487591  &  1.00000000 & -0.7124406  &  0.09120476 &  0.4402785  &  0.71271113 &  0.6996101  & -0.09078980\\\\\n",
       "\twt & -0.8676594  &  0.7824958  &  0.8879799  &  0.6587479  & -0.71244065 &  1.0000000  & -0.17471588 & -0.5549157  & -0.69249526 & -0.5832870  &  0.42760594\\\\\n",
       "\tqsec &  0.4186840  & -0.5912421  & -0.4336979  & -0.7082234  &  0.09120476 & -0.1747159  &  1.00000000 &  0.7445354  & -0.22986086 & -0.2126822  & -0.65624923\\\\\n",
       "\tvs &  0.6640389  & -0.8108118  & -0.7104159  & -0.7230967  &  0.44027846 & -0.5549157  &  0.74453544 &  1.0000000  &  0.16834512 &  0.2060233  & -0.56960714\\\\\n",
       "\tam &  0.5998324  & -0.5226070  & -0.5912270  & -0.2432043  &  0.71271113 & -0.6924953  & -0.22986086 &  0.1683451  &  1.00000000 &  0.7940588  &  0.05753435\\\\\n",
       "\tgear &  0.4802848  & -0.4926866  & -0.5555692  & -0.1257043  &  0.69961013 & -0.5832870  & -0.21268223 &  0.2060233  &  0.79405876 &  1.0000000  &  0.27407284\\\\\n",
       "\tcarb & -0.5509251  &  0.5269883  &  0.3949769  &  0.7498125  & -0.09078980 &  0.4276059  & -0.65624923 & -0.5696071  &  0.05753435 &  0.2740728  &  1.00000000\\\\\n",
       "\\end{tabular}\n"
      ],
      "text/markdown": [
       "\n",
       "| <!--/--> | mpg | cyl | disp | hp | drat | wt | qsec | vs | am | gear | carb | \n",
       "|---|---|---|---|---|---|---|---|---|---|---|\n",
       "| mpg |  1.0000000  | -0.8521620  | -0.8475514  | -0.7761684  |  0.68117191 | -0.8676594  |  0.41868403 |  0.6640389  |  0.59983243 |  0.4802848  | -0.55092507 | \n",
       "| cyl | -0.8521620  |  1.0000000  |  0.9020329  |  0.8324475  | -0.69993811 |  0.7824958  | -0.59124207 | -0.8108118  | -0.52260705 | -0.4926866  |  0.52698829 | \n",
       "| disp | -0.8475514  |  0.9020329  |  1.0000000  |  0.7909486  | -0.71021393 |  0.8879799  | -0.43369788 | -0.7104159  | -0.59122704 | -0.5555692  |  0.39497686 | \n",
       "| hp | -0.7761684  |  0.8324475  |  0.7909486  |  1.0000000  | -0.44875912 |  0.6587479  | -0.70822339 | -0.7230967  | -0.24320426 | -0.1257043  |  0.74981247 | \n",
       "| drat |  0.6811719  | -0.6999381  | -0.7102139  | -0.4487591  |  1.00000000 | -0.7124406  |  0.09120476 |  0.4402785  |  0.71271113 |  0.6996101  | -0.09078980 | \n",
       "| wt | -0.8676594  |  0.7824958  |  0.8879799  |  0.6587479  | -0.71244065 |  1.0000000  | -0.17471588 | -0.5549157  | -0.69249526 | -0.5832870  |  0.42760594 | \n",
       "| qsec |  0.4186840  | -0.5912421  | -0.4336979  | -0.7082234  |  0.09120476 | -0.1747159  |  1.00000000 |  0.7445354  | -0.22986086 | -0.2126822  | -0.65624923 | \n",
       "| vs |  0.6640389  | -0.8108118  | -0.7104159  | -0.7230967  |  0.44027846 | -0.5549157  |  0.74453544 |  1.0000000  |  0.16834512 |  0.2060233  | -0.56960714 | \n",
       "| am |  0.5998324  | -0.5226070  | -0.5912270  | -0.2432043  |  0.71271113 | -0.6924953  | -0.22986086 |  0.1683451  |  1.00000000 |  0.7940588  |  0.05753435 | \n",
       "| gear |  0.4802848  | -0.4926866  | -0.5555692  | -0.1257043  |  0.69961013 | -0.5832870  | -0.21268223 |  0.2060233  |  0.79405876 |  1.0000000  |  0.27407284 | \n",
       "| carb | -0.5509251  |  0.5269883  |  0.3949769  |  0.7498125  | -0.09078980 |  0.4276059  | -0.65624923 | -0.5696071  |  0.05753435 |  0.2740728  |  1.00000000 | \n",
       "\n",
       "\n"
      ],
      "text/plain": [
       "     mpg        cyl        disp       hp         drat        wt        \n",
       "mpg   1.0000000 -0.8521620 -0.8475514 -0.7761684  0.68117191 -0.8676594\n",
       "cyl  -0.8521620  1.0000000  0.9020329  0.8324475 -0.69993811  0.7824958\n",
       "disp -0.8475514  0.9020329  1.0000000  0.7909486 -0.71021393  0.8879799\n",
       "hp   -0.7761684  0.8324475  0.7909486  1.0000000 -0.44875912  0.6587479\n",
       "drat  0.6811719 -0.6999381 -0.7102139 -0.4487591  1.00000000 -0.7124406\n",
       "wt   -0.8676594  0.7824958  0.8879799  0.6587479 -0.71244065  1.0000000\n",
       "qsec  0.4186840 -0.5912421 -0.4336979 -0.7082234  0.09120476 -0.1747159\n",
       "vs    0.6640389 -0.8108118 -0.7104159 -0.7230967  0.44027846 -0.5549157\n",
       "am    0.5998324 -0.5226070 -0.5912270 -0.2432043  0.71271113 -0.6924953\n",
       "gear  0.4802848 -0.4926866 -0.5555692 -0.1257043  0.69961013 -0.5832870\n",
       "carb -0.5509251  0.5269883  0.3949769  0.7498125 -0.09078980  0.4276059\n",
       "     qsec        vs         am          gear       carb       \n",
       "mpg   0.41868403  0.6640389  0.59983243  0.4802848 -0.55092507\n",
       "cyl  -0.59124207 -0.8108118 -0.52260705 -0.4926866  0.52698829\n",
       "disp -0.43369788 -0.7104159 -0.59122704 -0.5555692  0.39497686\n",
       "hp   -0.70822339 -0.7230967 -0.24320426 -0.1257043  0.74981247\n",
       "drat  0.09120476  0.4402785  0.71271113  0.6996101 -0.09078980\n",
       "wt   -0.17471588 -0.5549157 -0.69249526 -0.5832870  0.42760594\n",
       "qsec  1.00000000  0.7445354 -0.22986086 -0.2126822 -0.65624923\n",
       "vs    0.74453544  1.0000000  0.16834512  0.2060233 -0.56960714\n",
       "am   -0.22986086  0.1683451  1.00000000  0.7940588  0.05753435\n",
       "gear -0.21268223  0.2060233  0.79405876  1.0000000  0.27407284\n",
       "carb -0.65624923 -0.5696071  0.05753435  0.2740728  1.00000000"
      ]
     },
     "metadata": {},
     "output_type": "display_data"
    }
   ],
   "source": [
    "cor(mtcars)"
   ]
  },
  {
   "cell_type": "markdown",
   "metadata": {},
   "source": [
    "Cyl and wt are the two highest correlating items. (Correlation assumes a linear relationship, and fits the lm well). As an exercise, create an equation with mpg as the dependent variable, and get a summary of the error terms."
   ]
  },
  {
   "cell_type": "code",
   "execution_count": 7,
   "metadata": {},
   "outputs": [
    {
     "data": {
      "text/html": [
       "<dl class=dl-horizontal>\n",
       "\t<dt>(Intercept)</dt>\n",
       "\t\t<dd>28.7246652526629</dd>\n",
       "\t<dt>cyl</dt>\n",
       "\t\t<dd>-2.48351394499279</dd>\n",
       "\t<dt>drat</dt>\n",
       "\t\t<dd>1.87198256167659</dd>\n",
       "</dl>\n"
      ],
      "text/latex": [
       "\\begin{description*}\n",
       "\\item[(Intercept)] 28.7246652526629\n",
       "\\item[cyl] -2.48351394499279\n",
       "\\item[drat] 1.87198256167659\n",
       "\\end{description*}\n"
      ],
      "text/markdown": [
       "(Intercept)\n",
       ":   28.7246652526629cyl\n",
       ":   -2.48351394499279drat\n",
       ":   1.87198256167659\n",
       "\n"
      ],
      "text/plain": [
       "(Intercept)         cyl        drat \n",
       "  28.724665   -2.483514    1.871983 "
      ]
     },
     "metadata": {},
     "output_type": "display_data"
    },
    {
     "data": {
      "text/plain": [
       "   Min. 1st Qu.  Median    Mean 3rd Qu.    Max. \n",
       "-5.0845 -2.1061 -0.3432  0.0000  1.8000  7.2096 "
      ]
     },
     "metadata": {},
     "output_type": "display_data"
    }
   ],
   "source": [
    "# exercise goes here\n",
    "#Here mpg is a dependent variable to cyl\n",
    "mpg.equation <- mpg ~ cyl + drat\n",
    "\n",
    "#Created a model for given equation to establish some relation between mpg and cyl\n",
    "mpg.linearModel <- lm(mpg.equation,mtcars)\n",
    "\n",
    "#Provides the values of coefficients, which can be plugged in to the linear model for \n",
    "#different values of independent variables(like wt in previous case)\n",
    "mpg.linearModel$coefficients\n",
    "\n",
    "#Provides summary of error/residual terms \n",
    "summary(mpg.linearModel$residuals)\n",
    "\n",
    "#Results are not so nice since the distribution is widespread between -5 to 7"
   ]
  },
  {
   "cell_type": "markdown",
   "metadata": {},
   "source": [
    "To submit the results, first save the notebook, then on the JUPYTER, not the browser file area, click print preview. This will result in a nice html image. You can screen capture that, or use the browser print feature to print to a pdf file. (This will depend on how your PC is set up). Upload the results to Canvas."
   ]
  }
 ],
 "metadata": {
  "kernelspec": {
   "display_name": "R",
   "language": "R",
   "name": "ir"
  },
  "language_info": {
   "codemirror_mode": "r",
   "file_extension": ".r",
   "mimetype": "text/x-r-source",
   "name": "R",
   "pygments_lexer": "r",
   "version": "3.5.0"
  }
 },
 "nbformat": 4,
 "nbformat_minor": 2
}
