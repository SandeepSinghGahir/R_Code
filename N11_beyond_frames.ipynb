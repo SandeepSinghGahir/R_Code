{
 "cells": [
  {
   "cell_type": "markdown",
   "metadata": {},
   "source": [
    "# N11_beyond_frames"
   ]
  },
  {
   "cell_type": "markdown",
   "metadata": {},
   "source": [
    "A data frame is a great way to look at data. It appears as a simple spread sheet, and the rows and columns can be easily accessed. There are other models for refering to data frames.  One of these, the time sequence, will be presented, but  used later. \n",
    "\n",
    "First, a little help dealing with data frames:\n",
    "\n",
    "One problem many students have is knowing what they have.  Use the class function to find out what it is."
   ]
  },
  {
   "cell_type": "code",
   "execution_count": 1,
   "metadata": {},
   "outputs": [
    {
     "data": {
      "text/html": [
       "'data.frame'"
      ],
      "text/latex": [
       "'data.frame'"
      ],
      "text/markdown": [
       "'data.frame'"
      ],
      "text/plain": [
       "[1] \"data.frame\""
      ]
     },
     "metadata": {},
     "output_type": "display_data"
    },
    {
     "data": {
      "text/html": [
       "'ts'"
      ],
      "text/latex": [
       "'ts'"
      ],
      "text/markdown": [
       "'ts'"
      ],
      "text/plain": [
       "[1] \"ts\""
      ]
     },
     "metadata": {},
     "output_type": "display_data"
    }
   ],
   "source": [
    "class(mtcars)\n",
    "class(UKgas)"
   ]
  },
  {
   "cell_type": "markdown",
   "metadata": {},
   "source": [
    "The mtcars is a data.frame, and we can use all we have learned on it. The UKgas is a 'ts' (time sequence). It is not the same as a data frame. You cannot use most data frame elements on it."
   ]
  },
  {
   "cell_type": "code",
   "execution_count": 2,
   "metadata": {},
   "outputs": [
    {
     "data": {
      "text/plain": [
       "       Qtr1   Qtr2   Qtr3   Qtr4\n",
       "1960  160.1  129.7   84.8  120.1\n",
       "1961  160.1  124.9   84.8  116.9\n",
       "1962  169.7  140.9   89.7  123.3\n",
       "1963  187.3  144.1   92.9  120.1\n",
       "1964  176.1  147.3   89.7  123.3\n",
       "1965  185.7  155.3   99.3  131.3\n",
       "1966  200.1  161.7  102.5  136.1\n",
       "1967  204.9  176.1  112.1  140.9\n",
       "1968  227.3  195.3  115.3  142.5\n",
       "1969  244.9  214.5  118.5  153.7\n",
       "1970  244.9  216.1  188.9  142.5\n",
       "1971  301.0  196.9  136.1  267.3\n",
       "1972  317.0  230.5  152.1  336.2\n",
       "1973  371.4  240.1  158.5  355.4\n",
       "1974  449.9  286.6  179.3  403.4\n",
       "1975  491.5  321.8  177.7  409.8\n",
       "1976  593.9  329.8  176.1  483.5\n",
       "1977  584.3  395.4  187.3  485.1\n",
       "1978  669.2  421.0  216.1  509.1\n",
       "1979  827.7  467.5  209.7  542.7\n",
       "1980  840.5  414.6  217.7  670.8\n",
       "1981  848.5  437.0  209.7  701.2\n",
       "1982  925.3  443.4  214.5  683.6\n",
       "1983  917.3  515.5  224.1  694.8\n",
       "1984  989.4  477.1  233.7  730.0\n",
       "1985 1087.0  534.7  281.8  787.6\n",
       "1986 1163.9  613.1  347.4  782.8"
      ]
     },
     "metadata": {},
     "output_type": "display_data"
    }
   ],
   "source": [
    "UKgas"
   ]
  },
  {
   "cell_type": "markdown",
   "metadata": {},
   "source": [
    "You can see that it has columns representing quarters, and rows representing years. "
   ]
  },
  {
   "cell_type": "code",
   "execution_count": 5,
   "metadata": {},
   "outputs": [
    {
     "data": {
      "text/html": [
       "155.3"
      ],
      "text/latex": [
       "155.3"
      ],
      "text/markdown": [
       "155.3"
      ],
      "text/plain": [
       "[1] 155.3"
      ]
     },
     "metadata": {},
     "output_type": "display_data"
    }
   ],
   "source": [
    "UKgas[22]"
   ]
  },
  {
   "cell_type": "markdown",
   "metadata": {},
   "source": [
    "It acts more like a list. There is one value per entry (typically), and they can be accessed in a linear fashion"
   ]
  },
  {
   "cell_type": "code",
   "execution_count": 8,
   "metadata": {},
   "outputs": [
    {
     "data": {
      "text/plain": [
       "   Min. 1st Qu.  Median    Mean 3rd Qu.    Max. \n",
       "   84.8   153.3   220.9   337.6   469.9  1163.9 "
      ]
     },
     "metadata": {},
     "output_type": "display_data"
    }
   ],
   "source": [
    "summary(UKgas)"
   ]
  },
  {
   "cell_type": "markdown",
   "metadata": {},
   "source": [
    "Many functions treat it like a simple series of data. The summary function understood what to do with the data. If looking for a seasonal trend, then You will find the seasonal nature of the data makes it hard to get reasonable results from combining all the quarters."
   ]
  },
  {
   "cell_type": "code",
   "execution_count": 11,
   "metadata": {},
   "outputs": [
    {
     "ename": "ERROR",
     "evalue": "Error in UKgas$Qtr1: $ operator is invalid for atomic vectors\n",
     "output_type": "error",
     "traceback": [
      "Error in UKgas$Qtr1: $ operator is invalid for atomic vectors\nTraceback:\n"
     ]
    }
   ],
   "source": [
    "UKgas$Qtr1"
   ]
  },
  {
   "cell_type": "code",
   "execution_count": 19,
   "metadata": {},
   "outputs": [
    {
     "data": {
      "text/html": [
       "'That didn\\'t work'"
      ],
      "text/latex": [
       "'That didn\\textbackslash{}'t work'"
      ],
      "text/markdown": [
       "'That didn\\'t work'"
      ],
      "text/plain": [
       "[1] \"That didn't work\""
      ]
     },
     "metadata": {},
     "output_type": "display_data"
    },
    {
     "data": {
      "text/html": [
       "<ol class=list-inline>\n",
       "\t<li>160.1</li>\n",
       "\t<li>160.1</li>\n",
       "\t<li>169.7</li>\n",
       "\t<li>187.3</li>\n",
       "\t<li>176.1</li>\n",
       "\t<li>185.7</li>\n",
       "\t<li>200.1</li>\n",
       "\t<li>204.9</li>\n",
       "\t<li>227.3</li>\n",
       "\t<li>244.9</li>\n",
       "\t<li>244.9</li>\n",
       "\t<li>301</li>\n",
       "\t<li>317</li>\n",
       "\t<li>371.4</li>\n",
       "\t<li>449.9</li>\n",
       "\t<li>491.5</li>\n",
       "\t<li>593.9</li>\n",
       "\t<li>584.3</li>\n",
       "\t<li>669.2</li>\n",
       "\t<li>827.7</li>\n",
       "\t<li>840.5</li>\n",
       "\t<li>848.5</li>\n",
       "\t<li>925.3</li>\n",
       "\t<li>917.3</li>\n",
       "\t<li>989.4</li>\n",
       "\t<li>1087</li>\n",
       "\t<li>1163.9</li>\n",
       "</ol>\n"
      ],
      "text/latex": [
       "\\begin{enumerate*}\n",
       "\\item 160.1\n",
       "\\item 160.1\n",
       "\\item 169.7\n",
       "\\item 187.3\n",
       "\\item 176.1\n",
       "\\item 185.7\n",
       "\\item 200.1\n",
       "\\item 204.9\n",
       "\\item 227.3\n",
       "\\item 244.9\n",
       "\\item 244.9\n",
       "\\item 301\n",
       "\\item 317\n",
       "\\item 371.4\n",
       "\\item 449.9\n",
       "\\item 491.5\n",
       "\\item 593.9\n",
       "\\item 584.3\n",
       "\\item 669.2\n",
       "\\item 827.7\n",
       "\\item 840.5\n",
       "\\item 848.5\n",
       "\\item 925.3\n",
       "\\item 917.3\n",
       "\\item 989.4\n",
       "\\item 1087\n",
       "\\item 1163.9\n",
       "\\end{enumerate*}\n"
      ],
      "text/markdown": [
       "1. 160.1\n",
       "2. 160.1\n",
       "3. 169.7\n",
       "4. 187.3\n",
       "5. 176.1\n",
       "6. 185.7\n",
       "7. 200.1\n",
       "8. 204.9\n",
       "9. 227.3\n",
       "10. 244.9\n",
       "11. 244.9\n",
       "12. 301\n",
       "13. 317\n",
       "14. 371.4\n",
       "15. 449.9\n",
       "16. 491.5\n",
       "17. 593.9\n",
       "18. 584.3\n",
       "19. 669.2\n",
       "20. 827.7\n",
       "21. 840.5\n",
       "22. 848.5\n",
       "23. 925.3\n",
       "24. 917.3\n",
       "25. 989.4\n",
       "26. 1087\n",
       "27. 1163.9\n",
       "\n",
       "\n"
      ],
      "text/plain": [
       " [1]  160.1  160.1  169.7  187.3  176.1  185.7  200.1  204.9  227.3  244.9\n",
       "[11]  244.9  301.0  317.0  371.4  449.9  491.5  593.9  584.3  669.2  827.7\n",
       "[21]  840.5  848.5  925.3  917.3  989.4 1087.0 1163.9"
      ]
     },
     "metadata": {},
     "output_type": "display_data"
    },
    {
     "data": {
      "text/plain": [
       "Time Series:\n",
       "Start = 1960 \n",
       "End = 1986 \n",
       "Frequency = 1 \n",
       " [1]  160.1  160.1  169.7  187.3  176.1  185.7  200.1  204.9  227.3  244.9\n",
       "[11]  244.9  301.0  317.0  371.4  449.9  491.5  593.9  584.3  669.2  827.7\n",
       "[21]  840.5  848.5  925.3  917.3  989.4 1087.0 1163.9"
      ]
     },
     "metadata": {},
     "output_type": "display_data"
    }
   ],
   "source": [
    "\"That didn't work\"\n",
    "UKgas[seq(1,length(UKgas),4)]\n",
    "window(UKgas,c(1960,1),c(1986,1),1)"
   ]
  },
  {
   "cell_type": "markdown",
   "metadata": {},
   "source": [
    "Here, the seq function was used to get items starting at quarter 1, and then each year by skipping ahead 4 quarters. This allows easy access to a column of time sequence data.\n",
    "\n",
    "The window function does something simular, but returns a time series from the starting and ending dates. The 3rd parameter tells it how many to extract for each year (1= annual, 12=monthly, 4=quarterly, 2=every 6 months.\n",
    "\n",
    "A summary of this shows how things look in the winter (Quarter 1)"
   ]
  },
  {
   "cell_type": "code",
   "execution_count": 20,
   "metadata": {},
   "outputs": [
    {
     "data": {
      "text/plain": [
       "   Min. 1st Qu.  Median    Mean 3rd Qu.    Max. \n",
       "  160.1   202.5   371.4   501.4   834.1  1163.9 "
      ]
     },
     "metadata": {},
     "output_type": "display_data"
    },
    {
     "data": {
      "image/png": "[encoded data removed]",
      "text/plain": [
       "plot without title"
      ]
     },
     "metadata": {},
     "output_type": "display_data"
    }
   ],
   "source": [
    "qtr1 <- window(UKgas,c(1960,1),c(1986,1),1)\n",
    "\n",
    "summary(qtr1)\n",
    "plot(qtr1)"
   ]
  },
  {
   "cell_type": "markdown",
   "metadata": {},
   "source": [
    "Note the rapid rise in gas consumption in the winter over the last 10 sample years. Compare this to the consumption in Q3 (assumed to be during the summer) Plot the ratio of winter usage to summer usage to see if general usage has gone up, or just summer usage"
   ]
  },
  {
   "cell_type": "code",
   "execution_count": 33,
   "metadata": {},
   "outputs": [
    {
     "data": {
      "image/png": "[encoded data removed]",
      "text/plain": [
       "plot without title"
      ]
     },
     "metadata": {},
     "output_type": "display_data"
    }
   ],
   "source": [
    "qtr3<- window(UKgas,c(1960,3),c(1986,3),1)\n",
    "plot(qtr1/qtr3)"
   ]
  },
  {
   "cell_type": "markdown",
   "metadata": {},
   "source": [
    "Plot just the summer usage"
   ]
  },
  {
   "cell_type": "code",
   "execution_count": 34,
   "metadata": {},
   "outputs": [
    {
     "data": {
      "image/png": "[encoded data removed]",
      "text/plain": [
       "plot without title"
      ]
     },
     "metadata": {},
     "output_type": "display_data"
    }
   ],
   "source": [
    "plot(qtr3)"
   ]
  },
  {
   "cell_type": "markdown",
   "metadata": {},
   "source": [
    "Summer is also going up.\n",
    "\n",
    "## data.frame hints\n",
    "\n",
    "Many time, you download a csv, and the data ends up as a factor. To convert it to a number, use as.character to make it a string, and then as.numeric to make the string a number.  This often happens in csv that don't have correct headers, or ones that have some typos in the data.\n",
    "\n",
    "Assume john is a data fram in factor format and the calorie column is a mess. Try a conversion...\n",
    "\n",
    "john\\$calorie <- as.numeric(as.character(john\\$calorie))\n",
    "\n"
   ]
  },
  {
   "cell_type": "code",
   "execution_count": 42,
   "metadata": {},
   "outputs": [
    {
     "data": {
      "text/html": [
       "'data.frame'"
      ],
      "text/latex": [
       "'data.frame'"
      ],
      "text/markdown": [
       "'data.frame'"
      ],
      "text/plain": [
       "[1] \"data.frame\""
      ]
     },
     "metadata": {},
     "output_type": "display_data"
    },
    {
     "data": {
      "text/html": [
       "<table>\n",
       "<thead><tr><th scope=col>calorie</th></tr></thead>\n",
       "<tbody>\n",
       "\t<tr><td>22</td></tr>\n",
       "\t<tr><td>13</td></tr>\n",
       "\t<tr><td>19</td></tr>\n",
       "</tbody>\n",
       "</table>\n"
      ],
      "text/latex": [
       "\\begin{tabular}{r|l}\n",
       " calorie\\\\\n",
       "\\hline\n",
       "\t 22\\\\\n",
       "\t 13\\\\\n",
       "\t 19\\\\\n",
       "\\end{tabular}\n"
      ],
      "text/markdown": [
       "\n",
       "calorie | \n",
       "|---|---|---|\n",
       "| 22 | \n",
       "| 13 | \n",
       "| 19 | \n",
       "\n",
       "\n"
      ],
      "text/plain": [
       "  calorie\n",
       "1 22     \n",
       "2 13     \n",
       "3 19     "
      ]
     },
     "metadata": {},
     "output_type": "display_data"
    },
    {
     "data": {
      "text/html": [
       "'factor'"
      ],
      "text/latex": [
       "'factor'"
      ],
      "text/markdown": [
       "'factor'"
      ],
      "text/plain": [
       "[1] \"factor\""
      ]
     },
     "metadata": {},
     "output_type": "display_data"
    }
   ],
   "source": [
    "john <- data.frame(calorie = c(\"22\",\"13\",\"19\") )\n",
    "class(john)\n",
    "john\n",
    "class(john$calorie)"
   ]
  },
  {
   "cell_type": "code",
   "execution_count": 43,
   "metadata": {},
   "outputs": [
    {
     "data": {
      "text/html": [
       "'numeric'"
      ],
      "text/latex": [
       "'numeric'"
      ],
      "text/markdown": [
       "'numeric'"
      ],
      "text/plain": [
       "[1] \"numeric\""
      ]
     },
     "metadata": {},
     "output_type": "display_data"
    }
   ],
   "source": [
    "john$calorie <- as.numeric(as.character(john$calorie))\n",
    "class(john$calorie)"
   ]
  },
  {
   "cell_type": "markdown",
   "metadata": {},
   "source": [
    "It has now been converted to numeric values, and can be used for statistics\n",
    "\n",
    "## where is bad data ?\n",
    "\n",
    "Often, you download a piece of data, and it has something bad in it. This prevents converting the data to numeric. The location of the bad data can be found using which.min (Somewhat indirectly)\n",
    "\n",
    "First an example of which.min (There is also a which.max)\n"
   ]
  },
  {
   "cell_type": "code",
   "execution_count": 46,
   "metadata": {},
   "outputs": [
    {
     "data": {
      "text/html": [
       "1"
      ],
      "text/latex": [
       "1"
      ],
      "text/markdown": [
       "1"
      ],
      "text/plain": [
       "[1] 1"
      ]
     },
     "metadata": {},
     "output_type": "display_data"
    },
    {
     "data": {
      "text/html": [
       "7"
      ],
      "text/latex": [
       "7"
      ],
      "text/markdown": [
       "7"
      ],
      "text/plain": [
       "[1] 7"
      ]
     },
     "metadata": {},
     "output_type": "display_data"
    }
   ],
   "source": [
    "jill <- c(2,4,6,8,3,2,1)\n",
    "min(jill)\n",
    "which.min(jill)"
   ]
  },
  {
   "cell_type": "code",
   "execution_count": 47,
   "metadata": {},
   "outputs": [
    {
     "ename": "ERROR",
     "evalue": "Error: is.atomic(x) is not TRUE\n",
     "output_type": "error",
     "traceback": [
      "Error: is.atomic(x) is not TRUE\nTraceback:\n",
      "1. sd(jill)",
      "2. var(if (is.vector(x) || is.factor(x)) x else as.double(x), na.rm = na.rm)",
      "3. stopifnot(is.atomic(x))",
      "4. stop(msg, call. = FALSE, domain = NA)"
     ]
    }
   ],
   "source": [
    "jill <- list(2,3,4,\"8\",3,2,1)\n",
    "sd(jill)"
   ]
  },
  {
   "cell_type": "code",
   "execution_count": 56,
   "metadata": {
    "scrolled": false
   },
   "outputs": [
    {
     "data": {
      "text/html": [
       "FALSE"
      ],
      "text/latex": [
       "FALSE"
      ],
      "text/markdown": [
       "FALSE"
      ],
      "text/plain": [
       "[1] FALSE"
      ]
     },
     "metadata": {},
     "output_type": "display_data"
    },
    {
     "data": {
      "text/html": [
       "<ol class=list-inline>\n",
       "\t<li>TRUE</li>\n",
       "\t<li>TRUE</li>\n",
       "\t<li>TRUE</li>\n",
       "\t<li>FALSE</li>\n",
       "\t<li>TRUE</li>\n",
       "\t<li>TRUE</li>\n",
       "\t<li>TRUE</li>\n",
       "</ol>\n"
      ],
      "text/latex": [
       "\\begin{enumerate*}\n",
       "\\item TRUE\n",
       "\\item TRUE\n",
       "\\item TRUE\n",
       "\\item FALSE\n",
       "\\item TRUE\n",
       "\\item TRUE\n",
       "\\item TRUE\n",
       "\\end{enumerate*}\n"
      ],
      "text/markdown": [
       "1. TRUE\n",
       "2. TRUE\n",
       "3. TRUE\n",
       "4. FALSE\n",
       "5. TRUE\n",
       "6. TRUE\n",
       "7. TRUE\n",
       "\n",
       "\n"
      ],
      "text/plain": [
       "[1]  TRUE  TRUE  TRUE FALSE  TRUE  TRUE  TRUE"
      ]
     },
     "metadata": {},
     "output_type": "display_data"
    },
    {
     "data": {
      "text/html": [
       "4"
      ],
      "text/latex": [
       "4"
      ],
      "text/markdown": [
       "4"
      ],
      "text/plain": [
       "[1] 4"
      ]
     },
     "metadata": {},
     "output_type": "display_data"
    }
   ],
   "source": [
    "# That didn't work, so where is the problem\n",
    "is.numeric(jill)\n",
    "sapply(jill,is.numeric)\n",
    "which.min(sapply(jill,is.numeric))"
   ]
  },
  {
   "cell_type": "markdown",
   "metadata": {},
   "source": [
    "In the box below, explain how this worked, and how you could use this on a downloaded data set (hint, false is less than true)"
   ]
  },
  {
   "cell_type": "markdown",
   "metadata": {},
   "source": [
    "Put your comments here\n",
    "\n",
    "#The function which.min() interprets 1 as TRUE and 0 as FALSE.\n",
    "So above result will become as:\n",
    "\n",
    "Interpretated value   1 1 1   0   1 1 1\n",
    "              index   1 2 3   4   5 6 7\n",
    "\n",
    "Here 4th index has the 0 value which is less than 1 and thus its the minimum index out of all.\n",
    "\n",
    "We can clean our data in a following  recursive fashion:\n",
    "1. Find the minimum/first index of error data.\n",
    "2. Correct the data.\n",
    "3. Revisit the loop to geta new minimum index.\n",
    "4. Correct the data and so on.\n",
    ".....\n",
    "\n"
   ]
  },
  {
   "cell_type": "markdown",
   "metadata": {},
   "source": [
    "Print the screen, download pdf, or what you can do, and submit the results on Canvas."
   ]
  }
 ],
 "metadata": {
  "kernelspec": {
   "display_name": "R",
   "language": "R",
   "name": "ir"
  },
  "language_info": {
   "codemirror_mode": "r",
   "file_extension": ".r",
   "mimetype": "text/x-r-source",
   "name": "R",
   "pygments_lexer": "r",
   "version": "3.5.0"
  }
 },
 "nbformat": 4,
 "nbformat_minor": 2
}
