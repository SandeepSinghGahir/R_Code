{
 "cells": [
  {
   "cell_type": "markdown",
   "metadata": {},
   "source": [
    "# More fun with sentiment\n",
    "\n",
    "A new set of packages to play with"
   ]
  },
  {
   "cell_type": "code",
   "execution_count": 1,
   "metadata": {},
   "outputs": [
    {
     "name": "stderr",
     "output_type": "stream",
     "text": [
      "── Attaching packages ─────────────────────────────────────── tidyverse 1.2.1 ──\n",
      "✔ ggplot2 3.0.0     ✔ purrr   0.2.5\n",
      "✔ tibble  1.4.2     ✔ dplyr   0.7.6\n",
      "✔ tidyr   0.8.1     ✔ stringr 1.3.1\n",
      "✔ readr   1.1.1     ✔ forcats 0.3.0\n",
      "── Conflicts ────────────────────────────────────────── tidyverse_conflicts() ──\n",
      "✖ dplyr::filter() masks stats::filter()\n",
      "✖ dplyr::lag()    masks stats::lag()\n",
      "\n",
      "Attaching package: ‘glue’\n",
      "\n",
      "The following object is masked from ‘package:dplyr’:\n",
      "\n",
      "    collapse\n",
      "\n"
     ]
    }
   ],
   "source": [
    "#install.packages(\"rlang\")\n",
    "#install.packages(\"tidyverse\")\n",
    "#install.packages(\"tidytext\")\n",
    "#install.packages(\"glue\")\n",
    "#install.packages(\"stringr\")\n",
    "#install.packages(\"lexicon\")\n",
    "library(tidyverse)\n",
    "library(tidytext)\n",
    "library(glue)\n",
    "library(stringr)\n",
    "library(lexicon)"
   ]
  },
  {
   "cell_type": "code",
   "execution_count": 2,
   "metadata": {},
   "outputs": [],
   "source": [
    "bob <- glue(read_file(\"data/cnn.txt\"))"
   ]
  },
  {
   "cell_type": "code",
   "execution_count": 11,
   "metadata": {},
   "outputs": [
    {
     "data": {
      "text/html": [
       "<ol class=list-inline>\n",
       "\t<li>'tbl_df'</li>\n",
       "\t<li>'tbl'</li>\n",
       "\t<li>'data.frame'</li>\n",
       "</ol>\n"
      ],
      "text/latex": [
       "\\begin{enumerate*}\n",
       "\\item 'tbl\\_df'\n",
       "\\item 'tbl'\n",
       "\\item 'data.frame'\n",
       "\\end{enumerate*}\n"
      ],
      "text/markdown": [
       "1. 'tbl_df'\n",
       "2. 'tbl'\n",
       "3. 'data.frame'\n",
       "\n",
       "\n"
      ],
      "text/plain": [
       "[1] \"tbl_df\"     \"tbl\"        \"data.frame\""
      ]
     },
     "metadata": {},
     "output_type": "display_data"
    }
   ],
   "source": [
    "tokens <- data_frame(text = bob)  %>% unnest_tokens(word, text)\n",
    "class(tokens)"
   ]
  },
  {
   "cell_type": "code",
   "execution_count": 12,
   "metadata": {},
   "outputs": [
    {
     "data": {
      "text/html": [
       "<table>\n",
       "<thead><tr><th scope=col>word</th></tr></thead>\n",
       "<tbody>\n",
       "\t<tr><td>justice   </td></tr>\n",
       "\t<tr><td>department</td></tr>\n",
       "\t<tr><td>special   </td></tr>\n",
       "\t<tr><td>counsel   </td></tr>\n",
       "\t<tr><td>robert    </td></tr>\n",
       "\t<tr><td>mueller's </td></tr>\n",
       "\t<tr><td>one       </td></tr>\n",
       "\t<tr><td>two       </td></tr>\n",
       "\t<tr><td>punch     </td></tr>\n",
       "</tbody>\n",
       "</table>\n"
      ],
      "text/latex": [
       "\\begin{tabular}{r|l}\n",
       " word\\\\\n",
       "\\hline\n",
       "\t justice   \\\\\n",
       "\t department\\\\\n",
       "\t special   \\\\\n",
       "\t counsel   \\\\\n",
       "\t robert    \\\\\n",
       "\t mueller's \\\\\n",
       "\t one       \\\\\n",
       "\t two       \\\\\n",
       "\t punch     \\\\\n",
       "\\end{tabular}\n"
      ],
      "text/markdown": [
       "\n",
       "word | \n",
       "|---|---|---|---|---|---|---|---|---|\n",
       "| justice    | \n",
       "| department | \n",
       "| special    | \n",
       "| counsel    | \n",
       "| robert     | \n",
       "| mueller's  | \n",
       "| one        | \n",
       "| two        | \n",
       "| punch      | \n",
       "\n",
       "\n"
      ],
      "text/plain": [
       "  word      \n",
       "1 justice   \n",
       "2 department\n",
       "3 special   \n",
       "4 counsel   \n",
       "5 robert    \n",
       "6 mueller's \n",
       "7 one       \n",
       "8 two       \n",
       "9 punch     "
      ]
     },
     "metadata": {},
     "output_type": "display_data"
    }
   ],
   "source": [
    "head(tokens,9)"
   ]
  },
  {
   "cell_type": "code",
   "execution_count": 13,
   "metadata": {},
   "outputs": [
    {
     "name": "stderr",
     "output_type": "stream",
     "text": [
      "Joining, by = \"word\"\n"
     ]
    }
   ],
   "source": [
    "t1 <- tokens %>% inner_join(get_sentiments(\"bing\"))"
   ]
  },
  {
   "cell_type": "code",
   "execution_count": 14,
   "metadata": {},
   "outputs": [
    {
     "data": {
      "text/html": [
       "<table>\n",
       "<thead><tr><th scope=col>word</th><th scope=col>sentiment</th></tr></thead>\n",
       "<tbody>\n",
       "\t<tr><td>punch   </td><td>negative</td></tr>\n",
       "\t<tr><td>forceful</td><td>negative</td></tr>\n",
       "\t<tr><td>trump   </td><td>positive</td></tr>\n",
       "\t<tr><td>trump   </td><td>positive</td></tr>\n",
       "</tbody>\n",
       "</table>\n"
      ],
      "text/latex": [
       "\\begin{tabular}{r|ll}\n",
       " word & sentiment\\\\\n",
       "\\hline\n",
       "\t punch    & negative\\\\\n",
       "\t forceful & negative\\\\\n",
       "\t trump    & positive\\\\\n",
       "\t trump    & positive\\\\\n",
       "\\end{tabular}\n"
      ],
      "text/markdown": [
       "\n",
       "word | sentiment | \n",
       "|---|---|---|---|\n",
       "| punch    | negative | \n",
       "| forceful | negative | \n",
       "| trump    | positive | \n",
       "| trump    | positive | \n",
       "\n",
       "\n"
      ],
      "text/plain": [
       "  word     sentiment\n",
       "1 punch    negative \n",
       "2 forceful negative \n",
       "3 trump    positive \n",
       "4 trump    positive "
      ]
     },
     "metadata": {},
     "output_type": "display_data"
    }
   ],
   "source": [
    "head(t1,4)"
   ]
  },
  {
   "cell_type": "code",
   "execution_count": 16,
   "metadata": {},
   "outputs": [
    {
     "data": {
      "text/html": [
       "<table>\n",
       "<thead><tr><th scope=col>sentiment</th><th scope=col>n</th></tr></thead>\n",
       "<tbody>\n",
       "\t<tr><td>negative</td><td>32      </td></tr>\n",
       "\t<tr><td>positive</td><td>19      </td></tr>\n",
       "</tbody>\n",
       "</table>\n"
      ],
      "text/latex": [
       "\\begin{tabular}{r|ll}\n",
       " sentiment & n\\\\\n",
       "\\hline\n",
       "\t negative & 32      \\\\\n",
       "\t positive & 19      \\\\\n",
       "\\end{tabular}\n"
      ],
      "text/markdown": [
       "\n",
       "sentiment | n | \n",
       "|---|---|\n",
       "| negative | 32       | \n",
       "| positive | 19       | \n",
       "\n",
       "\n"
      ],
      "text/plain": [
       "  sentiment n \n",
       "1 negative  32\n",
       "2 positive  19"
      ]
     },
     "metadata": {},
     "output_type": "display_data"
    }
   ],
   "source": [
    "t2 <- count(t1,sentiment)\n",
    "head(t2)"
   ]
  },
  {
   "cell_type": "code",
   "execution_count": 19,
   "metadata": {},
   "outputs": [
    {
     "name": "stdout",
     "output_type": "stream",
     "text": [
      "Classes ‘tbl_df’, ‘tbl’ and 'data.frame':\t6788 obs. of  2 variables:\n",
      " $ word     : chr  \"2-faced\" \"2-faces\" \"a+\" \"abnormal\" ...\n",
      " $ sentiment: chr  \"negative\" \"negative\" \"positive\" \"negative\" ...\n"
     ]
    }
   ],
   "source": [
    "str(get_sentiments(\"bing\"))"
   ]
  },
  {
   "cell_type": "code",
   "execution_count": 22,
   "metadata": {},
   "outputs": [
    {
     "data": {
      "text/html": [
       "<table>\n",
       "<thead><tr><th scope=col>negative</th><th scope=col>positive</th><th scope=col>sentiment</th></tr></thead>\n",
       "<tbody>\n",
       "\t<tr><td>32 </td><td>19 </td><td>-13</td></tr>\n",
       "</tbody>\n",
       "</table>\n"
      ],
      "text/latex": [
       "\\begin{tabular}{r|lll}\n",
       " negative & positive & sentiment\\\\\n",
       "\\hline\n",
       "\t 32  & 19  & -13\\\\\n",
       "\\end{tabular}\n"
      ],
      "text/markdown": [
       "\n",
       "negative | positive | sentiment | \n",
       "|---|\n",
       "| 32  | 19  | -13 | \n",
       "\n",
       "\n"
      ],
      "text/plain": [
       "  negative positive sentiment\n",
       "1 32       19       -13      "
      ]
     },
     "metadata": {},
     "output_type": "display_data"
    }
   ],
   "source": [
    "t3 <- spread(t2,sentiment,n,fill=0) %>% mutate(sentiment=positive-negative)\n",
    "t3"
   ]
  },
  {
   "cell_type": "code",
   "execution_count": 10,
   "metadata": {},
   "outputs": [
    {
     "data": {
      "text/html": [
       "-0.254901960784314"
      ],
      "text/latex": [
       "-0.254901960784314"
      ],
      "text/markdown": [
       "-0.254901960784314"
      ],
      "text/plain": [
       "[1] -0.254902"
      ]
     },
     "metadata": {},
     "output_type": "display_data"
    }
   ],
   "source": [
    "t3$sentiment/(t3$negative+t3$positive)"
   ]
  },
  {
   "cell_type": "code",
   "execution_count": 11,
   "metadata": {},
   "outputs": [
    {
     "data": {
      "text/html": [
       "<table>\n",
       "<thead><tr><th scope=col>word</th><th scope=col>sentiment</th></tr></thead>\n",
       "<tbody>\n",
       "\t<tr><td>2-faced   </td><td>negative  </td></tr>\n",
       "\t<tr><td>2-faces   </td><td>negative  </td></tr>\n",
       "\t<tr><td>a+        </td><td>positive  </td></tr>\n",
       "\t<tr><td>abnormal  </td><td>negative  </td></tr>\n",
       "\t<tr><td>abolish   </td><td>negative  </td></tr>\n",
       "\t<tr><td>abominable</td><td>negative  </td></tr>\n",
       "</tbody>\n",
       "</table>\n"
      ],
      "text/latex": [
       "\\begin{tabular}{r|ll}\n",
       " word & sentiment\\\\\n",
       "\\hline\n",
       "\t 2-faced    & negative  \\\\\n",
       "\t 2-faces    & negative  \\\\\n",
       "\t a+         & positive  \\\\\n",
       "\t abnormal   & negative  \\\\\n",
       "\t abolish    & negative  \\\\\n",
       "\t abominable & negative  \\\\\n",
       "\\end{tabular}\n"
      ],
      "text/markdown": [
       "\n",
       "word | sentiment | \n",
       "|---|---|---|---|---|---|\n",
       "| 2-faced    | negative   | \n",
       "| 2-faces    | negative   | \n",
       "| a+         | positive   | \n",
       "| abnormal   | negative   | \n",
       "| abolish    | negative   | \n",
       "| abominable | negative   | \n",
       "\n",
       "\n"
      ],
      "text/plain": [
       "  word       sentiment\n",
       "1 2-faced    negative \n",
       "2 2-faces    negative \n",
       "3 a+         positive \n",
       "4 abnormal   negative \n",
       "5 abolish    negative \n",
       "6 abominable negative "
      ]
     },
     "metadata": {},
     "output_type": "display_data"
    },
    {
     "data": {
      "text/html": [
       "<ol class=list-inline>\n",
       "\t<li>'tbl_df'</li>\n",
       "\t<li>'tbl'</li>\n",
       "\t<li>'data.frame'</li>\n",
       "</ol>\n"
      ],
      "text/latex": [
       "\\begin{enumerate*}\n",
       "\\item 'tbl\\_df'\n",
       "\\item 'tbl'\n",
       "\\item 'data.frame'\n",
       "\\end{enumerate*}\n"
      ],
      "text/markdown": [
       "1. 'tbl_df'\n",
       "2. 'tbl'\n",
       "3. 'data.frame'\n",
       "\n",
       "\n"
      ],
      "text/plain": [
       "[1] \"tbl_df\"     \"tbl\"        \"data.frame\""
      ]
     },
     "metadata": {},
     "output_type": "display_data"
    }
   ],
   "source": [
    "head(get_sentiments(\"bing\"))\n",
    "sue <- get_sentiments(\"bing\")\n",
    "class(sue)"
   ]
  },
  {
   "cell_type": "code",
   "execution_count": 12,
   "metadata": {},
   "outputs": [
    {
     "data": {
      "text/html": [
       "<ol class=list-inline>\n",
       "\t<li>'tbl_df'</li>\n",
       "\t<li>'tbl'</li>\n",
       "\t<li>'data.frame'</li>\n",
       "</ol>\n"
      ],
      "text/latex": [
       "\\begin{enumerate*}\n",
       "\\item 'tbl\\_df'\n",
       "\\item 'tbl'\n",
       "\\item 'data.frame'\n",
       "\\end{enumerate*}\n"
      ],
      "text/markdown": [
       "1. 'tbl_df'\n",
       "2. 'tbl'\n",
       "3. 'data.frame'\n",
       "\n",
       "\n"
      ],
      "text/plain": [
       "[1] \"tbl_df\"     \"tbl\"        \"data.frame\""
      ]
     },
     "metadata": {},
     "output_type": "display_data"
    },
    {
     "data": {
      "text/html": [
       "<table>\n",
       "<thead><tr><th scope=col>word</th><th scope=col>lexicon</th></tr></thead>\n",
       "<tbody>\n",
       "\t<tr><td>a        </td><td>SMART    </td></tr>\n",
       "\t<tr><td>a's      </td><td>SMART    </td></tr>\n",
       "\t<tr><td>able     </td><td>SMART    </td></tr>\n",
       "\t<tr><td>about    </td><td>SMART    </td></tr>\n",
       "\t<tr><td>above    </td><td>SMART    </td></tr>\n",
       "\t<tr><td>according</td><td>SMART    </td></tr>\n",
       "</tbody>\n",
       "</table>\n"
      ],
      "text/latex": [
       "\\begin{tabular}{r|ll}\n",
       " word & lexicon\\\\\n",
       "\\hline\n",
       "\t a         & SMART    \\\\\n",
       "\t a's       & SMART    \\\\\n",
       "\t able      & SMART    \\\\\n",
       "\t about     & SMART    \\\\\n",
       "\t above     & SMART    \\\\\n",
       "\t according & SMART    \\\\\n",
       "\\end{tabular}\n"
      ],
      "text/markdown": [
       "\n",
       "word | lexicon | \n",
       "|---|---|---|---|---|---|\n",
       "| a         | SMART     | \n",
       "| a's       | SMART     | \n",
       "| able      | SMART     | \n",
       "| about     | SMART     | \n",
       "| above     | SMART     | \n",
       "| according | SMART     | \n",
       "\n",
       "\n"
      ],
      "text/plain": [
       "  word      lexicon\n",
       "1 a         SMART  \n",
       "2 a's       SMART  \n",
       "3 able      SMART  \n",
       "4 about     SMART  \n",
       "5 above     SMART  \n",
       "6 according SMART  "
      ]
     },
     "metadata": {},
     "output_type": "display_data"
    }
   ],
   "source": [
    "class(stop_words)\n",
    "head(stop_words)"
   ]
  },
  {
   "cell_type": "code",
   "execution_count": 24,
   "metadata": {},
   "outputs": [
    {
     "data": {
      "text/html": [
       "<table>\n",
       "<thead><tr><th scope=col>word</th><th scope=col>sentiment</th></tr></thead>\n",
       "<tbody>\n",
       "\t<tr><td>abacus     </td><td>trust      </td></tr>\n",
       "\t<tr><td>abandon    </td><td>fear       </td></tr>\n",
       "\t<tr><td>abandon    </td><td>negative   </td></tr>\n",
       "\t<tr><td>abandon    </td><td>sadness    </td></tr>\n",
       "\t<tr><td>abandoned  </td><td>anger      </td></tr>\n",
       "\t<tr><td>abandoned  </td><td>fear       </td></tr>\n",
       "\t<tr><td>abandoned  </td><td>negative   </td></tr>\n",
       "\t<tr><td>abandoned  </td><td>sadness    </td></tr>\n",
       "\t<tr><td>abandonment</td><td>anger      </td></tr>\n",
       "</tbody>\n",
       "</table>\n"
      ],
      "text/latex": [
       "\\begin{tabular}{r|ll}\n",
       " word & sentiment\\\\\n",
       "\\hline\n",
       "\t abacus      & trust      \\\\\n",
       "\t abandon     & fear       \\\\\n",
       "\t abandon     & negative   \\\\\n",
       "\t abandon     & sadness    \\\\\n",
       "\t abandoned   & anger      \\\\\n",
       "\t abandoned   & fear       \\\\\n",
       "\t abandoned   & negative   \\\\\n",
       "\t abandoned   & sadness    \\\\\n",
       "\t abandonment & anger      \\\\\n",
       "\\end{tabular}\n"
      ],
      "text/markdown": [
       "\n",
       "word | sentiment | \n",
       "|---|---|---|---|---|---|---|---|---|\n",
       "| abacus      | trust       | \n",
       "| abandon     | fear        | \n",
       "| abandon     | negative    | \n",
       "| abandon     | sadness     | \n",
       "| abandoned   | anger       | \n",
       "| abandoned   | fear        | \n",
       "| abandoned   | negative    | \n",
       "| abandoned   | sadness     | \n",
       "| abandonment | anger       | \n",
       "\n",
       "\n"
      ],
      "text/plain": [
       "  word        sentiment\n",
       "1 abacus      trust    \n",
       "2 abandon     fear     \n",
       "3 abandon     negative \n",
       "4 abandon     sadness  \n",
       "5 abandoned   anger    \n",
       "6 abandoned   fear     \n",
       "7 abandoned   negative \n",
       "8 abandoned   sadness  \n",
       "9 abandonment anger    "
      ]
     },
     "metadata": {},
     "output_type": "display_data"
    },
    {
     "data": {
      "text/html": [
       "6468"
      ],
      "text/latex": [
       "6468"
      ],
      "text/markdown": [
       "6468"
      ],
      "text/plain": [
       "[1] 6468"
      ]
     },
     "metadata": {},
     "output_type": "display_data"
    }
   ],
   "source": [
    "nrc <- get_sentiments(\"nrc\")\n",
    "head(nrc,9)\n",
    "length(unlist(nrc[,1]))"
   ]
  },
  {
   "cell_type": "code",
   "execution_count": 14,
   "metadata": {},
   "outputs": [],
   "source": [
    "#help(data.frame)"
   ]
  },
  {
   "cell_type": "code",
   "execution_count": 15,
   "metadata": {},
   "outputs": [],
   "source": [
    "silly <- data.frame(word=c(\"monday\",\"there\",\"message\",\"message\"),\n",
    "                    sentiment=c(\"sad\",\"silly\",\"devious\",\"sad\"),\n",
    "                   stringsAsFactors=FALSE) # This part VERY important"
   ]
  },
  {
   "cell_type": "code",
   "execution_count": 16,
   "metadata": {},
   "outputs": [
    {
     "data": {
      "text/html": [
       "'data.frame'"
      ],
      "text/latex": [
       "'data.frame'"
      ],
      "text/markdown": [
       "'data.frame'"
      ],
      "text/plain": [
       "[1] \"data.frame\""
      ]
     },
     "metadata": {},
     "output_type": "display_data"
    },
    {
     "data": {
      "text/html": [
       "<table>\n",
       "<thead><tr><th scope=col>word</th><th scope=col>sentiment</th></tr></thead>\n",
       "<tbody>\n",
       "\t<tr><td>monday </td><td>sad    </td></tr>\n",
       "\t<tr><td>there  </td><td>silly  </td></tr>\n",
       "\t<tr><td>message</td><td>devious</td></tr>\n",
       "</tbody>\n",
       "</table>\n"
      ],
      "text/latex": [
       "\\begin{tabular}{r|ll}\n",
       " word & sentiment\\\\\n",
       "\\hline\n",
       "\t monday  & sad    \\\\\n",
       "\t there   & silly  \\\\\n",
       "\t message & devious\\\\\n",
       "\\end{tabular}\n"
      ],
      "text/markdown": [
       "\n",
       "word | sentiment | \n",
       "|---|---|---|\n",
       "| monday  | sad     | \n",
       "| there   | silly   | \n",
       "| message | devious | \n",
       "\n",
       "\n"
      ],
      "text/plain": [
       "  word    sentiment\n",
       "1 monday  sad      \n",
       "2 there   silly    \n",
       "3 message devious  "
      ]
     },
     "metadata": {},
     "output_type": "display_data"
    }
   ],
   "source": [
    "class(silly)\n",
    "head(silly,3)"
   ]
  },
  {
   "cell_type": "code",
   "execution_count": 17,
   "metadata": {},
   "outputs": [],
   "source": [
    "#help(inner_join)"
   ]
  },
  {
   "cell_type": "code",
   "execution_count": 18,
   "metadata": {},
   "outputs": [
    {
     "name": "stderr",
     "output_type": "stream",
     "text": [
      "Joining, by = \"word\"\n"
     ]
    }
   ],
   "source": [
    "bob<-inner_join(tokens,silly)"
   ]
  },
  {
   "cell_type": "code",
   "execution_count": 19,
   "metadata": {},
   "outputs": [
    {
     "name": "stderr",
     "output_type": "stream",
     "text": [
      "Joining, by = \"word\"\n"
     ]
    },
    {
     "data": {
      "text/html": [
       "<table>\n",
       "<thead><tr><th scope=col>sentiment</th><th scope=col>n</th></tr></thead>\n",
       "<tbody>\n",
       "\t<tr><td>devious</td><td>1      </td></tr>\n",
       "\t<tr><td>sad    </td><td>7      </td></tr>\n",
       "\t<tr><td>silly  </td><td>1      </td></tr>\n",
       "</tbody>\n",
       "</table>\n"
      ],
      "text/latex": [
       "\\begin{tabular}{r|ll}\n",
       " sentiment & n\\\\\n",
       "\\hline\n",
       "\t devious & 1      \\\\\n",
       "\t sad     & 7      \\\\\n",
       "\t silly   & 1      \\\\\n",
       "\\end{tabular}\n"
      ],
      "text/markdown": [
       "\n",
       "sentiment | n | \n",
       "|---|---|---|\n",
       "| devious | 1       | \n",
       "| sad     | 7       | \n",
       "| silly   | 1       | \n",
       "\n",
       "\n"
      ],
      "text/plain": [
       "  sentiment n\n",
       "1 devious   1\n",
       "2 sad       7\n",
       "3 silly     1"
      ]
     },
     "metadata": {},
     "output_type": "display_data"
    }
   ],
   "source": [
    "count(inner_join(tokens,silly),sentiment)"
   ]
  },
  {
   "cell_type": "code",
   "execution_count": 20,
   "metadata": {},
   "outputs": [
    {
     "data": {
      "text/html": [
       "<table>\n",
       "<thead><tr><th scope=col>devious</th><th scope=col>sad</th><th scope=col>silly</th></tr></thead>\n",
       "<tbody>\n",
       "\t<tr><td>1</td><td>7</td><td>1</td></tr>\n",
       "</tbody>\n",
       "</table>\n"
      ],
      "text/latex": [
       "\\begin{tabular}{r|lll}\n",
       " devious & sad & silly\\\\\n",
       "\\hline\n",
       "\t 1 & 7 & 1\\\\\n",
       "\\end{tabular}\n"
      ],
      "text/markdown": [
       "\n",
       "devious | sad | silly | \n",
       "|---|\n",
       "| 1 | 7 | 1 | \n",
       "\n",
       "\n"
      ],
      "text/plain": [
       "  devious sad silly\n",
       "1 1       7   1    "
      ]
     },
     "metadata": {},
     "output_type": "display_data"
    }
   ],
   "source": [
    "bobC <- spread(count(bob,sentiment),sentiment,n,fill=0)\n",
    "bobC"
   ]
  },
  {
   "cell_type": "code",
   "execution_count": 21,
   "metadata": {},
   "outputs": [
    {
     "data": {
      "text/html": [
       "<table>\n",
       "<thead><tr><th scope=col>word</th><th scope=col>sentiment</th></tr></thead>\n",
       "<tbody>\n",
       "\t<tr><td>12          </td><td>drop        </td></tr>\n",
       "\t<tr><td>13          </td><td>drop        </td></tr>\n",
       "\t<tr><td>17          </td><td>drop        </td></tr>\n",
       "\t<tr><td>2001        </td><td>drop        </td></tr>\n",
       "\t<tr><td>2016        </td><td>drop        </td></tr>\n",
       "\t<tr><td>27          </td><td>drop        </td></tr>\n",
       "\t<tr><td>30          </td><td>drop        </td></tr>\n",
       "\t<tr><td>31          </td><td>drop        </td></tr>\n",
       "\t<tr><td>5           </td><td>drop        </td></tr>\n",
       "\t<tr><td>a           </td><td>drop        </td></tr>\n",
       "\t<tr><td>aaron       </td><td>drop        </td></tr>\n",
       "\t<tr><td>able        </td><td>drop        </td></tr>\n",
       "\t<tr><td>about       </td><td>drop        </td></tr>\n",
       "\t<tr><td>accompanying</td><td>drop        </td></tr>\n",
       "\t<tr><td>according   </td><td>drop        </td></tr>\n",
       "\t<tr><td>account     </td><td>drop        </td></tr>\n",
       "\t<tr><td>accounts    </td><td>drop        </td></tr>\n",
       "\t<tr><td>additional  </td><td>drop        </td></tr>\n",
       "\t<tr><td>adviser     </td><td>drop        </td></tr>\n",
       "\t<tr><td>advisers    </td><td>drop        </td></tr>\n",
       "\t<tr><td>after       </td><td>drop        </td></tr>\n",
       "\t<tr><td>against     </td><td>drop        </td></tr>\n",
       "\t<tr><td>agent       </td><td>drop        </td></tr>\n",
       "\t<tr><td>agents      </td><td>drop        </td></tr>\n",
       "\t<tr><td>airport     </td><td>drop        </td></tr>\n",
       "\t<tr><td>alert       </td><td>drop        </td></tr>\n",
       "\t<tr><td>all         </td><td>drop        </td></tr>\n",
       "\t<tr><td>alleges     </td><td>drop        </td></tr>\n",
       "\t<tr><td>already     </td><td>drop        </td></tr>\n",
       "\t<tr><td>also        </td><td>drop        </td></tr>\n",
       "</tbody>\n",
       "</table>\n"
      ],
      "text/latex": [
       "\\begin{tabular}{r|ll}\n",
       " word & sentiment\\\\\n",
       "\\hline\n",
       "\t 12           & drop        \\\\\n",
       "\t 13           & drop        \\\\\n",
       "\t 17           & drop        \\\\\n",
       "\t 2001         & drop        \\\\\n",
       "\t 2016         & drop        \\\\\n",
       "\t 27           & drop        \\\\\n",
       "\t 30           & drop        \\\\\n",
       "\t 31           & drop        \\\\\n",
       "\t 5            & drop        \\\\\n",
       "\t a            & drop        \\\\\n",
       "\t aaron        & drop        \\\\\n",
       "\t able         & drop        \\\\\n",
       "\t about        & drop        \\\\\n",
       "\t accompanying & drop        \\\\\n",
       "\t according    & drop        \\\\\n",
       "\t account      & drop        \\\\\n",
       "\t accounts     & drop        \\\\\n",
       "\t additional   & drop        \\\\\n",
       "\t adviser      & drop        \\\\\n",
       "\t advisers     & drop        \\\\\n",
       "\t after        & drop        \\\\\n",
       "\t against      & drop        \\\\\n",
       "\t agent        & drop        \\\\\n",
       "\t agents       & drop        \\\\\n",
       "\t airport      & drop        \\\\\n",
       "\t alert        & drop        \\\\\n",
       "\t all          & drop        \\\\\n",
       "\t alleges      & drop        \\\\\n",
       "\t already      & drop        \\\\\n",
       "\t also         & drop        \\\\\n",
       "\\end{tabular}\n"
      ],
      "text/markdown": [
       "\n",
       "word | sentiment | \n",
       "|---|---|---|---|---|---|---|---|---|---|---|---|---|---|---|---|---|---|---|---|---|---|---|---|---|---|---|---|---|---|\n",
       "| 12           | drop         | \n",
       "| 13           | drop         | \n",
       "| 17           | drop         | \n",
       "| 2001         | drop         | \n",
       "| 2016         | drop         | \n",
       "| 27           | drop         | \n",
       "| 30           | drop         | \n",
       "| 31           | drop         | \n",
       "| 5            | drop         | \n",
       "| a            | drop         | \n",
       "| aaron        | drop         | \n",
       "| able         | drop         | \n",
       "| about        | drop         | \n",
       "| accompanying | drop         | \n",
       "| according    | drop         | \n",
       "| account      | drop         | \n",
       "| accounts     | drop         | \n",
       "| additional   | drop         | \n",
       "| adviser      | drop         | \n",
       "| advisers     | drop         | \n",
       "| after        | drop         | \n",
       "| against      | drop         | \n",
       "| agent        | drop         | \n",
       "| agents       | drop         | \n",
       "| airport      | drop         | \n",
       "| alert        | drop         | \n",
       "| all          | drop         | \n",
       "| alleges      | drop         | \n",
       "| already      | drop         | \n",
       "| also         | drop         | \n",
       "\n",
       "\n"
      ],
      "text/plain": [
       "   word         sentiment\n",
       "1  12           drop     \n",
       "2  13           drop     \n",
       "3  17           drop     \n",
       "4  2001         drop     \n",
       "5  2016         drop     \n",
       "6  27           drop     \n",
       "7  30           drop     \n",
       "8  31           drop     \n",
       "9  5            drop     \n",
       "10 a            drop     \n",
       "11 aaron        drop     \n",
       "12 able         drop     \n",
       "13 about        drop     \n",
       "14 accompanying drop     \n",
       "15 according    drop     \n",
       "16 account      drop     \n",
       "17 accounts     drop     \n",
       "18 additional   drop     \n",
       "19 adviser      drop     \n",
       "20 advisers     drop     \n",
       "21 after        drop     \n",
       "22 against      drop     \n",
       "23 agent        drop     \n",
       "24 agents       drop     \n",
       "25 airport      drop     \n",
       "26 alert        drop     \n",
       "27 all          drop     \n",
       "28 alleges      drop     \n",
       "29 already      drop     \n",
       "30 also         drop     "
      ]
     },
     "metadata": {},
     "output_type": "display_data"
    }
   ],
   "source": [
    "#tokens\n",
    "gianni <- count(tokens,word)\n",
    "gianni <- gianni[,-2]\n",
    "gianni$sentiment <- \"drop\"\n",
    "head(gianni,30)\n",
    "#write.csv(gianni,file=\"data/mywords.csv\")"
   ]
  },
  {
   "cell_type": "code",
   "execution_count": 22,
   "metadata": {},
   "outputs": [],
   "source": [
    "help(read.csv)"
   ]
  },
  {
   "cell_type": "code",
   "execution_count": 23,
   "metadata": {},
   "outputs": [],
   "source": [
    "tt <-read.csv(\"data/mywords.csv\",stringsAsFactors=FALSE)"
   ]
  },
  {
   "cell_type": "code",
   "execution_count": 24,
   "metadata": {},
   "outputs": [
    {
     "data": {
      "text/html": [
       "<table>\n",
       "<thead><tr><th></th><th scope=col>word</th><th scope=col>sentiment</th></tr></thead>\n",
       "<tbody>\n",
       "\t<tr><th scope=row>7</th><td>account   </td><td>rich      </td></tr>\n",
       "\t<tr><th scope=row>8</th><td>accounts  </td><td>rich      </td></tr>\n",
       "\t<tr><th scope=row>9</th><td>additional</td><td>rich      </td></tr>\n",
       "\t<tr><th scope=row>10</th><td>adviser   </td><td>rich      </td></tr>\n",
       "\t<tr><th scope=row>11</th><td>advisers  </td><td>rich      </td></tr>\n",
       "\t<tr><th scope=row>14</th><td>agent     </td><td>rich      </td></tr>\n",
       "</tbody>\n",
       "</table>\n"
      ],
      "text/latex": [
       "\\begin{tabular}{r|ll}\n",
       "  & word & sentiment\\\\\n",
       "\\hline\n",
       "\t7 & account    & rich      \\\\\n",
       "\t8 & accounts   & rich      \\\\\n",
       "\t9 & additional & rich      \\\\\n",
       "\t10 & adviser    & rich      \\\\\n",
       "\t11 & advisers   & rich      \\\\\n",
       "\t14 & agent      & rich      \\\\\n",
       "\\end{tabular}\n"
      ],
      "text/markdown": [
       "\n",
       "| <!--/--> | word | sentiment | \n",
       "|---|---|---|---|---|---|\n",
       "| 7 | account    | rich       | \n",
       "| 8 | accounts   | rich       | \n",
       "| 9 | additional | rich       | \n",
       "| 10 | adviser    | rich       | \n",
       "| 11 | advisers   | rich       | \n",
       "| 14 | agent      | rich       | \n",
       "\n",
       "\n"
      ],
      "text/plain": [
       "   word       sentiment\n",
       "7  account    rich     \n",
       "8  accounts   rich     \n",
       "9  additional rich     \n",
       "10 adviser    rich     \n",
       "11 advisers   rich     \n",
       "14 agent      rich     "
      ]
     },
     "metadata": {},
     "output_type": "display_data"
    }
   ],
   "source": [
    "tt1 <- tt[,-1]\n",
    "tt1 <- tt1[tt1$sentiment != \"drop\",]\n",
    "head(tt1)"
   ]
  },
  {
   "cell_type": "code",
   "execution_count": 25,
   "metadata": {
    "scrolled": true
   },
   "outputs": [
    {
     "name": "stderr",
     "output_type": "stream",
     "text": [
      "Joining, by = \"word\"\n"
     ]
    },
    {
     "data": {
      "text/html": [
       "<table>\n",
       "<thead><tr><th scope=col>poor</th><th scope=col>rich</th></tr></thead>\n",
       "<tbody>\n",
       "\t<tr><td>39</td><td>43</td></tr>\n",
       "</tbody>\n",
       "</table>\n"
      ],
      "text/latex": [
       "\\begin{tabular}{r|ll}\n",
       " poor & rich\\\\\n",
       "\\hline\n",
       "\t 39 & 43\\\\\n",
       "\\end{tabular}\n"
      ],
      "text/markdown": [
       "\n",
       "poor | rich | \n",
       "|---|\n",
       "| 39 | 43 | \n",
       "\n",
       "\n"
      ],
      "text/plain": [
       "  poor rich\n",
       "1 39   43  "
      ]
     },
     "metadata": {},
     "output_type": "display_data"
    }
   ],
   "source": [
    "tx1 <- inner_join(tokens,tt1)\n",
    "ct1 <- count(tx1,sentiment)\n",
    "ct2 <- spread(ct1,sentiment,n)\n",
    "ct2"
   ]
  },
  {
   "cell_type": "code",
   "execution_count": 26,
   "metadata": {},
   "outputs": [
    {
     "data": {
      "text/html": [
       "0.0487804878048781"
      ],
      "text/latex": [
       "0.0487804878048781"
      ],
      "text/markdown": [
       "0.0487804878048781"
      ],
      "text/plain": [
       "[1] 0.04878049"
      ]
     },
     "metadata": {},
     "output_type": "display_data"
    }
   ],
   "source": [
    "(ct2$rich-ct2$poor)/(ct2$rich+ct2$poor)"
   ]
  },
  {
   "cell_type": "code",
   "execution_count": null,
   "metadata": {},
   "outputs": [],
   "source": []
  }
 ],
 "metadata": {
  "kernelspec": {
   "display_name": "R",
   "language": "R",
   "name": "ir"
  },
  "language_info": {
   "codemirror_mode": "r",
   "file_extension": ".r",
   "mimetype": "text/x-r-source",
   "name": "R",
   "pygments_lexer": "r",
   "version": "3.5.1"
  }
 },
 "nbformat": 4,
 "nbformat_minor": 2
}
