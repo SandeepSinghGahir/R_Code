{
 "cells": [
  {
   "cell_type": "markdown",
   "metadata": {},
   "source": [
    "# R statistics (Some more of them)"
   ]
  },
  {
   "cell_type": "code",
   "execution_count": null,
   "metadata": {},
   "outputs": [],
   "source": []
  },
  {
   "cell_type": "markdown",
   "metadata": {},
   "source": [
    "R has a number of statistics functions. These are included in the base R.  These include:\n",
    "\n",
    "sd ------ Standard deviation\n",
    "\n",
    "var ----- Variance\n",
    "\n",
    "mean ---- Mean (Average)\n",
    "\n",
    "median -- Middle range\n",
    "\n",
    "cor ----- Perarsons correlation coef\n",
    "\n",
    "These are very useful when doing some preliminary statistical data analysis.\n",
    "\n",
    "R also has some additional statistical functions:\n",
    "\n",
    "modeest -- Find the most common value in a set of data\n",
    "\n"
   ]
  },
  {
   "cell_type": "markdown",
   "metadata": {},
   "source": [
    "A common statistical value is the 'mode'. One definition of mode is the value that has the most occurances in a set of data. R has a library modeest (You might need to install this package) which will find the simple mode. Below, I create a set of data, and ask for the mode. There is another R function called mode, but it is not related to this concept. So this function is call mfv."
   ]
  },
  {
   "cell_type": "code",
   "execution_count": 1,
   "metadata": {},
   "outputs": [
    {
     "name": "stderr",
     "output_type": "stream",
     "text": [
      "\n",
      "This is package 'modeest' written by P. PONCET.\n",
      "For a complete list of functions, use 'library(help = \"modeest\")' or 'help.start()'.\n",
      "\n"
     ]
    },
    {
     "name": "stdout",
     "output_type": "stream",
     "text": [
      "[1] \"mean 33.4666666666667\"\n",
      "[1] \"median 20\"\n",
      "[1] \"mode 45\"\n"
     ]
    }
   ],
   "source": [
    "library(modeest)\n",
    "dt <- c(100,100,20,20,20,30,45,45,45,45,10,16,3,2,1)\n",
    "print(paste(\"mean\",mean(dt)))\n",
    "print(paste(\"median\",median(dt)))\n",
    "print(paste(\"mode\",mfv(dt)))"
   ]
  },
  {
   "cell_type": "markdown",
   "metadata": {},
   "source": [
    "This shows the value 45 appears most in the data.\n",
    "\n",
    "If multiple values tie, then they are all returned"
   ]
  },
  {
   "cell_type": "code",
   "execution_count": 2,
   "metadata": {},
   "outputs": [
    {
     "name": "stdout",
     "output_type": "stream",
     "text": [
      "[1] \"Mode  110\" \"Mode  175\" \"Mode  180\"\n"
     ]
    }
   ],
   "source": [
    "print(paste(\"Mode \",mfv(mtcars$hp)))"
   ]
  },
  {
   "cell_type": "markdown",
   "metadata": {},
   "source": [
    "You can do the same thing in regular R. The table function will return how many are in each category. The max function will indicate the largest value, and then select the table."
   ]
  },
  {
   "cell_type": "code",
   "execution_count": 3,
   "metadata": {},
   "outputs": [
    {
     "data": {
      "image/png": "[encoded data removed]",
      "text/plain": [
       "Plot with title “Histogram of mtcars$hp”"
      ]
     },
     "metadata": {},
     "output_type": "display_data"
    }
   ],
   "source": [
    "hist(mtcars$hp)"
   ]
  },
  {
   "cell_type": "code",
   "execution_count": 4,
   "metadata": {},
   "outputs": [
    {
     "data": {
      "text/plain": [
       "\n",
       " 52  62  65  66  91  93  95  97 105 109 110 113 123 150 175 180 205 215 230 245 \n",
       "  1   1   1   2   1   1   1   1   1   1   3   1   2   2   3   3   1   1   1   2 \n",
       "264 335 \n",
       "  1   1 "
      ]
     },
     "metadata": {},
     "output_type": "display_data"
    }
   ],
   "source": [
    "table(mtcars$hp)"
   ]
  },
  {
   "cell_type": "code",
   "execution_count": 5,
   "metadata": {},
   "outputs": [
    {
     "data": {
      "text/html": [
       "3"
      ],
      "text/latex": [
       "3"
      ],
      "text/markdown": [
       "3"
      ],
      "text/plain": [
       "[1] 3"
      ]
     },
     "metadata": {},
     "output_type": "display_data"
    }
   ],
   "source": [
    "max(table(mtcars$hp))"
   ]
  },
  {
   "cell_type": "code",
   "execution_count": 6,
   "metadata": {},
   "outputs": [
    {
     "data": {
      "text/plain": [
       "\n",
       "110 175 180 \n",
       "  3   3   3 "
      ]
     },
     "metadata": {},
     "output_type": "display_data"
    }
   ],
   "source": [
    "bob <- table(mtcars$hp)\n",
    "mv <- max(bob)\n",
    "bob[bob==3]"
   ]
  },
  {
   "cell_type": "markdown",
   "metadata": {},
   "source": [
    "Summary is a good way to get a quick look at your data"
   ]
  },
  {
   "cell_type": "code",
   "execution_count": 7,
   "metadata": {},
   "outputs": [
    {
     "data": {
      "text/plain": [
       "   Min. 1st Qu.  Median    Mean 3rd Qu.    Max. \n",
       "   52.0    96.5   123.0   146.7   180.0   335.0 "
      ]
     },
     "metadata": {},
     "output_type": "display_data"
    }
   ],
   "source": [
    "summary(mtcars$hp)"
   ]
  },
  {
   "cell_type": "markdown",
   "metadata": {},
   "source": [
    "The function kmeans will put the data in to a number of clusters. For the mtcars, I picked 5 buckets. The buckets are selected with a center value, and used to optimize the square error. Don't worry about the theory. This returns lots of good stuff about the data."
   ]
  },
  {
   "cell_type": "code",
   "execution_count": 8,
   "metadata": {},
   "outputs": [
    {
     "data": {
      "image/png": "[encoded data removed]",
      "text/plain": [
       "plot without title"
      ]
     },
     "metadata": {},
     "output_type": "display_data"
    }
   ],
   "source": [
    "plot(table(mtcars$hp))"
   ]
  },
  {
   "cell_type": "code",
   "execution_count": 9,
   "metadata": {},
   "outputs": [
    {
     "data": {
      "text/html": [
       "32"
      ],
      "text/latex": [
       "32"
      ],
      "text/markdown": [
       "32"
      ],
      "text/plain": [
       "[1] 32"
      ]
     },
     "metadata": {},
     "output_type": "display_data"
    },
    {
     "name": "stdout",
     "output_type": "stream",
     "text": [
      " [1] 110 110  93 110 175 105 245  62  95 123 123 180 180 180 205 215 230  66  52\n",
      "[20]  65  97 150 150 245 175  66  91 113 264 175 335 109\n"
     ]
    },
    {
     "data": {
      "text/plain": [
       "K-means clustering with 5 clusters of sizes 12, 8, 5, 2, 5\n",
       "\n",
       "Cluster means:\n",
       "      [,1]\n",
       "1 106.5833\n",
       "2 185.6250\n",
       "3 263.8000\n",
       "4 150.0000\n",
       "5  62.2000\n",
       "\n",
       "Clustering vector:\n",
       " [1] 1 1 1 1 2 1 3 5 1 1 1 2 2 2 2 2 3 5 5 5 1 4 4 3 2 5 1 1 3 2 3 1\n",
       "\n",
       "Within cluster sum of squares by cluster:\n",
       "[1] 1276.917 1671.875 6918.800    0.000  140.800\n",
       " (between_SS / total_SS =  93.1 %)\n",
       "\n",
       "Available components:\n",
       "\n",
       "[1] \"cluster\"      \"centers\"      \"totss\"        \"withinss\"     \"tot.withinss\"\n",
       "[6] \"betweenss\"    \"size\"         \"iter\"         \"ifault\"      "
      ]
     },
     "metadata": {},
     "output_type": "display_data"
    }
   ],
   "source": [
    "length(mtcars$hp)\n",
    "print(unlist(mtcars$hp))\n",
    "jack <- kmeans(unlist(mtcars$hp),5)\n",
    "jack"
   ]
  },
  {
   "cell_type": "code",
   "execution_count": 10,
   "metadata": {},
   "outputs": [
    {
     "name": "stdout",
     "output_type": "stream",
     "text": [
      "List of 9\n",
      " $ cluster     : int [1:32] 1 1 1 1 2 1 3 5 1 1 ...\n",
      " $ centers     : num [1:5, 1] 106.6 185.6 263.8 150 62.2\n",
      "  ..- attr(*, \"dimnames\")=List of 2\n",
      "  .. ..$ : chr [1:5] \"1\" \"2\" \"3\" \"4\" ...\n",
      "  .. ..$ : NULL\n",
      " $ totss       : num 145727\n",
      " $ withinss    : num [1:5] 1277 1672 6919 0 141\n",
      " $ tot.withinss: num 10008\n",
      " $ betweenss   : num 135718\n",
      " $ size        : int [1:5] 12 8 5 2 5\n",
      " $ iter        : int 1\n",
      " $ ifault      : int 0\n",
      " - attr(*, \"class\")= chr \"kmeans\"\n"
     ]
    }
   ],
   "source": [
    "str(jack)"
   ]
  },
  {
   "cell_type": "markdown",
   "metadata": {},
   "source": [
    "Cluster 5 is the largest This can be examined by looking at the original data:"
   ]
  },
  {
   "cell_type": "code",
   "execution_count": 11,
   "metadata": {},
   "outputs": [
    {
     "data": {
      "text/html": [
       "<ol class=list-inline>\n",
       "\t<li>62</li>\n",
       "\t<li>66</li>\n",
       "\t<li>52</li>\n",
       "\t<li>65</li>\n",
       "\t<li>66</li>\n",
       "</ol>\n"
      ],
      "text/latex": [
       "\\begin{enumerate*}\n",
       "\\item 62\n",
       "\\item 66\n",
       "\\item 52\n",
       "\\item 65\n",
       "\\item 66\n",
       "\\end{enumerate*}\n"
      ],
      "text/markdown": [
       "1. 62\n",
       "2. 66\n",
       "3. 52\n",
       "4. 65\n",
       "5. 66\n",
       "\n",
       "\n"
      ],
      "text/plain": [
       "[1] 62 66 52 65 66"
      ]
     },
     "metadata": {},
     "output_type": "display_data"
    }
   ],
   "source": [
    "mtcars$hp[jack$cluster==5]"
   ]
  },
  {
   "cell_type": "markdown",
   "metadata": {},
   "source": [
    "The natural cluster is a group of cars with about 100 hourse power (cluster center about 106hp). Many times, a better data understanding can be obtained by looking at these clusters. If you have factor data, convert it to numeric first. \n",
    "\n",
    "The next largest cluster is centered around 178 hp, and has two fewer members."
   ]
  },
  {
   "cell_type": "code",
   "execution_count": 12,
   "metadata": {},
   "outputs": [
    {
     "data": {
      "text/html": [
       "<ol class=list-inline>\n",
       "\t<li>150</li>\n",
       "\t<li>150</li>\n",
       "</ol>\n"
      ],
      "text/latex": [
       "\\begin{enumerate*}\n",
       "\\item 150\n",
       "\\item 150\n",
       "\\end{enumerate*}\n"
      ],
      "text/markdown": [
       "1. 150\n",
       "2. 150\n",
       "\n",
       "\n"
      ],
      "text/plain": [
       "[1] 150 150"
      ]
     },
     "metadata": {},
     "output_type": "display_data"
    }
   ],
   "source": [
    "mtcars$hp[jack$cluster==4]"
   ]
  },
  {
   "cell_type": "markdown",
   "metadata": {},
   "source": [
    "Lets look at what the car types and manufactures tell us about these clusters.  First a reminder that row.names will return the row names of the data.frame. This data frame has row names. Not all of them do."
   ]
  },
  {
   "cell_type": "code",
   "execution_count": 13,
   "metadata": {},
   "outputs": [
    {
     "data": {
      "text/html": [
       "<ol class=list-inline>\n",
       "\t<li>'Mazda RX4'</li>\n",
       "\t<li>'Mazda RX4 Wag'</li>\n",
       "\t<li>'Datsun 710'</li>\n",
       "\t<li>'Hornet 4 Drive'</li>\n",
       "\t<li>'Hornet Sportabout'</li>\n",
       "\t<li>'Valiant'</li>\n",
       "\t<li>'Duster 360'</li>\n",
       "\t<li>'Merc 240D'</li>\n",
       "\t<li>'Merc 230'</li>\n",
       "\t<li>'Merc 280'</li>\n",
       "\t<li>'Merc 280C'</li>\n",
       "\t<li>'Merc 450SE'</li>\n",
       "\t<li>'Merc 450SL'</li>\n",
       "\t<li>'Merc 450SLC'</li>\n",
       "\t<li>'Cadillac Fleetwood'</li>\n",
       "\t<li>'Lincoln Continental'</li>\n",
       "\t<li>'Chrysler Imperial'</li>\n",
       "\t<li>'Fiat 128'</li>\n",
       "\t<li>'Honda Civic'</li>\n",
       "\t<li>'Toyota Corolla'</li>\n",
       "\t<li>'Toyota Corona'</li>\n",
       "\t<li>'Dodge Challenger'</li>\n",
       "\t<li>'AMC Javelin'</li>\n",
       "\t<li>'Camaro Z28'</li>\n",
       "\t<li>'Pontiac Firebird'</li>\n",
       "\t<li>'Fiat X1-9'</li>\n",
       "\t<li>'Porsche 914-2'</li>\n",
       "\t<li>'Lotus Europa'</li>\n",
       "\t<li>'Ford Pantera L'</li>\n",
       "\t<li>'Ferrari Dino'</li>\n",
       "\t<li>'Maserati Bora'</li>\n",
       "\t<li>'Volvo 142E'</li>\n",
       "</ol>\n"
      ],
      "text/latex": [
       "\\begin{enumerate*}\n",
       "\\item 'Mazda RX4'\n",
       "\\item 'Mazda RX4 Wag'\n",
       "\\item 'Datsun 710'\n",
       "\\item 'Hornet 4 Drive'\n",
       "\\item 'Hornet Sportabout'\n",
       "\\item 'Valiant'\n",
       "\\item 'Duster 360'\n",
       "\\item 'Merc 240D'\n",
       "\\item 'Merc 230'\n",
       "\\item 'Merc 280'\n",
       "\\item 'Merc 280C'\n",
       "\\item 'Merc 450SE'\n",
       "\\item 'Merc 450SL'\n",
       "\\item 'Merc 450SLC'\n",
       "\\item 'Cadillac Fleetwood'\n",
       "\\item 'Lincoln Continental'\n",
       "\\item 'Chrysler Imperial'\n",
       "\\item 'Fiat 128'\n",
       "\\item 'Honda Civic'\n",
       "\\item 'Toyota Corolla'\n",
       "\\item 'Toyota Corona'\n",
       "\\item 'Dodge Challenger'\n",
       "\\item 'AMC Javelin'\n",
       "\\item 'Camaro Z28'\n",
       "\\item 'Pontiac Firebird'\n",
       "\\item 'Fiat X1-9'\n",
       "\\item 'Porsche 914-2'\n",
       "\\item 'Lotus Europa'\n",
       "\\item 'Ford Pantera L'\n",
       "\\item 'Ferrari Dino'\n",
       "\\item 'Maserati Bora'\n",
       "\\item 'Volvo 142E'\n",
       "\\end{enumerate*}\n"
      ],
      "text/markdown": [
       "1. 'Mazda RX4'\n",
       "2. 'Mazda RX4 Wag'\n",
       "3. 'Datsun 710'\n",
       "4. 'Hornet 4 Drive'\n",
       "5. 'Hornet Sportabout'\n",
       "6. 'Valiant'\n",
       "7. 'Duster 360'\n",
       "8. 'Merc 240D'\n",
       "9. 'Merc 230'\n",
       "10. 'Merc 280'\n",
       "11. 'Merc 280C'\n",
       "12. 'Merc 450SE'\n",
       "13. 'Merc 450SL'\n",
       "14. 'Merc 450SLC'\n",
       "15. 'Cadillac Fleetwood'\n",
       "16. 'Lincoln Continental'\n",
       "17. 'Chrysler Imperial'\n",
       "18. 'Fiat 128'\n",
       "19. 'Honda Civic'\n",
       "20. 'Toyota Corolla'\n",
       "21. 'Toyota Corona'\n",
       "22. 'Dodge Challenger'\n",
       "23. 'AMC Javelin'\n",
       "24. 'Camaro Z28'\n",
       "25. 'Pontiac Firebird'\n",
       "26. 'Fiat X1-9'\n",
       "27. 'Porsche 914-2'\n",
       "28. 'Lotus Europa'\n",
       "29. 'Ford Pantera L'\n",
       "30. 'Ferrari Dino'\n",
       "31. 'Maserati Bora'\n",
       "32. 'Volvo 142E'\n",
       "\n",
       "\n"
      ],
      "text/plain": [
       " [1] \"Mazda RX4\"           \"Mazda RX4 Wag\"       \"Datsun 710\"         \n",
       " [4] \"Hornet 4 Drive\"      \"Hornet Sportabout\"   \"Valiant\"            \n",
       " [7] \"Duster 360\"          \"Merc 240D\"           \"Merc 230\"           \n",
       "[10] \"Merc 280\"            \"Merc 280C\"           \"Merc 450SE\"         \n",
       "[13] \"Merc 450SL\"          \"Merc 450SLC\"         \"Cadillac Fleetwood\" \n",
       "[16] \"Lincoln Continental\" \"Chrysler Imperial\"   \"Fiat 128\"           \n",
       "[19] \"Honda Civic\"         \"Toyota Corolla\"      \"Toyota Corona\"      \n",
       "[22] \"Dodge Challenger\"    \"AMC Javelin\"         \"Camaro Z28\"         \n",
       "[25] \"Pontiac Firebird\"    \"Fiat X1-9\"           \"Porsche 914-2\"      \n",
       "[28] \"Lotus Europa\"        \"Ford Pantera L\"      \"Ferrari Dino\"       \n",
       "[31] \"Maserati Bora\"       \"Volvo 142E\"         "
      ]
     },
     "metadata": {},
     "output_type": "display_data"
    }
   ],
   "source": [
    "row.names(mtcars)"
   ]
  },
  {
   "cell_type": "code",
   "execution_count": 14,
   "metadata": {},
   "outputs": [
    {
     "data": {
      "text/html": [
       "<ol class=list-inline>\n",
       "\t<li>'Dodge Challenger'</li>\n",
       "\t<li>'AMC Javelin'</li>\n",
       "</ol>\n"
      ],
      "text/latex": [
       "\\begin{enumerate*}\n",
       "\\item 'Dodge Challenger'\n",
       "\\item 'AMC Javelin'\n",
       "\\end{enumerate*}\n"
      ],
      "text/markdown": [
       "1. 'Dodge Challenger'\n",
       "2. 'AMC Javelin'\n",
       "\n",
       "\n"
      ],
      "text/plain": [
       "[1] \"Dodge Challenger\" \"AMC Javelin\"     "
      ]
     },
     "metadata": {},
     "output_type": "display_data"
    }
   ],
   "source": [
    "row.names(mtcars)[jack$cluster==4]"
   ]
  },
  {
   "cell_type": "markdown",
   "metadata": {},
   "source": [
    "All American large cars, or foreign luxury cars. "
   ]
  },
  {
   "cell_type": "code",
   "execution_count": 15,
   "metadata": {},
   "outputs": [
    {
     "data": {
      "text/html": [
       "<ol class=list-inline>\n",
       "\t<li>'Hornet Sportabout'</li>\n",
       "\t<li>'Merc 450SE'</li>\n",
       "\t<li>'Merc 450SL'</li>\n",
       "\t<li>'Merc 450SLC'</li>\n",
       "\t<li>'Cadillac Fleetwood'</li>\n",
       "\t<li>'Lincoln Continental'</li>\n",
       "\t<li>'Pontiac Firebird'</li>\n",
       "\t<li>'Ferrari Dino'</li>\n",
       "</ol>\n"
      ],
      "text/latex": [
       "\\begin{enumerate*}\n",
       "\\item 'Hornet Sportabout'\n",
       "\\item 'Merc 450SE'\n",
       "\\item 'Merc 450SL'\n",
       "\\item 'Merc 450SLC'\n",
       "\\item 'Cadillac Fleetwood'\n",
       "\\item 'Lincoln Continental'\n",
       "\\item 'Pontiac Firebird'\n",
       "\\item 'Ferrari Dino'\n",
       "\\end{enumerate*}\n"
      ],
      "text/markdown": [
       "1. 'Hornet Sportabout'\n",
       "2. 'Merc 450SE'\n",
       "3. 'Merc 450SL'\n",
       "4. 'Merc 450SLC'\n",
       "5. 'Cadillac Fleetwood'\n",
       "6. 'Lincoln Continental'\n",
       "7. 'Pontiac Firebird'\n",
       "8. 'Ferrari Dino'\n",
       "\n",
       "\n"
      ],
      "text/plain": [
       "[1] \"Hornet Sportabout\"   \"Merc 450SE\"          \"Merc 450SL\"         \n",
       "[4] \"Merc 450SLC\"         \"Cadillac Fleetwood\"  \"Lincoln Continental\"\n",
       "[7] \"Pontiac Firebird\"    \"Ferrari Dino\"       "
      ]
     },
     "metadata": {},
     "output_type": "display_data"
    }
   ],
   "source": [
    "row.names(mtcars)[jack$cluster==2]"
   ]
  },
  {
   "cell_type": "markdown",
   "metadata": {},
   "source": [
    "All smaller cars. They have smaller engines. \n",
    "\n",
    "The clustering found something in the data :-)"
   ]
  },
  {
   "cell_type": "markdown",
   "metadata": {},
   "source": [
    "The attitude dataset is a set of answers to HR questions in a company. It is in response to how the company does in 7 areas, and an overall company rating."
   ]
  },
  {
   "cell_type": "code",
   "execution_count": 16,
   "metadata": {},
   "outputs": [
    {
     "data": {
      "text/html": [
       "<table>\n",
       "<thead><tr><th scope=col>rating</th><th scope=col>complaints</th><th scope=col>privileges</th><th scope=col>learning</th><th scope=col>raises</th><th scope=col>critical</th><th scope=col>advance</th></tr></thead>\n",
       "<tbody>\n",
       "\t<tr><td>43</td><td>51</td><td>30</td><td>39</td><td>61</td><td>92</td><td>45</td></tr>\n",
       "\t<tr><td>63</td><td>64</td><td>51</td><td>54</td><td>63</td><td>73</td><td>47</td></tr>\n",
       "\t<tr><td>71</td><td>70</td><td>68</td><td>69</td><td>76</td><td>86</td><td>48</td></tr>\n",
       "\t<tr><td>61</td><td>63</td><td>45</td><td>47</td><td>54</td><td>84</td><td>35</td></tr>\n",
       "\t<tr><td>81</td><td>78</td><td>56</td><td>66</td><td>71</td><td>83</td><td>47</td></tr>\n",
       "\t<tr><td>43</td><td>55</td><td>49</td><td>44</td><td>54</td><td>49</td><td>34</td></tr>\n",
       "</tbody>\n",
       "</table>\n"
      ],
      "text/latex": [
       "\\begin{tabular}{r|lllllll}\n",
       " rating & complaints & privileges & learning & raises & critical & advance\\\\\n",
       "\\hline\n",
       "\t 43 & 51 & 30 & 39 & 61 & 92 & 45\\\\\n",
       "\t 63 & 64 & 51 & 54 & 63 & 73 & 47\\\\\n",
       "\t 71 & 70 & 68 & 69 & 76 & 86 & 48\\\\\n",
       "\t 61 & 63 & 45 & 47 & 54 & 84 & 35\\\\\n",
       "\t 81 & 78 & 56 & 66 & 71 & 83 & 47\\\\\n",
       "\t 43 & 55 & 49 & 44 & 54 & 49 & 34\\\\\n",
       "\\end{tabular}\n"
      ],
      "text/markdown": [
       "\n",
       "rating | complaints | privileges | learning | raises | critical | advance | \n",
       "|---|---|---|---|---|---|\n",
       "| 43 | 51 | 30 | 39 | 61 | 92 | 45 | \n",
       "| 63 | 64 | 51 | 54 | 63 | 73 | 47 | \n",
       "| 71 | 70 | 68 | 69 | 76 | 86 | 48 | \n",
       "| 61 | 63 | 45 | 47 | 54 | 84 | 35 | \n",
       "| 81 | 78 | 56 | 66 | 71 | 83 | 47 | \n",
       "| 43 | 55 | 49 | 44 | 54 | 49 | 34 | \n",
       "\n",
       "\n"
      ],
      "text/plain": [
       "  rating complaints privileges learning raises critical advance\n",
       "1 43     51         30         39       61     92       45     \n",
       "2 63     64         51         54       63     73       47     \n",
       "3 71     70         68         69       76     86       48     \n",
       "4 61     63         45         47       54     84       35     \n",
       "5 81     78         56         66       71     83       47     \n",
       "6 43     55         49         44       54     49       34     "
      ]
     },
     "metadata": {},
     "output_type": "display_data"
    }
   ],
   "source": [
    "head(attitude)"
   ]
  },
  {
   "cell_type": "markdown",
   "metadata": {},
   "source": [
    "The company wants to know how people feel about raises. We will form 5 clusters on the data and see where they fall."
   ]
  },
  {
   "cell_type": "code",
   "execution_count": 17,
   "metadata": {},
   "outputs": [
    {
     "data": {
      "text/plain": [
       "   Min. 1st Qu.  Median    Mean 3rd Qu.    Max. \n",
       "  43.00   58.25   63.50   64.63   71.00   88.00 "
      ]
     },
     "metadata": {},
     "output_type": "display_data"
    },
    {
     "name": "stdout",
     "output_type": "stream",
     "text": [
      "List of 9\n",
      " $ cluster     : int [1:30] 4 4 5 2 1 2 1 1 1 4 ...\n",
      " $ centers     : num [1:5, 1] 68.3 56.3 48 62.4 79.1\n",
      "  ..- attr(*, \"dimnames\")=List of 2\n",
      "  .. ..$ : chr [1:5] \"1\" \"2\" \"3\" \"4\" ...\n",
      "  .. ..$ : NULL\n",
      " $ totss       : num 3135\n",
      " $ withinss    : num [1:5] 33.3 31.4 38 13.7 110.9\n",
      " $ tot.withinss: num 227\n",
      " $ betweenss   : num 2908\n",
      " $ size        : int [1:5] 6 7 3 7 7\n",
      " $ iter        : int 2\n",
      " $ ifault      : int 0\n",
      " - attr(*, \"class\")= chr \"kmeans\"\n"
     ]
    }
   ],
   "source": [
    "summary(attitude$raises)\n",
    "clu <- kmeans(attitude$raises,5)\n",
    "str(clu)"
   ]
  },
  {
   "cell_type": "raw",
   "metadata": {},
   "source": [
    "In this case, the mean median, and clustering are about the same."
   ]
  },
  {
   "cell_type": "code",
   "execution_count": 18,
   "metadata": {},
   "outputs": [
    {
     "data": {
      "text/html": [
       "10.3972255361983"
      ],
      "text/latex": [
       "10.3972255361983"
      ],
      "text/markdown": [
       "10.3972255361983"
      ],
      "text/plain": [
       "[1] 10.39723"
      ]
     },
     "metadata": {},
     "output_type": "display_data"
    },
    {
     "data": {
      "image/png": "[encoded data removed]",
      "text/plain": [
       "plot without title"
      ]
     },
     "metadata": {},
     "output_type": "display_data"
    }
   ],
   "source": [
    "plot(clu$centers,clu$size)\n",
    "sd(attitude$raises)"
   ]
  },
  {
   "cell_type": "markdown",
   "metadata": {},
   "source": [
    "Most of the responses are at about 60, but there is a large cluster at 50 and 80.\n",
    "\n",
    "A clustering (kmeans) is a good way to see how the data is grouped. Compare a simple histogram"
   ]
  },
  {
   "cell_type": "code",
   "execution_count": 19,
   "metadata": {},
   "outputs": [
    {
     "data": {
      "image/png": "[encoded data removed]",
      "text/plain": [
       "Plot with title “Histogram of attitude$raises”"
      ]
     },
     "metadata": {},
     "output_type": "display_data"
    }
   ],
   "source": [
    "hist(attitude$raises)"
   ]
  },
  {
   "cell_type": "markdown",
   "metadata": {},
   "source": [
    "The bulk of the responses are between 50 and 70, but there are natural clusters at 60 and 70. Managers will see this type of chart, and feel that the bulk of the company is happy with the raises.\n",
    "\n",
    "Another view indicates how many are less than 60%"
   ]
  },
  {
   "cell_type": "code",
   "execution_count": 20,
   "metadata": {},
   "outputs": [
    {
     "data": {
      "text/html": [
       "10"
      ],
      "text/latex": [
       "10"
      ],
      "text/markdown": [
       "10"
      ],
      "text/plain": [
       "[1] 10"
      ]
     },
     "metadata": {},
     "output_type": "display_data"
    },
    {
     "data": {
      "text/html": [
       "30"
      ],
      "text/latex": [
       "30"
      ],
      "text/markdown": [
       "30"
      ],
      "text/plain": [
       "[1] 30"
      ]
     },
     "metadata": {},
     "output_type": "display_data"
    }
   ],
   "source": [
    "length(attitude$raises[attitude$raises < 60])\n",
    "length(attitude$raises)"
   ]
  },
  {
   "cell_type": "markdown",
   "metadata": {},
   "source": [
    "That's 1/3 of the company\n",
    "\n",
    "A correlation of the data doesn't tell much. Only overall rating and handling complaints have a correlation > 0.8"
   ]
  },
  {
   "cell_type": "code",
   "execution_count": 21,
   "metadata": {},
   "outputs": [
    {
     "data": {
      "text/html": [
       "<table>\n",
       "<thead><tr><th></th><th scope=col>rating</th><th scope=col>complaints</th><th scope=col>privileges</th><th scope=col>learning</th><th scope=col>raises</th><th scope=col>critical</th><th scope=col>advance</th></tr></thead>\n",
       "<tbody>\n",
       "\t<tr><th scope=row>rating</th><td>1.0000000</td><td>0.8254176</td><td>0.4261169</td><td>0.6236782</td><td>0.5901390</td><td>0.1564392</td><td>0.1550863</td></tr>\n",
       "\t<tr><th scope=row>complaints</th><td>0.8254176</td><td>1.0000000</td><td>0.5582882</td><td>0.5967358</td><td>0.6691975</td><td>0.1877143</td><td>0.2245796</td></tr>\n",
       "\t<tr><th scope=row>privileges</th><td>0.4261169</td><td>0.5582882</td><td>1.0000000</td><td>0.4933310</td><td>0.4454779</td><td>0.1472331</td><td>0.3432934</td></tr>\n",
       "\t<tr><th scope=row>learning</th><td>0.6236782</td><td>0.5967358</td><td>0.4933310</td><td>1.0000000</td><td>0.6403144</td><td>0.1159652</td><td>0.5316198</td></tr>\n",
       "\t<tr><th scope=row>raises</th><td>0.5901390</td><td>0.6691975</td><td>0.4454779</td><td>0.6403144</td><td>1.0000000</td><td>0.3768830</td><td>0.5741862</td></tr>\n",
       "\t<tr><th scope=row>critical</th><td>0.1564392</td><td>0.1877143</td><td>0.1472331</td><td>0.1159652</td><td>0.3768830</td><td>1.0000000</td><td>0.2833432</td></tr>\n",
       "\t<tr><th scope=row>advance</th><td>0.1550863</td><td>0.2245796</td><td>0.3432934</td><td>0.5316198</td><td>0.5741862</td><td>0.2833432</td><td>1.0000000</td></tr>\n",
       "</tbody>\n",
       "</table>\n"
      ],
      "text/latex": [
       "\\begin{tabular}{r|lllllll}\n",
       "  & rating & complaints & privileges & learning & raises & critical & advance\\\\\n",
       "\\hline\n",
       "\trating & 1.0000000 & 0.8254176 & 0.4261169 & 0.6236782 & 0.5901390 & 0.1564392 & 0.1550863\\\\\n",
       "\tcomplaints & 0.8254176 & 1.0000000 & 0.5582882 & 0.5967358 & 0.6691975 & 0.1877143 & 0.2245796\\\\\n",
       "\tprivileges & 0.4261169 & 0.5582882 & 1.0000000 & 0.4933310 & 0.4454779 & 0.1472331 & 0.3432934\\\\\n",
       "\tlearning & 0.6236782 & 0.5967358 & 0.4933310 & 1.0000000 & 0.6403144 & 0.1159652 & 0.5316198\\\\\n",
       "\traises & 0.5901390 & 0.6691975 & 0.4454779 & 0.6403144 & 1.0000000 & 0.3768830 & 0.5741862\\\\\n",
       "\tcritical & 0.1564392 & 0.1877143 & 0.1472331 & 0.1159652 & 0.3768830 & 1.0000000 & 0.2833432\\\\\n",
       "\tadvance & 0.1550863 & 0.2245796 & 0.3432934 & 0.5316198 & 0.5741862 & 0.2833432 & 1.0000000\\\\\n",
       "\\end{tabular}\n"
      ],
      "text/markdown": [
       "\n",
       "| <!--/--> | rating | complaints | privileges | learning | raises | critical | advance | \n",
       "|---|---|---|---|---|---|---|\n",
       "| rating | 1.0000000 | 0.8254176 | 0.4261169 | 0.6236782 | 0.5901390 | 0.1564392 | 0.1550863 | \n",
       "| complaints | 0.8254176 | 1.0000000 | 0.5582882 | 0.5967358 | 0.6691975 | 0.1877143 | 0.2245796 | \n",
       "| privileges | 0.4261169 | 0.5582882 | 1.0000000 | 0.4933310 | 0.4454779 | 0.1472331 | 0.3432934 | \n",
       "| learning | 0.6236782 | 0.5967358 | 0.4933310 | 1.0000000 | 0.6403144 | 0.1159652 | 0.5316198 | \n",
       "| raises | 0.5901390 | 0.6691975 | 0.4454779 | 0.6403144 | 1.0000000 | 0.3768830 | 0.5741862 | \n",
       "| critical | 0.1564392 | 0.1877143 | 0.1472331 | 0.1159652 | 0.3768830 | 1.0000000 | 0.2833432 | \n",
       "| advance | 0.1550863 | 0.2245796 | 0.3432934 | 0.5316198 | 0.5741862 | 0.2833432 | 1.0000000 | \n",
       "\n",
       "\n"
      ],
      "text/plain": [
       "           rating    complaints privileges learning  raises    critical \n",
       "rating     1.0000000 0.8254176  0.4261169  0.6236782 0.5901390 0.1564392\n",
       "complaints 0.8254176 1.0000000  0.5582882  0.5967358 0.6691975 0.1877143\n",
       "privileges 0.4261169 0.5582882  1.0000000  0.4933310 0.4454779 0.1472331\n",
       "learning   0.6236782 0.5967358  0.4933310  1.0000000 0.6403144 0.1159652\n",
       "raises     0.5901390 0.6691975  0.4454779  0.6403144 1.0000000 0.3768830\n",
       "critical   0.1564392 0.1877143  0.1472331  0.1159652 0.3768830 1.0000000\n",
       "advance    0.1550863 0.2245796  0.3432934  0.5316198 0.5741862 0.2833432\n",
       "           advance  \n",
       "rating     0.1550863\n",
       "complaints 0.2245796\n",
       "privileges 0.3432934\n",
       "learning   0.5316198\n",
       "raises     0.5741862\n",
       "critical   0.2833432\n",
       "advance    1.0000000"
      ]
     },
     "metadata": {},
     "output_type": "display_data"
    }
   ],
   "source": [
    "cor(attitude)"
   ]
  },
  {
   "cell_type": "markdown",
   "metadata": {},
   "source": [
    "Take a look at learning in the company"
   ]
  },
  {
   "cell_type": "code",
   "execution_count": 22,
   "metadata": {},
   "outputs": [
    {
     "name": "stdout",
     "output_type": "stream",
     "text": [
      "List of 9\n",
      " $ cluster     : int [1:30] 2 4 3 5 3 5 4 4 3 5 ...\n",
      " $ centers     : num [1:5, 1] 60 38.5 70.6 55.2 46.6\n",
      "  ..- attr(*, \"dimnames\")=List of 2\n",
      "  .. ..$ : chr [1:5] \"1\" \"2\" \"3\" \"4\" ...\n",
      "  .. ..$ : NULL\n",
      " $ totss       : num 3995\n",
      " $ withinss    : num [1:5] 22 33 74.2 6.8 25.7\n",
      " $ tot.withinss: num 162\n",
      " $ betweenss   : num 3833\n",
      " $ size        : int [1:5] 5 4 9 5 7\n",
      " $ iter        : int 2\n",
      " $ ifault      : int 0\n",
      " - attr(*, \"class\")= chr \"kmeans\"\n"
     ]
    }
   ],
   "source": [
    "lrn <- kmeans(attitude$learning,5)\n",
    "str(lrn)"
   ]
  },
  {
   "cell_type": "code",
   "execution_count": 23,
   "metadata": {},
   "outputs": [
    {
     "data": {
      "image/png": "[encoded data removed]",
      "text/plain": [
       "Plot with title “Histogram of attitude$learning”"
      ]
     },
     "metadata": {},
     "output_type": "display_data"
    }
   ],
   "source": [
    "hist(attitude$learning)"
   ]
  },
  {
   "cell_type": "markdown",
   "metadata": {},
   "source": [
    "It's centered pretty low. Not a great company to learn thing."
   ]
  },
  {
   "cell_type": "markdown",
   "metadata": {},
   "source": [
    "Check for natural clusters using kmeans"
   ]
  },
  {
   "cell_type": "code",
   "execution_count": 24,
   "metadata": {},
   "outputs": [
    {
     "data": {
      "image/png": "[encoded data removed]",
      "text/plain": [
       "plot without title"
      ]
     },
     "metadata": {},
     "output_type": "display_data"
    }
   ],
   "source": [
    "lrn <- kmeans(attitude$learning,4)\n",
    "plot(lrn$center,lrn$size)"
   ]
  },
  {
   "cell_type": "markdown",
   "metadata": {},
   "source": [
    "This show the biggest cluster around 60%, and another group around 70% \n",
    "\n",
    "Grab the physc admit data, and place it in a data.frame.\n",
    "\n",
    "Lets do some clustering to see if anything shows up."
   ]
  },
  {
   "cell_type": "code",
   "execution_count": 3,
   "metadata": {},
   "outputs": [],
   "source": []
  },
  {
   "cell_type": "code",
   "execution_count": 2,
   "metadata": {},
   "outputs": [
    {
     "name": "stdout",
     "output_type": "stream",
     "text": [
      " Factor w/ 11 levels \"(2) 12-14\",\"(3) 15-17\",..: 10 7 7 10 8 10 3 2 7 9 ...\n"
     ]
    },
    {
     "data": {
      "text/html": [
       "<ol class=list-inline>\n",
       "\t<li>'(2) 12-14'</li>\n",
       "\t<li>'(3) 15-17'</li>\n",
       "\t<li>'(4) 18-20'</li>\n",
       "\t<li>'(5) 21-24'</li>\n",
       "\t<li>'(6) 25-29'</li>\n",
       "\t<li>'(7) 30-34'</li>\n",
       "\t<li>'(8) 35-39'</li>\n",
       "\t<li>'(9) 40-44'</li>\n",
       "\t<li>'(10) 45-49'</li>\n",
       "\t<li>'(11) 50-54'</li>\n",
       "\t<li>'(12) 55 AND OVER'</li>\n",
       "</ol>\n"
      ],
      "text/latex": [
       "\\begin{enumerate*}\n",
       "\\item '(2) 12-14'\n",
       "\\item '(3) 15-17'\n",
       "\\item '(4) 18-20'\n",
       "\\item '(5) 21-24'\n",
       "\\item '(6) 25-29'\n",
       "\\item '(7) 30-34'\n",
       "\\item '(8) 35-39'\n",
       "\\item '(9) 40-44'\n",
       "\\item '(10) 45-49'\n",
       "\\item '(11) 50-54'\n",
       "\\item '(12) 55 AND OVER'\n",
       "\\end{enumerate*}\n"
      ],
      "text/markdown": [
       "1. '(2) 12-14'\n",
       "2. '(3) 15-17'\n",
       "3. '(4) 18-20'\n",
       "4. '(5) 21-24'\n",
       "5. '(6) 25-29'\n",
       "6. '(7) 30-34'\n",
       "7. '(8) 35-39'\n",
       "8. '(9) 40-44'\n",
       "9. '(10) 45-49'\n",
       "10. '(11) 50-54'\n",
       "11. '(12) 55 AND OVER'\n",
       "\n",
       "\n"
      ],
      "text/plain": [
       " [1] \"(2) 12-14\"        \"(3) 15-17\"        \"(4) 18-20\"        \"(5) 21-24\"       \n",
       " [5] \"(6) 25-29\"        \"(7) 30-34\"        \"(8) 35-39\"        \"(9) 40-44\"       \n",
       " [9] \"(10) 45-49\"       \"(11) 50-54\"       \"(12) 55 AND OVER\""
      ]
     },
     "metadata": {},
     "output_type": "display_data"
    }
   ],
   "source": [
    "load(\"../engr122/35037-0001-Data.rda\")\n",
    "physc <- da35037.0001\n",
    "str(physc$AGE)\n",
    "levels(physc$AGE)\n"
   ]
  },
  {
   "cell_type": "markdown",
   "metadata": {},
   "source": [
    "First, I'll look at the age distribution with a simple plot. (Remember the data is in a factor, and not the actual age)"
   ]
  },
  {
   "cell_type": "code",
   "execution_count": 27,
   "metadata": {},
   "outputs": [
    {
     "data": {
      "image/png": "[encoded data removed]",
      "text/plain": [
       "plot without title"
      ]
     },
     "metadata": {},
     "output_type": "display_data"
    }
   ],
   "source": [
    "plot(table(physc$AGE))"
   ]
  },
  {
   "cell_type": "markdown",
   "metadata": {},
   "source": [
    "print the names in the data.frame to find another col to work on."
   ]
  },
  {
   "cell_type": "code",
   "execution_count": 28,
   "metadata": {},
   "outputs": [
    {
     "data": {
      "text/html": [
       "<ol class=list-inline>\n",
       "\t<li>'CASEID'</li>\n",
       "\t<li>'YEAR'</li>\n",
       "\t<li>'AGE'</li>\n",
       "\t<li>'GENDER'</li>\n",
       "\t<li>'RACE'</li>\n",
       "\t<li>'ETHNIC'</li>\n",
       "\t<li>'MARSTAT'</li>\n",
       "\t<li>'EDUC'</li>\n",
       "\t<li>'EMPLOY'</li>\n",
       "\t<li>'DETNLF'</li>\n",
       "\t<li>'PREG'</li>\n",
       "\t<li>'VET'</li>\n",
       "\t<li>'LIVARAG'</li>\n",
       "\t<li>'PRIMINC'</li>\n",
       "\t<li>'ARRESTS'</li>\n",
       "\t<li>'STFIPS'</li>\n",
       "\t<li>'CBSA'</li>\n",
       "\t<li>'PMSA'</li>\n",
       "\t<li>'REGION'</li>\n",
       "\t<li>'DIVISION'</li>\n",
       "\t<li>'SERVSETA'</li>\n",
       "\t<li>'METHUSE'</li>\n",
       "\t<li>'DAYWAIT'</li>\n",
       "\t<li>'PSOURCE'</li>\n",
       "\t<li>'DETCRIM'</li>\n",
       "\t<li>'NOPRIOR'</li>\n",
       "\t<li>'SUB1'</li>\n",
       "\t<li>'ROUTE1'</li>\n",
       "\t<li>'FREQ1'</li>\n",
       "\t<li>'FRSTUSE1'</li>\n",
       "\t<li>'SUB2'</li>\n",
       "\t<li>'ROUTE2'</li>\n",
       "\t<li>'FREQ2'</li>\n",
       "\t<li>'FRSTUSE2'</li>\n",
       "\t<li>'SUB3'</li>\n",
       "\t<li>'ROUTE3'</li>\n",
       "\t<li>'FREQ3'</li>\n",
       "\t<li>'FRSTUSE3'</li>\n",
       "\t<li>'NUMSUBS'</li>\n",
       "\t<li>'IDU'</li>\n",
       "\t<li>'ALCFLG'</li>\n",
       "\t<li>'COKEFLG'</li>\n",
       "\t<li>'MARFLG'</li>\n",
       "\t<li>'HERFLG'</li>\n",
       "\t<li>'METHFLG'</li>\n",
       "\t<li>'OPSYNFLG'</li>\n",
       "\t<li>'PCPFLG'</li>\n",
       "\t<li>'HALLFLG'</li>\n",
       "\t<li>'MTHAMFLG'</li>\n",
       "\t<li>'AMPHFLG'</li>\n",
       "\t<li>'STIMFLG'</li>\n",
       "\t<li>'BENZFLG'</li>\n",
       "\t<li>'TRNQFLG'</li>\n",
       "\t<li>'BARBFLG'</li>\n",
       "\t<li>'SEDHPFLG'</li>\n",
       "\t<li>'INHFLG'</li>\n",
       "\t<li>'OTCFLG'</li>\n",
       "\t<li>'OTHERFLG'</li>\n",
       "\t<li>'ALCDRUG'</li>\n",
       "\t<li>'DSMCRIT'</li>\n",
       "\t<li>'PSYPROB'</li>\n",
       "\t<li>'HLTHINS'</li>\n",
       "\t<li>'PRIMPAY'</li>\n",
       "</ol>\n"
      ],
      "text/latex": [
       "\\begin{enumerate*}\n",
       "\\item 'CASEID'\n",
       "\\item 'YEAR'\n",
       "\\item 'AGE'\n",
       "\\item 'GENDER'\n",
       "\\item 'RACE'\n",
       "\\item 'ETHNIC'\n",
       "\\item 'MARSTAT'\n",
       "\\item 'EDUC'\n",
       "\\item 'EMPLOY'\n",
       "\\item 'DETNLF'\n",
       "\\item 'PREG'\n",
       "\\item 'VET'\n",
       "\\item 'LIVARAG'\n",
       "\\item 'PRIMINC'\n",
       "\\item 'ARRESTS'\n",
       "\\item 'STFIPS'\n",
       "\\item 'CBSA'\n",
       "\\item 'PMSA'\n",
       "\\item 'REGION'\n",
       "\\item 'DIVISION'\n",
       "\\item 'SERVSETA'\n",
       "\\item 'METHUSE'\n",
       "\\item 'DAYWAIT'\n",
       "\\item 'PSOURCE'\n",
       "\\item 'DETCRIM'\n",
       "\\item 'NOPRIOR'\n",
       "\\item 'SUB1'\n",
       "\\item 'ROUTE1'\n",
       "\\item 'FREQ1'\n",
       "\\item 'FRSTUSE1'\n",
       "\\item 'SUB2'\n",
       "\\item 'ROUTE2'\n",
       "\\item 'FREQ2'\n",
       "\\item 'FRSTUSE2'\n",
       "\\item 'SUB3'\n",
       "\\item 'ROUTE3'\n",
       "\\item 'FREQ3'\n",
       "\\item 'FRSTUSE3'\n",
       "\\item 'NUMSUBS'\n",
       "\\item 'IDU'\n",
       "\\item 'ALCFLG'\n",
       "\\item 'COKEFLG'\n",
       "\\item 'MARFLG'\n",
       "\\item 'HERFLG'\n",
       "\\item 'METHFLG'\n",
       "\\item 'OPSYNFLG'\n",
       "\\item 'PCPFLG'\n",
       "\\item 'HALLFLG'\n",
       "\\item 'MTHAMFLG'\n",
       "\\item 'AMPHFLG'\n",
       "\\item 'STIMFLG'\n",
       "\\item 'BENZFLG'\n",
       "\\item 'TRNQFLG'\n",
       "\\item 'BARBFLG'\n",
       "\\item 'SEDHPFLG'\n",
       "\\item 'INHFLG'\n",
       "\\item 'OTCFLG'\n",
       "\\item 'OTHERFLG'\n",
       "\\item 'ALCDRUG'\n",
       "\\item 'DSMCRIT'\n",
       "\\item 'PSYPROB'\n",
       "\\item 'HLTHINS'\n",
       "\\item 'PRIMPAY'\n",
       "\\end{enumerate*}\n"
      ],
      "text/markdown": [
       "1. 'CASEID'\n",
       "2. 'YEAR'\n",
       "3. 'AGE'\n",
       "4. 'GENDER'\n",
       "5. 'RACE'\n",
       "6. 'ETHNIC'\n",
       "7. 'MARSTAT'\n",
       "8. 'EDUC'\n",
       "9. 'EMPLOY'\n",
       "10. 'DETNLF'\n",
       "11. 'PREG'\n",
       "12. 'VET'\n",
       "13. 'LIVARAG'\n",
       "14. 'PRIMINC'\n",
       "15. 'ARRESTS'\n",
       "16. 'STFIPS'\n",
       "17. 'CBSA'\n",
       "18. 'PMSA'\n",
       "19. 'REGION'\n",
       "20. 'DIVISION'\n",
       "21. 'SERVSETA'\n",
       "22. 'METHUSE'\n",
       "23. 'DAYWAIT'\n",
       "24. 'PSOURCE'\n",
       "25. 'DETCRIM'\n",
       "26. 'NOPRIOR'\n",
       "27. 'SUB1'\n",
       "28. 'ROUTE1'\n",
       "29. 'FREQ1'\n",
       "30. 'FRSTUSE1'\n",
       "31. 'SUB2'\n",
       "32. 'ROUTE2'\n",
       "33. 'FREQ2'\n",
       "34. 'FRSTUSE2'\n",
       "35. 'SUB3'\n",
       "36. 'ROUTE3'\n",
       "37. 'FREQ3'\n",
       "38. 'FRSTUSE3'\n",
       "39. 'NUMSUBS'\n",
       "40. 'IDU'\n",
       "41. 'ALCFLG'\n",
       "42. 'COKEFLG'\n",
       "43. 'MARFLG'\n",
       "44. 'HERFLG'\n",
       "45. 'METHFLG'\n",
       "46. 'OPSYNFLG'\n",
       "47. 'PCPFLG'\n",
       "48. 'HALLFLG'\n",
       "49. 'MTHAMFLG'\n",
       "50. 'AMPHFLG'\n",
       "51. 'STIMFLG'\n",
       "52. 'BENZFLG'\n",
       "53. 'TRNQFLG'\n",
       "54. 'BARBFLG'\n",
       "55. 'SEDHPFLG'\n",
       "56. 'INHFLG'\n",
       "57. 'OTCFLG'\n",
       "58. 'OTHERFLG'\n",
       "59. 'ALCDRUG'\n",
       "60. 'DSMCRIT'\n",
       "61. 'PSYPROB'\n",
       "62. 'HLTHINS'\n",
       "63. 'PRIMPAY'\n",
       "\n",
       "\n"
      ],
      "text/plain": [
       " [1] \"CASEID\"   \"YEAR\"     \"AGE\"      \"GENDER\"   \"RACE\"     \"ETHNIC\"  \n",
       " [7] \"MARSTAT\"  \"EDUC\"     \"EMPLOY\"   \"DETNLF\"   \"PREG\"     \"VET\"     \n",
       "[13] \"LIVARAG\"  \"PRIMINC\"  \"ARRESTS\"  \"STFIPS\"   \"CBSA\"     \"PMSA\"    \n",
       "[19] \"REGION\"   \"DIVISION\" \"SERVSETA\" \"METHUSE\"  \"DAYWAIT\"  \"PSOURCE\" \n",
       "[25] \"DETCRIM\"  \"NOPRIOR\"  \"SUB1\"     \"ROUTE1\"   \"FREQ1\"    \"FRSTUSE1\"\n",
       "[31] \"SUB2\"     \"ROUTE2\"   \"FREQ2\"    \"FRSTUSE2\" \"SUB3\"     \"ROUTE3\"  \n",
       "[37] \"FREQ3\"    \"FRSTUSE3\" \"NUMSUBS\"  \"IDU\"      \"ALCFLG\"   \"COKEFLG\" \n",
       "[43] \"MARFLG\"   \"HERFLG\"   \"METHFLG\"  \"OPSYNFLG\" \"PCPFLG\"   \"HALLFLG\" \n",
       "[49] \"MTHAMFLG\" \"AMPHFLG\"  \"STIMFLG\"  \"BENZFLG\"  \"TRNQFLG\"  \"BARBFLG\" \n",
       "[55] \"SEDHPFLG\" \"INHFLG\"   \"OTCFLG\"   \"OTHERFLG\" \"ALCDRUG\"  \"DSMCRIT\" \n",
       "[61] \"PSYPROB\"  \"HLTHINS\"  \"PRIMPAY\" "
      ]
     },
     "metadata": {},
     "output_type": "display_data"
    }
   ],
   "source": [
    "names(physc)"
   ]
  },
  {
   "cell_type": "markdown",
   "metadata": {},
   "source": [
    "There is a meth flag, and that is a question to ask. Are there age groupings of meth users?\n",
    "Check out the levels (factor strings in a factor)"
   ]
  },
  {
   "cell_type": "code",
   "execution_count": 29,
   "metadata": {},
   "outputs": [
    {
     "data": {
      "text/html": [
       "<ol class=list-inline>\n",
       "\t<li>'(0) SUBSTANCE NOT REPORTED'</li>\n",
       "\t<li>'(1) SUBSTANCE REPORTED'</li>\n",
       "</ol>\n"
      ],
      "text/latex": [
       "\\begin{enumerate*}\n",
       "\\item '(0) SUBSTANCE NOT REPORTED'\n",
       "\\item '(1) SUBSTANCE REPORTED'\n",
       "\\end{enumerate*}\n"
      ],
      "text/markdown": [
       "1. '(0) SUBSTANCE NOT REPORTED'\n",
       "2. '(1) SUBSTANCE REPORTED'\n",
       "\n",
       "\n"
      ],
      "text/plain": [
       "[1] \"(0) SUBSTANCE NOT REPORTED\" \"(1) SUBSTANCE REPORTED\"    "
      ]
     },
     "metadata": {},
     "output_type": "display_data"
    }
   ],
   "source": [
    "levels(physc$METHFLG)"
   ]
  },
  {
   "cell_type": "markdown",
   "metadata": {},
   "source": [
    "The data is labeled 0. The (0) is not the factor value, but an assumed coding value. Whey they converted the data to a factor it will change. We know factors start at 1... This can be done with a simple subtract, or just know they will be 1 and 2"
   ]
  },
  {
   "cell_type": "code",
   "execution_count": 30,
   "metadata": {},
   "outputs": [
    {
     "data": {
      "text/html": [
       "<ol class=list-inline>\n",
       "\t<li>(0) SUBSTANCE NOT REPORTED</li>\n",
       "\t<li>(0) SUBSTANCE NOT REPORTED</li>\n",
       "\t<li>(0) SUBSTANCE NOT REPORTED</li>\n",
       "\t<li>(0) SUBSTANCE NOT REPORTED</li>\n",
       "\t<li>(0) SUBSTANCE NOT REPORTED</li>\n",
       "\t<li>(0) SUBSTANCE NOT REPORTED</li>\n",
       "</ol>\n",
       "\n",
       "<details>\n",
       "\t<summary style=display:list-item;cursor:pointer>\n",
       "\t\t<strong>Levels</strong>:\n",
       "\t</summary>\n",
       "\t<ol class=list-inline>\n",
       "\t\t<li>'(0) SUBSTANCE NOT REPORTED'</li>\n",
       "\t\t<li>'(1) SUBSTANCE REPORTED'</li>\n",
       "\t</ol>\n",
       "</details>"
      ],
      "text/latex": [
       "\\begin{enumerate*}\n",
       "\\item (0) SUBSTANCE NOT REPORTED\n",
       "\\item (0) SUBSTANCE NOT REPORTED\n",
       "\\item (0) SUBSTANCE NOT REPORTED\n",
       "\\item (0) SUBSTANCE NOT REPORTED\n",
       "\\item (0) SUBSTANCE NOT REPORTED\n",
       "\\item (0) SUBSTANCE NOT REPORTED\n",
       "\\end{enumerate*}\n",
       "\n",
       "\\emph{Levels}: \\begin{enumerate*}\n",
       "\\item '(0) SUBSTANCE NOT REPORTED'\n",
       "\\item '(1) SUBSTANCE REPORTED'\n",
       "\\end{enumerate*}\n"
      ],
      "text/markdown": [
       "1. (0) SUBSTANCE NOT REPORTED\n",
       "2. (0) SUBSTANCE NOT REPORTED\n",
       "3. (0) SUBSTANCE NOT REPORTED\n",
       "4. (0) SUBSTANCE NOT REPORTED\n",
       "5. (0) SUBSTANCE NOT REPORTED\n",
       "6. (0) SUBSTANCE NOT REPORTED\n",
       "\n",
       "\n",
       "\n",
       "**Levels**: 1. '(0) SUBSTANCE NOT REPORTED'\n",
       "2. '(1) SUBSTANCE REPORTED'\n",
       "\n",
       "\n"
      ],
      "text/plain": [
       "[1] (0) SUBSTANCE NOT REPORTED (0) SUBSTANCE NOT REPORTED\n",
       "[3] (0) SUBSTANCE NOT REPORTED (0) SUBSTANCE NOT REPORTED\n",
       "[5] (0) SUBSTANCE NOT REPORTED (0) SUBSTANCE NOT REPORTED\n",
       "Levels: (0) SUBSTANCE NOT REPORTED (1) SUBSTANCE REPORTED"
      ]
     },
     "metadata": {},
     "output_type": "display_data"
    }
   ],
   "source": [
    "head(physc$METHFLG)"
   ]
  },
  {
   "cell_type": "code",
   "execution_count": 31,
   "metadata": {},
   "outputs": [],
   "source": [
    "# Subtract 1 to get 0 as not reported, and 1 as reported\n",
    "# create a m atrix of age and methflg for clustering with both variables\n",
    "# This allows creating clusters of more than one term\n",
    "bob <- matrix( c(as.numeric(physc$AGE),as.numeric(physc$METHFLG))-1,ncol=2)"
   ]
  },
  {
   "cell_type": "code",
   "execution_count": 32,
   "metadata": {},
   "outputs": [
    {
     "data": {
      "text/html": [
       "<table>\n",
       "<tbody>\n",
       "\t<tr><td>9</td><td>0</td></tr>\n",
       "\t<tr><td>6</td><td>0</td></tr>\n",
       "\t<tr><td>6</td><td>0</td></tr>\n",
       "\t<tr><td>9</td><td>0</td></tr>\n",
       "\t<tr><td>7</td><td>0</td></tr>\n",
       "\t<tr><td>9</td><td>0</td></tr>\n",
       "</tbody>\n",
       "</table>\n"
      ],
      "text/latex": [
       "\\begin{tabular}{ll}\n",
       "\t 9 & 0\\\\\n",
       "\t 6 & 0\\\\\n",
       "\t 6 & 0\\\\\n",
       "\t 9 & 0\\\\\n",
       "\t 7 & 0\\\\\n",
       "\t 9 & 0\\\\\n",
       "\\end{tabular}\n"
      ],
      "text/markdown": [
       "\n",
       "| 9 | 0 | \n",
       "| 6 | 0 | \n",
       "| 6 | 0 | \n",
       "| 9 | 0 | \n",
       "| 7 | 0 | \n",
       "| 9 | 0 | \n",
       "\n",
       "\n"
      ],
      "text/plain": [
       "     [,1] [,2]\n",
       "[1,] 9    0   \n",
       "[2,] 6    0   \n",
       "[3,] 6    0   \n",
       "[4,] 9    0   \n",
       "[5,] 7    0   \n",
       "[6,] 9    0   "
      ]
     },
     "metadata": {},
     "output_type": "display_data"
    }
   ],
   "source": [
    "head(bob)"
   ]
  },
  {
   "cell_type": "code",
   "execution_count": 33,
   "metadata": {},
   "outputs": [
    {
     "data": {
      "text/html": [
       "<ol class=list-inline>\n",
       "\t<li>7</li>\n",
       "\t<li>7</li>\n",
       "\t<li>7</li>\n",
       "\t<li>3</li>\n",
       "\t<li>3</li>\n",
       "\t<li>6</li>\n",
       "</ol>\n"
      ],
      "text/latex": [
       "\\begin{enumerate*}\n",
       "\\item 7\n",
       "\\item 7\n",
       "\\item 7\n",
       "\\item 3\n",
       "\\item 3\n",
       "\\item 6\n",
       "\\end{enumerate*}\n"
      ],
      "text/markdown": [
       "1. 7\n",
       "2. 7\n",
       "3. 7\n",
       "4. 3\n",
       "5. 3\n",
       "6. 6\n",
       "\n",
       "\n"
      ],
      "text/plain": [
       "[1] 7 7 7 3 3 6"
      ]
     },
     "metadata": {},
     "output_type": "display_data"
    }
   ],
   "source": [
    "tail(as.numeric(physc$AGE))"
   ]
  },
  {
   "cell_type": "markdown",
   "metadata": {},
   "source": [
    "Perform a kmeans clustering on the two columns of data (age and methflg). There are 11 age categories, so I will ask for 11 clusters. You could do fewer, but I want to see where they will fall naturally and the age categories are already pretty broad."
   ]
  },
  {
   "cell_type": "code",
   "execution_count": 34,
   "metadata": {},
   "outputs": [],
   "source": [
    "am <- kmeans(bob,11)"
   ]
  },
  {
   "cell_type": "code",
   "execution_count": 35,
   "metadata": {},
   "outputs": [
    {
     "name": "stdout",
     "output_type": "stream",
     "text": [
      "List of 9\n",
      " $ cluster     : int [1:1749767] 10 4 4 10 2 10 3 11 4 2 ...\n",
      " $ centers     : num [1:11, 1:2] 9.52 7.5 2 5.42 3.64 ...\n",
      "  ..- attr(*, \"dimnames\")=List of 2\n",
      "  .. ..$ : chr [1:11] \"1\" \"2\" \"3\" \"4\" ...\n",
      "  .. ..$ : NULL\n",
      " $ totss       : num 11738224\n",
      " $ withinss    : num [1:11] 419 92015 0 103342 1048 ...\n",
      " $ tot.withinss: num 381799\n",
      " $ betweenss   : num 11356425\n",
      " $ size        : int [1:11] 1678 360279 104212 409364 4552 485902 7 20864 456 263165 ...\n",
      " $ iter        : int 2\n",
      " $ ifault      : int 0\n",
      " - attr(*, \"class\")= chr \"kmeans\"\n"
     ]
    }
   ],
   "source": [
    "# str shows what is in the kmeans result. (it is a list of lists, the first list has names)\n",
    "str(am)"
   ]
  },
  {
   "cell_type": "markdown",
   "metadata": {},
   "source": [
    "The centers show where the clusters are located (the center value of the cluster), and the size shows how many samples are in that cluster.\n",
    "\n",
    "Now take a look at the clusters. I am looking for ones with the flag 1 (I subtracted one to make zero be no methflg, and 1 be a methflg). Our input matrix had age as the first column, and methflg as the second column. The centers will be listed the same way.\n"
   ]
  },
  {
   "cell_type": "code",
   "execution_count": 36,
   "metadata": {},
   "outputs": [
    {
     "data": {
      "text/html": [
       "<table>\n",
       "<tbody>\n",
       "\t<tr><th scope=row>1</th><td>9.519666   </td><td>1.000000000</td></tr>\n",
       "\t<tr><th scope=row>2</th><td>7.503493   </td><td>0.005440228</td></tr>\n",
       "\t<tr><th scope=row>3</th><td>2.000000   </td><td>0.000000000</td></tr>\n",
       "\t<tr><th scope=row>4</th><td>5.417340   </td><td>0.009365748</td></tr>\n",
       "\t<tr><th scope=row>5</th><td>3.640817   </td><td>1.000000000</td></tr>\n",
       "\t<tr><th scope=row>6</th><td>3.561860   </td><td>0.000000000</td></tr>\n",
       "\t<tr><th scope=row>7</th><td>0.000000   </td><td>1.000000000</td></tr>\n",
       "\t<tr><th scope=row>8</th><td>0.000000   </td><td>0.000000000</td></tr>\n",
       "\t<tr><th scope=row>9</th><td>1.824561   </td><td>1.000000000</td></tr>\n",
       "\t<tr><th scope=row>10</th><td>9.456531   </td><td>0.000000000</td></tr>\n",
       "\t<tr><th scope=row>11</th><td>1.000000   </td><td>0.000000000</td></tr>\n",
       "</tbody>\n",
       "</table>\n"
      ],
      "text/latex": [
       "\\begin{tabular}{r|ll}\n",
       "\t1 & 9.519666    & 1.000000000\\\\\n",
       "\t2 & 7.503493    & 0.005440228\\\\\n",
       "\t3 & 2.000000    & 0.000000000\\\\\n",
       "\t4 & 5.417340    & 0.009365748\\\\\n",
       "\t5 & 3.640817    & 1.000000000\\\\\n",
       "\t6 & 3.561860    & 0.000000000\\\\\n",
       "\t7 & 0.000000    & 1.000000000\\\\\n",
       "\t8 & 0.000000    & 0.000000000\\\\\n",
       "\t9 & 1.824561    & 1.000000000\\\\\n",
       "\t10 & 9.456531    & 0.000000000\\\\\n",
       "\t11 & 1.000000    & 0.000000000\\\\\n",
       "\\end{tabular}\n"
      ],
      "text/markdown": [
       "\n",
       "| 1 | 9.519666    | 1.000000000 | \n",
       "| 2 | 7.503493    | 0.005440228 | \n",
       "| 3 | 2.000000    | 0.000000000 | \n",
       "| 4 | 5.417340    | 0.009365748 | \n",
       "| 5 | 3.640817    | 1.000000000 | \n",
       "| 6 | 3.561860    | 0.000000000 | \n",
       "| 7 | 0.000000    | 1.000000000 | \n",
       "| 8 | 0.000000    | 0.000000000 | \n",
       "| 9 | 1.824561    | 1.000000000 | \n",
       "| 10 | 9.456531    | 0.000000000 | \n",
       "| 11 | 1.000000    | 0.000000000 | \n",
       "\n",
       "\n"
      ],
      "text/plain": [
       "   [,1]     [,2]       \n",
       "1  9.519666 1.000000000\n",
       "2  7.503493 0.005440228\n",
       "3  2.000000 0.000000000\n",
       "4  5.417340 0.009365748\n",
       "5  3.640817 1.000000000\n",
       "6  3.561860 0.000000000\n",
       "7  0.000000 1.000000000\n",
       "8  0.000000 0.000000000\n",
       "9  1.824561 1.000000000\n",
       "10 9.456531 0.000000000\n",
       "11 1.000000 0.000000000"
      ]
     },
     "metadata": {},
     "output_type": "display_data"
    }
   ],
   "source": [
    "am$centers"
   ]
  },
  {
   "cell_type": "markdown",
   "metadata": {},
   "source": [
    "Get just the clusters that show high meth use. Remember that the centers are a list of lists, or two dimensional, so from above, the methflg is the second col."
   ]
  },
  {
   "cell_type": "code",
   "execution_count": 37,
   "metadata": {},
   "outputs": [
    {
     "name": "stdout",
     "output_type": "stream",
     "text": [
      "[1] \"matrix\"\n",
      "      [,1] [,2]\n",
      "1 9.519666    1\n",
      "5 3.640817    1\n",
      "7 0.000000    1\n",
      "9 1.824561    1\n"
     ]
    }
   ],
   "source": [
    "cmeth <- am$centers[am$centers[,2]>0.9,]\n",
    "print(class(cmeth))\n",
    "print(cmeth)"
   ]
  },
  {
   "cell_type": "markdown",
   "metadata": {},
   "source": [
    "The selected row name stays the same in the resulting matrix. This can help you find the data in the original clustering."
   ]
  },
  {
   "cell_type": "code",
   "execution_count": 38,
   "metadata": {},
   "outputs": [
    {
     "data": {
      "text/html": [
       "<ol class=list-inline>\n",
       "\t<li>'1'</li>\n",
       "\t<li>'5'</li>\n",
       "\t<li>'7'</li>\n",
       "\t<li>'9'</li>\n",
       "</ol>\n"
      ],
      "text/latex": [
       "\\begin{enumerate*}\n",
       "\\item '1'\n",
       "\\item '5'\n",
       "\\item '7'\n",
       "\\item '9'\n",
       "\\end{enumerate*}\n"
      ],
      "text/markdown": [
       "1. '1'\n",
       "2. '5'\n",
       "3. '7'\n",
       "4. '9'\n",
       "\n",
       "\n"
      ],
      "text/plain": [
       "[1] \"1\" \"5\" \"7\" \"9\""
      ]
     },
     "metadata": {},
     "output_type": "display_data"
    }
   ],
   "source": [
    "row.names(cmeth)"
   ]
  },
  {
   "cell_type": "markdown",
   "metadata": {},
   "source": [
    "The row names are the numbers of the rows in the original centers. The ages are a statistical combination of the factor values.  I'll round them to the nearest integer to get an age category."
   ]
  },
  {
   "cell_type": "code",
   "execution_count": 39,
   "metadata": {},
   "outputs": [
    {
     "data": {
      "text/html": [
       "<ol class=list-inline>\n",
       "\t<li>'(11) 50-54'</li>\n",
       "\t<li>'(5) 21-24'</li>\n",
       "\t<li>'(3) 15-17'</li>\n",
       "</ol>\n"
      ],
      "text/latex": [
       "\\begin{enumerate*}\n",
       "\\item '(11) 50-54'\n",
       "\\item '(5) 21-24'\n",
       "\\item '(3) 15-17'\n",
       "\\end{enumerate*}\n"
      ],
      "text/markdown": [
       "1. '(11) 50-54'\n",
       "2. '(5) 21-24'\n",
       "3. '(3) 15-17'\n",
       "\n",
       "\n"
      ],
      "text/plain": [
       "[1] \"(11) 50-54\" \"(5) 21-24\"  \"(3) 15-17\" "
      ]
     },
     "metadata": {},
     "output_type": "display_data"
    }
   ],
   "source": [
    "levels(physc$AGE)[round(cmeth[,1],0)]"
   ]
  },
  {
   "cell_type": "markdown",
   "metadata": {},
   "source": [
    "Now that we have identified the 'clusters' in the data, it is good to see how many people had the methflg in the original data."
   ]
  },
  {
   "cell_type": "code",
   "execution_count": 40,
   "metadata": {},
   "outputs": [
    {
     "data": {
      "text/html": [
       "<dl class=dl-horizontal>\n",
       "\t<dt>(0) SUBSTANCE NOT REPORTED</dt>\n",
       "\t\t<dd>1737280</dd>\n",
       "\t<dt>(1) SUBSTANCE REPORTED</dt>\n",
       "\t\t<dd>12487</dd>\n",
       "</dl>\n"
      ],
      "text/latex": [
       "\\begin{description*}\n",
       "\\item[(0) SUBSTANCE NOT REPORTED] 1737280\n",
       "\\item[(1) SUBSTANCE REPORTED] 12487\n",
       "\\end{description*}\n"
      ],
      "text/markdown": [
       "(0) SUBSTANCE NOT REPORTED\n",
       ":   1737280(1) SUBSTANCE REPORTED\n",
       ":   12487\n",
       "\n"
      ],
      "text/plain": [
       "(0) SUBSTANCE NOT REPORTED     (1) SUBSTANCE REPORTED \n",
       "                   1737280                      12487 "
      ]
     },
     "metadata": {},
     "output_type": "display_data"
    }
   ],
   "source": [
    "summary(physc$METHFLG)"
   ]
  },
  {
   "cell_type": "markdown",
   "metadata": {},
   "source": [
    "It's less than 1% of the data, or about 12500 people. This is still a large number of people, but not a significant number of physc admits are flagged.\n",
    "\n",
    "It's good to check how many of the total reponses are in the clusters."
   ]
  },
  {
   "cell_type": "code",
   "execution_count": 41,
   "metadata": {},
   "outputs": [
    {
     "data": {
      "text/html": [
       "6693"
      ],
      "text/latex": [
       "6693"
      ],
      "text/markdown": [
       "6693"
      ],
      "text/plain": [
       "[1] 6693"
      ]
     },
     "metadata": {},
     "output_type": "display_data"
    }
   ],
   "source": [
    "sum(am$size[as.numeric(row.names(cmeth))])"
   ]
  },
  {
   "cell_type": "markdown",
   "metadata": {},
   "source": [
    "The clusters only contain about 80% of the reported people. The other people are in a category where the methflg is reported a very small fraction of the time. Since I subtracted 1 from the meth flag, a zero means no flag, and a one is a flag. Multiplying the sizes by the meth flag result should approximat the entire methflg distribution"
   ]
  },
  {
   "cell_type": "code",
   "execution_count": 42,
   "metadata": {},
   "outputs": [
    {
     "name": "stdout",
     "output_type": "stream",
     "text": [
      "          1           2           3           4           5           6 \n",
      "1.000000000 0.005440228 0.000000000 0.009365748 1.000000000 0.000000000 \n",
      "          7           8           9          10          11 \n",
      "1.000000000 0.000000000 1.000000000 0.000000000 0.000000000 \n"
     ]
    },
    {
     "data": {
      "text/html": [
       "12487"
      ],
      "text/latex": [
       "12487"
      ],
      "text/markdown": [
       "12487"
      ],
      "text/plain": [
       "[1] 12487"
      ]
     },
     "metadata": {},
     "output_type": "display_data"
    }
   ],
   "source": [
    "print(am$centers[,2])\n",
    "sum(am$size*am$centers[,2])"
   ]
  },
  {
   "cell_type": "markdown",
   "metadata": {},
   "source": [
    "It matches. 20% of the methflg is scattered in other natural clusters. "
   ]
  },
  {
   "cell_type": "code",
   "execution_count": 43,
   "metadata": {},
   "outputs": [
    {
     "data": {
      "text/html": [
       "<dl class=dl-horizontal>\n",
       "\t<dt>(1) YES</dt>\n",
       "\t\t<dd>113412</dd>\n",
       "\t<dt>(2) NO</dt>\n",
       "\t\t<dd>1558904</dd>\n",
       "\t<dt>NA's</dt>\n",
       "\t\t<dd>77451</dd>\n",
       "</dl>\n"
      ],
      "text/latex": [
       "\\begin{description*}\n",
       "\\item[(1) YES] 113412\n",
       "\\item[(2) NO] 1558904\n",
       "\\item[NA's] 77451\n",
       "\\end{description*}\n"
      ],
      "text/markdown": [
       "(1) YES\n",
       ":   113412(2) NO\n",
       ":   1558904NA's\n",
       ":   77451\n",
       "\n"
      ],
      "text/plain": [
       "(1) YES  (2) NO    NA's \n",
       " 113412 1558904   77451 "
      ]
     },
     "metadata": {},
     "output_type": "display_data"
    }
   ],
   "source": [
    "summary(physc$METHUSE)"
   ]
  },
  {
   "cell_type": "code",
   "execution_count": 44,
   "metadata": {},
   "outputs": [
    {
     "data": {
      "text/html": [
       "<ol class=list-inline>\n",
       "\t<li>'CASEID'</li>\n",
       "\t<li>'YEAR'</li>\n",
       "\t<li>'AGE'</li>\n",
       "\t<li>'GENDER'</li>\n",
       "\t<li>'RACE'</li>\n",
       "\t<li>'ETHNIC'</li>\n",
       "\t<li>'MARSTAT'</li>\n",
       "\t<li>'EDUC'</li>\n",
       "\t<li>'EMPLOY'</li>\n",
       "\t<li>'DETNLF'</li>\n",
       "\t<li>'PREG'</li>\n",
       "\t<li>'VET'</li>\n",
       "\t<li>'LIVARAG'</li>\n",
       "\t<li>'PRIMINC'</li>\n",
       "\t<li>'ARRESTS'</li>\n",
       "\t<li>'STFIPS'</li>\n",
       "\t<li>'CBSA'</li>\n",
       "\t<li>'PMSA'</li>\n",
       "\t<li>'REGION'</li>\n",
       "\t<li>'DIVISION'</li>\n",
       "\t<li>'SERVSETA'</li>\n",
       "\t<li>'METHUSE'</li>\n",
       "\t<li>'DAYWAIT'</li>\n",
       "\t<li>'PSOURCE'</li>\n",
       "\t<li>'DETCRIM'</li>\n",
       "\t<li>'NOPRIOR'</li>\n",
       "\t<li>'SUB1'</li>\n",
       "\t<li>'ROUTE1'</li>\n",
       "\t<li>'FREQ1'</li>\n",
       "\t<li>'FRSTUSE1'</li>\n",
       "\t<li>'SUB2'</li>\n",
       "\t<li>'ROUTE2'</li>\n",
       "\t<li>'FREQ2'</li>\n",
       "\t<li>'FRSTUSE2'</li>\n",
       "\t<li>'SUB3'</li>\n",
       "\t<li>'ROUTE3'</li>\n",
       "\t<li>'FREQ3'</li>\n",
       "\t<li>'FRSTUSE3'</li>\n",
       "\t<li>'NUMSUBS'</li>\n",
       "\t<li>'IDU'</li>\n",
       "\t<li>'ALCFLG'</li>\n",
       "\t<li>'COKEFLG'</li>\n",
       "\t<li>'MARFLG'</li>\n",
       "\t<li>'HERFLG'</li>\n",
       "\t<li>'METHFLG'</li>\n",
       "\t<li>'OPSYNFLG'</li>\n",
       "\t<li>'PCPFLG'</li>\n",
       "\t<li>'HALLFLG'</li>\n",
       "\t<li>'MTHAMFLG'</li>\n",
       "\t<li>'AMPHFLG'</li>\n",
       "\t<li>'STIMFLG'</li>\n",
       "\t<li>'BENZFLG'</li>\n",
       "\t<li>'TRNQFLG'</li>\n",
       "\t<li>'BARBFLG'</li>\n",
       "\t<li>'SEDHPFLG'</li>\n",
       "\t<li>'INHFLG'</li>\n",
       "\t<li>'OTCFLG'</li>\n",
       "\t<li>'OTHERFLG'</li>\n",
       "\t<li>'ALCDRUG'</li>\n",
       "\t<li>'DSMCRIT'</li>\n",
       "\t<li>'PSYPROB'</li>\n",
       "\t<li>'HLTHINS'</li>\n",
       "\t<li>'PRIMPAY'</li>\n",
       "</ol>\n"
      ],
      "text/latex": [
       "\\begin{enumerate*}\n",
       "\\item 'CASEID'\n",
       "\\item 'YEAR'\n",
       "\\item 'AGE'\n",
       "\\item 'GENDER'\n",
       "\\item 'RACE'\n",
       "\\item 'ETHNIC'\n",
       "\\item 'MARSTAT'\n",
       "\\item 'EDUC'\n",
       "\\item 'EMPLOY'\n",
       "\\item 'DETNLF'\n",
       "\\item 'PREG'\n",
       "\\item 'VET'\n",
       "\\item 'LIVARAG'\n",
       "\\item 'PRIMINC'\n",
       "\\item 'ARRESTS'\n",
       "\\item 'STFIPS'\n",
       "\\item 'CBSA'\n",
       "\\item 'PMSA'\n",
       "\\item 'REGION'\n",
       "\\item 'DIVISION'\n",
       "\\item 'SERVSETA'\n",
       "\\item 'METHUSE'\n",
       "\\item 'DAYWAIT'\n",
       "\\item 'PSOURCE'\n",
       "\\item 'DETCRIM'\n",
       "\\item 'NOPRIOR'\n",
       "\\item 'SUB1'\n",
       "\\item 'ROUTE1'\n",
       "\\item 'FREQ1'\n",
       "\\item 'FRSTUSE1'\n",
       "\\item 'SUB2'\n",
       "\\item 'ROUTE2'\n",
       "\\item 'FREQ2'\n",
       "\\item 'FRSTUSE2'\n",
       "\\item 'SUB3'\n",
       "\\item 'ROUTE3'\n",
       "\\item 'FREQ3'\n",
       "\\item 'FRSTUSE3'\n",
       "\\item 'NUMSUBS'\n",
       "\\item 'IDU'\n",
       "\\item 'ALCFLG'\n",
       "\\item 'COKEFLG'\n",
       "\\item 'MARFLG'\n",
       "\\item 'HERFLG'\n",
       "\\item 'METHFLG'\n",
       "\\item 'OPSYNFLG'\n",
       "\\item 'PCPFLG'\n",
       "\\item 'HALLFLG'\n",
       "\\item 'MTHAMFLG'\n",
       "\\item 'AMPHFLG'\n",
       "\\item 'STIMFLG'\n",
       "\\item 'BENZFLG'\n",
       "\\item 'TRNQFLG'\n",
       "\\item 'BARBFLG'\n",
       "\\item 'SEDHPFLG'\n",
       "\\item 'INHFLG'\n",
       "\\item 'OTCFLG'\n",
       "\\item 'OTHERFLG'\n",
       "\\item 'ALCDRUG'\n",
       "\\item 'DSMCRIT'\n",
       "\\item 'PSYPROB'\n",
       "\\item 'HLTHINS'\n",
       "\\item 'PRIMPAY'\n",
       "\\end{enumerate*}\n"
      ],
      "text/markdown": [
       "1. 'CASEID'\n",
       "2. 'YEAR'\n",
       "3. 'AGE'\n",
       "4. 'GENDER'\n",
       "5. 'RACE'\n",
       "6. 'ETHNIC'\n",
       "7. 'MARSTAT'\n",
       "8. 'EDUC'\n",
       "9. 'EMPLOY'\n",
       "10. 'DETNLF'\n",
       "11. 'PREG'\n",
       "12. 'VET'\n",
       "13. 'LIVARAG'\n",
       "14. 'PRIMINC'\n",
       "15. 'ARRESTS'\n",
       "16. 'STFIPS'\n",
       "17. 'CBSA'\n",
       "18. 'PMSA'\n",
       "19. 'REGION'\n",
       "20. 'DIVISION'\n",
       "21. 'SERVSETA'\n",
       "22. 'METHUSE'\n",
       "23. 'DAYWAIT'\n",
       "24. 'PSOURCE'\n",
       "25. 'DETCRIM'\n",
       "26. 'NOPRIOR'\n",
       "27. 'SUB1'\n",
       "28. 'ROUTE1'\n",
       "29. 'FREQ1'\n",
       "30. 'FRSTUSE1'\n",
       "31. 'SUB2'\n",
       "32. 'ROUTE2'\n",
       "33. 'FREQ2'\n",
       "34. 'FRSTUSE2'\n",
       "35. 'SUB3'\n",
       "36. 'ROUTE3'\n",
       "37. 'FREQ3'\n",
       "38. 'FRSTUSE3'\n",
       "39. 'NUMSUBS'\n",
       "40. 'IDU'\n",
       "41. 'ALCFLG'\n",
       "42. 'COKEFLG'\n",
       "43. 'MARFLG'\n",
       "44. 'HERFLG'\n",
       "45. 'METHFLG'\n",
       "46. 'OPSYNFLG'\n",
       "47. 'PCPFLG'\n",
       "48. 'HALLFLG'\n",
       "49. 'MTHAMFLG'\n",
       "50. 'AMPHFLG'\n",
       "51. 'STIMFLG'\n",
       "52. 'BENZFLG'\n",
       "53. 'TRNQFLG'\n",
       "54. 'BARBFLG'\n",
       "55. 'SEDHPFLG'\n",
       "56. 'INHFLG'\n",
       "57. 'OTCFLG'\n",
       "58. 'OTHERFLG'\n",
       "59. 'ALCDRUG'\n",
       "60. 'DSMCRIT'\n",
       "61. 'PSYPROB'\n",
       "62. 'HLTHINS'\n",
       "63. 'PRIMPAY'\n",
       "\n",
       "\n"
      ],
      "text/plain": [
       " [1] \"CASEID\"   \"YEAR\"     \"AGE\"      \"GENDER\"   \"RACE\"     \"ETHNIC\"  \n",
       " [7] \"MARSTAT\"  \"EDUC\"     \"EMPLOY\"   \"DETNLF\"   \"PREG\"     \"VET\"     \n",
       "[13] \"LIVARAG\"  \"PRIMINC\"  \"ARRESTS\"  \"STFIPS\"   \"CBSA\"     \"PMSA\"    \n",
       "[19] \"REGION\"   \"DIVISION\" \"SERVSETA\" \"METHUSE\"  \"DAYWAIT\"  \"PSOURCE\" \n",
       "[25] \"DETCRIM\"  \"NOPRIOR\"  \"SUB1\"     \"ROUTE1\"   \"FREQ1\"    \"FRSTUSE1\"\n",
       "[31] \"SUB2\"     \"ROUTE2\"   \"FREQ2\"    \"FRSTUSE2\" \"SUB3\"     \"ROUTE3\"  \n",
       "[37] \"FREQ3\"    \"FRSTUSE3\" \"NUMSUBS\"  \"IDU\"      \"ALCFLG\"   \"COKEFLG\" \n",
       "[43] \"MARFLG\"   \"HERFLG\"   \"METHFLG\"  \"OPSYNFLG\" \"PCPFLG\"   \"HALLFLG\" \n",
       "[49] \"MTHAMFLG\" \"AMPHFLG\"  \"STIMFLG\"  \"BENZFLG\"  \"TRNQFLG\"  \"BARBFLG\" \n",
       "[55] \"SEDHPFLG\" \"INHFLG\"   \"OTCFLG\"   \"OTHERFLG\" \"ALCDRUG\"  \"DSMCRIT\" \n",
       "[61] \"PSYPROB\"  \"HLTHINS\"  \"PRIMPAY\" "
      ]
     },
     "metadata": {},
     "output_type": "display_data"
    }
   ],
   "source": [
    "names(physc)"
   ]
  },
  {
   "cell_type": "code",
   "execution_count": 45,
   "metadata": {},
   "outputs": [
    {
     "data": {
      "text/html": [
       "<dl class=dl-horizontal>\n",
       "\t<dt>(1) YES</dt>\n",
       "\t\t<dd>21926</dd>\n",
       "\t<dt>(2) NO</dt>\n",
       "\t\t<dd>529485</dd>\n",
       "\t<dt>NA's</dt>\n",
       "\t\t<dd>1198356</dd>\n",
       "</dl>\n"
      ],
      "text/latex": [
       "\\begin{description*}\n",
       "\\item[(1) YES] 21926\n",
       "\\item[(2) NO] 529485\n",
       "\\item[NA's] 1198356\n",
       "\\end{description*}\n"
      ],
      "text/markdown": [
       "(1) YES\n",
       ":   21926(2) NO\n",
       ":   529485NA's\n",
       ":   1198356\n",
       "\n"
      ],
      "text/plain": [
       "(1) YES  (2) NO    NA's \n",
       "  21926  529485 1198356 "
      ]
     },
     "metadata": {},
     "output_type": "display_data"
    }
   ],
   "source": [
    "summary(physc$PREG)"
   ]
  },
  {
   "cell_type": "code",
   "execution_count": 46,
   "metadata": {},
   "outputs": [],
   "source": [
    "preg <- physc[!is.na(physc$PREG),]"
   ]
  },
  {
   "cell_type": "code",
   "execution_count": 47,
   "metadata": {},
   "outputs": [
    {
     "data": {
      "text/html": [
       "<dl class=dl-horizontal>\n",
       "\t<dt>(1) YES</dt>\n",
       "\t\t<dd>21926</dd>\n",
       "\t<dt>(2) NO</dt>\n",
       "\t\t<dd>529485</dd>\n",
       "</dl>\n"
      ],
      "text/latex": [
       "\\begin{description*}\n",
       "\\item[(1) YES] 21926\n",
       "\\item[(2) NO] 529485\n",
       "\\end{description*}\n"
      ],
      "text/markdown": [
       "(1) YES\n",
       ":   21926(2) NO\n",
       ":   529485\n",
       "\n"
      ],
      "text/plain": [
       "(1) YES  (2) NO \n",
       "  21926  529485 "
      ]
     },
     "metadata": {},
     "output_type": "display_data"
    }
   ],
   "source": [
    "summary(preg$PREG)"
   ]
  },
  {
   "cell_type": "code",
   "execution_count": 48,
   "metadata": {},
   "outputs": [
    {
     "data": {
      "text/html": [
       "<dl class=dl-horizontal>\n",
       "\t<dt>(2) 12-14</dt>\n",
       "\t\t<dd>6885</dd>\n",
       "\t<dt>(3) 15-17</dt>\n",
       "\t\t<dd>25775</dd>\n",
       "\t<dt>(4) 18-20</dt>\n",
       "\t\t<dd>31394</dd>\n",
       "\t<dt>(5) 21-24</dt>\n",
       "\t\t<dd>74484</dd>\n",
       "\t<dt>(6) 25-29</dt>\n",
       "\t\t<dd>101924</dd>\n",
       "\t<dt>(7) 30-34</dt>\n",
       "\t\t<dd>84617</dd>\n",
       "\t<dt>(8) 35-39</dt>\n",
       "\t\t<dd>56202</dd>\n",
       "\t<dt>(9) 40-44</dt>\n",
       "\t\t<dd>54471</dd>\n",
       "\t<dt>(10) 45-49</dt>\n",
       "\t\t<dd>50771</dd>\n",
       "\t<dt>(11) 50-54</dt>\n",
       "\t\t<dd>37577</dd>\n",
       "\t<dt>(12) 55 AND OVER</dt>\n",
       "\t\t<dd>27311</dd>\n",
       "</dl>\n"
      ],
      "text/latex": [
       "\\begin{description*}\n",
       "\\item[(2) 12-14] 6885\n",
       "\\item[(3) 15-17] 25775\n",
       "\\item[(4) 18-20] 31394\n",
       "\\item[(5) 21-24] 74484\n",
       "\\item[(6) 25-29] 101924\n",
       "\\item[(7) 30-34] 84617\n",
       "\\item[(8) 35-39] 56202\n",
       "\\item[(9) 40-44] 54471\n",
       "\\item[(10) 45-49] 50771\n",
       "\\item[(11) 50-54] 37577\n",
       "\\item[(12) 55 AND OVER] 27311\n",
       "\\end{description*}\n"
      ],
      "text/markdown": [
       "(2) 12-14\n",
       ":   6885(3) 15-17\n",
       ":   25775(4) 18-20\n",
       ":   31394(5) 21-24\n",
       ":   74484(6) 25-29\n",
       ":   101924(7) 30-34\n",
       ":   84617(8) 35-39\n",
       ":   56202(9) 40-44\n",
       ":   54471(10) 45-49\n",
       ":   50771(11) 50-54\n",
       ":   37577(12) 55 AND OVER\n",
       ":   27311\n",
       "\n"
      ],
      "text/plain": [
       "       (2) 12-14        (3) 15-17        (4) 18-20        (5) 21-24 \n",
       "            6885            25775            31394            74484 \n",
       "       (6) 25-29        (7) 30-34        (8) 35-39        (9) 40-44 \n",
       "          101924            84617            56202            54471 \n",
       "      (10) 45-49       (11) 50-54 (12) 55 AND OVER \n",
       "           50771            37577            27311 "
      ]
     },
     "metadata": {},
     "output_type": "display_data"
    }
   ],
   "source": [
    "summary(preg$AGE)"
   ]
  },
  {
   "cell_type": "code",
   "execution_count": 54,
   "metadata": {},
   "outputs": [],
   "source": [
    "mx2 <- matrix( c(as.numeric(preg$AGE),as.numeric(preg$PREG)),ncol=2)"
   ]
  },
  {
   "cell_type": "code",
   "execution_count": 55,
   "metadata": {},
   "outputs": [
    {
     "name": "stdout",
     "output_type": "stream",
     "text": [
      " num [1:551411, 1:2] 2 9 6 5 6 9 5 9 5 10 ...\n"
     ]
    }
   ],
   "source": [
    "str(mx2)"
   ]
  },
  {
   "cell_type": "code",
   "execution_count": 56,
   "metadata": {},
   "outputs": [
    {
     "data": {
      "text/plain": [
       "K-means clustering with 11 clusters of sizes 54471, 159, 50771, 170327, 5372, 27237, 37492, 55100, 8150, 135447, 6885\n",
       "\n",
       "Cluster means:\n",
       "        [,1]     [,2]\n",
       "1   8.000000 1.991427\n",
       "2  10.465409 1.000000\n",
       "3   9.000000 1.997006\n",
       "4   4.598402 1.959049\n",
       "5   6.258563 1.000000\n",
       "6  11.000000 2.000000\n",
       "7  10.000000 2.000000\n",
       "8   2.532214 1.989310\n",
       "9   3.746135 1.000000\n",
       "10  6.404682 2.000000\n",
       "11  1.000000 1.990995\n",
       "\n",
       "Clustering vector:\n",
       "    [1]  8  3 10  4 10  3  4  3  4  7  1  1  1 10  7  4  1  4  4  1  8  4  3  7\n",
       "   [25]  1  6 10  3 10  4  1  4  4  4  4 10 10  4  3  9  4  8  8  4  8  4  1  6\n",
       " ' ' ' ' ' ' ' '  ' ' ' ' ' ' ' ' ' ' ' ' ' ' ' ' ' ' ' ' ' ' ' ' ' ' ' ' ' '  \n",
       "[99913]  1  7  4  4  4 10  4  1  8  6  4  4  4  1  4  8  8 10  4 10  4 10  3 10\n",
       "[99937]  8 10 10  4  1  5  6  7  4 10  8  3 10  4  4 10  8  8  1  3  7  3  4  1\n",
       "[99961]  8  4  1  7  4  8  4  1 10  4  3  4  9 10  7  8  1  8  4  8  4  4  7 10\n",
       "[99985]  7  1  4 11 10 10 10  4  4  4  1  4  6  8  4\n",
       " [ reached getOption(\"max.print\") -- omitted 451412 entries ]\n",
       "\n",
       "Within cluster sum of squares by cluster:\n",
       " [1]   462.99624    39.55975   151.54494 47621.85427  1029.85611     0.00000\n",
       " [7]     0.00000 14300.52367  1543.75325 32631.15050    61.44168\n",
       " (between_SS / total_SS =  97.0 %)\n",
       "\n",
       "Available components:\n",
       "\n",
       "[1] \"cluster\"      \"centers\"      \"totss\"        \"withinss\"     \"tot.withinss\"\n",
       "[6] \"betweenss\"    \"size\"         \"iter\"         \"ifault\"      "
      ]
     },
     "metadata": {},
     "output_type": "display_data"
    }
   ],
   "source": [
    "clp <- kmeans(mx2,11)\n",
    "clp"
   ]
  },
  {
   "cell_type": "code",
   "execution_count": 52,
   "metadata": {},
   "outputs": [
    {
     "name": "stdout",
     "output_type": "stream",
     "text": [
      "'data.frame':\t1749767 obs. of  63 variables:\n",
      " $ CASEID  : num  1 2 3 4 5 6 7 8 9 10 ...\n",
      " $ YEAR    : num  2012 2012 2012 2012 2012 ...\n",
      "  ..- attr(*, \"value.labels\")= Named num \n",
      "  .. ..- attr(*, \"names\")= chr \n",
      " $ AGE     : Factor w/ 11 levels \"(2) 12-14\",\"(3) 15-17\",..: 10 7 7 10 8 10 3 2 7 9 ...\n",
      " $ GENDER  : Factor w/ 2 levels \"(1) MALE\",\"(2) FEMALE\": 1 1 1 1 1 1 1 2 1 2 ...\n",
      " $ RACE    : Factor w/ 9 levels \"(1) ALASKA NATIVE (ALEUT, ESKIMO, INDIAN)\",..: 7 5 5 5 5 4 5 5 5 4 ...\n",
      " $ ETHNIC  : Factor w/ 6 levels \"(1) PUERTO RICAN\",..: 2 5 5 5 5 5 5 5 5 5 ...\n",
      " $ MARSTAT : Factor w/ 4 levels \"(1) NEVER MARRIED\",..: 4 1 1 4 3 2 1 1 4 1 ...\n",
      " $ EDUC    : Factor w/ 5 levels \"(1) 8 YEARS OR LESS\",..: 1 4 4 5 3 2 2 2 3 2 ...\n",
      " $ EMPLOY  : Factor w/ 4 levels \"(1) FULL TIME\",..: 1 4 3 3 3 3 1 4 3 3 ...\n",
      " $ DETNLF  : Factor w/ 5 levels \"(1) HOMEMAKER\",..: NA 3 NA NA NA NA NA 2 NA NA ...\n",
      " $ PREG    : Factor w/ 2 levels \"(1) YES\",\"(2) NO\": NA NA NA NA NA NA NA 2 NA 2 ...\n",
      " $ VET     : Factor w/ 2 levels \"(1) YES\",\"(2) NO\": 2 2 2 2 2 2 2 2 2 2 ...\n",
      " $ LIVARAG : Factor w/ 3 levels \"(1) HOMELESS\",..: 3 3 NA 3 3 3 2 NA 3 2 ...\n",
      " $ PRIMINC : Factor w/ 5 levels \"(1) WAGES/SALARY\",..: 1 NA 3 NA 1 NA 1 1 NA NA ...\n",
      " $ ARRESTS : Factor w/ 3 levels \"(0) NONE\",\"(1) ONCE\",..: 1 1 1 1 1 1 1 1 1 1 ...\n",
      " $ STFIPS  : Factor w/ 52 levels \"(1) ALABAMA\",..: 26 23 28 24 28 23 36 36 15 23 ...\n",
      " $ CBSA    : Factor w/ 934 levels \"(10020) ABBEVILLE, LA MICRO\",..: 420 233 628 555 488 233 169 NA NA 233 ...\n",
      " $ PMSA    : Factor w/ 323 levels \"(40) ABILENE, TX MSA\",..: 151 83 218 193 174 83 128 NA NA 83 ...\n",
      " $ REGION  : Factor w/ 5 levels \"(0) US JURISDICTION/TERRITORY\",..: 3 3 3 3 3 3 3 3 3 3 ...\n",
      " $ DIVISION: Factor w/ 10 levels \"(0) US JURISDICTION/TERRITORY\",..: 5 4 5 5 5 4 4 4 4 4 ...\n",
      " $ SERVSETA: Factor w/ 8 levels \"(1) DETOX, 24 HR, HOSPITAL INPATIENT\",..: 6 2 6 6 4 7 6 7 7 7 ...\n",
      " $ METHUSE : Factor w/ 2 levels \"(1) YES\",\"(2) NO\": 2 2 2 2 2 1 2 2 2 2 ...\n",
      " $ DAYWAIT : num  8 1 0 NA 0 15 8 0 NA 0 ...\n",
      "  ..- attr(*, \"value.labels\")= Named num \n",
      "  .. ..- attr(*, \"names\")= chr \n",
      " $ PSOURCE : Factor w/ 7 levels \"(1) INDIVIDUAL (INCLUDES SELF-REFERRAL)\",..: 7 1 3 3 3 1 7 6 7 2 ...\n",
      " $ DETCRIM : Factor w/ 6 levels \"(1) STATE/FEDERAL COURT, OTHER COURT\",..: 2 NA NA NA NA NA 1 NA 2 NA ...\n",
      " $ NOPRIOR : Factor w/ 6 levels \"(0) NO PRIOR TREATMENT EPISODES\",..: 1 2 2 2 3 1 1 1 1 1 ...\n",
      " $ SUB1    : Factor w/ 19 levels \"(1) NONE\",\"(2) ALCOHOL\",..: 2 2 3 2 10 5 4 1 2 5 ...\n",
      " $ ROUTE1  : Factor w/ 5 levels \"(1) ORAL\",\"(2) SMOKING\",..: 1 1 1 1 4 4 2 NA 1 3 ...\n",
      " $ FREQ1   : Factor w/ 5 levels \"(1) NO USE IN THE PAST MONTH\",..: 3 5 1 1 5 5 5 NA 1 5 ...\n",
      " $ FRSTUSE1: Factor w/ 12 levels \"(1) 11 AND UNDER\",..: 5 5 5 3 5 5 1 NA 5 3 ...\n",
      " $ SUB2    : Factor w/ 19 levels \"(1) NONE\",\"(2) ALCOHOL\",..: 1 5 1 1 4 13 3 1 1 3 ...\n",
      " $ ROUTE2  : Factor w/ 5 levels \"(1) ORAL\",\"(2) SMOKING\",..: NA 3 NA NA 2 1 3 NA NA 2 ...\n",
      " $ FREQ2   : Factor w/ 5 levels \"(1) NO USE IN THE PAST MONTH\",..: NA 5 NA NA 5 4 2 NA NA 5 ...\n",
      " $ FRSTUSE2: Factor w/ 12 levels \"(1) 11 AND UNDER\",..: NA 8 NA NA 4 7 3 NA NA 5 ...\n",
      " $ SUB3    : Factor w/ 19 levels \"(1) NONE\",\"(2) ALCOHOL\",..: 1 1 1 1 2 1 1 1 1 1 ...\n",
      " $ ROUTE3  : Factor w/ 5 levels \"(1) ORAL\",\"(2) SMOKING\",..: NA NA NA NA 1 NA NA NA NA NA ...\n",
      " $ FREQ3   : Factor w/ 5 levels \"(1) NO USE IN THE PAST MONTH\",..: NA NA NA NA NA NA NA NA NA NA ...\n",
      " $ FRSTUSE3: Factor w/ 12 levels \"(1) 11 AND UNDER\",..: NA NA NA NA 5 NA NA NA NA NA ...\n",
      " $ NUMSUBS : num  1 2 1 1 3 2 2 0 1 2 ...\n",
      " $ IDU     : Factor w/ 2 levels \"(0) NO IDU REPORTED\",..: 1 1 1 1 2 2 1 NA 1 1 ...\n",
      " $ ALCFLG  : Factor w/ 2 levels \"(0) SUBSTANCE NOT REPORTED\",..: 2 2 1 2 2 1 1 1 2 1 ...\n",
      " $ COKEFLG : Factor w/ 2 levels \"(0) SUBSTANCE NOT REPORTED\",..: 1 1 2 1 1 1 2 1 1 2 ...\n",
      " $ MARFLG  : Factor w/ 2 levels \"(0) SUBSTANCE NOT REPORTED\",..: 1 1 1 1 2 1 2 1 1 1 ...\n",
      " $ HERFLG  : Factor w/ 2 levels \"(0) SUBSTANCE NOT REPORTED\",..: 1 2 1 1 1 2 1 1 1 2 ...\n",
      " $ METHFLG : Factor w/ 2 levels \"(0) SUBSTANCE NOT REPORTED\",..: 1 1 1 1 1 1 1 1 1 1 ...\n",
      " $ OPSYNFLG: Factor w/ 2 levels \"(0) SUBSTANCE NOT REPORTED\",..: 1 1 1 1 1 1 1 1 1 1 ...\n",
      " $ PCPFLG  : Factor w/ 2 levels \"(0) SUBSTANCE NOT REPORTED\",..: 1 1 1 1 1 1 1 1 1 1 ...\n",
      " $ HALLFLG : Factor w/ 2 levels \"(0) SUBSTANCE NOT REPORTED\",..: 1 1 1 1 1 1 1 1 1 1 ...\n",
      " $ MTHAMFLG: Factor w/ 2 levels \"(0) SUBSTANCE NOT REPORTED\",..: 1 1 1 1 2 1 1 1 1 1 ...\n",
      " $ AMPHFLG : Factor w/ 2 levels \"(0) SUBSTANCE NOT REPORTED\",..: 1 1 1 1 1 1 1 1 1 1 ...\n",
      " $ STIMFLG : Factor w/ 2 levels \"(0) SUBSTANCE NOT REPORTED\",..: 1 1 1 1 1 1 1 1 1 1 ...\n",
      " $ BENZFLG : Factor w/ 2 levels \"(0) SUBSTANCE NOT REPORTED\",..: 1 1 1 1 1 2 1 1 1 1 ...\n",
      " $ TRNQFLG : Factor w/ 2 levels \"(0) SUBSTANCE NOT REPORTED\",..: 1 1 1 1 1 1 1 1 1 1 ...\n",
      " $ BARBFLG : Factor w/ 2 levels \"(0) SUBSTANCE NOT REPORTED\",..: 1 1 1 1 1 1 1 1 1 1 ...\n",
      " $ SEDHPFLG: Factor w/ 2 levels \"(0) SUBSTANCE NOT REPORTED\",..: 1 1 1 1 1 1 1 1 1 1 ...\n",
      " $ INHFLG  : Factor w/ 2 levels \"(0) SUBSTANCE NOT REPORTED\",..: 1 1 1 1 1 1 1 1 1 1 ...\n",
      " $ OTCFLG  : Factor w/ 2 levels \"(0) SUBSTANCE NOT REPORTED\",..: 1 1 1 1 1 1 1 1 1 1 ...\n",
      " $ OTHERFLG: Factor w/ 2 levels \"(0) SUBSTANCE NOT REPORTED\",..: 1 1 1 1 1 1 1 1 1 1 ...\n",
      " $ ALCDRUG : Factor w/ 4 levels \"(0) NONE\",\"(1) ALCOHOL ONLY\",..: 2 4 3 2 4 3 3 1 2 3 ...\n",
      " $ DSMCRIT : Factor w/ 21 levels \"(0) NO DIAGNOSIS\",..: NA 5 7 NA 9 6 8 20 10 13 ...\n",
      " $ PSYPROB : Factor w/ 2 levels \"(1) YES\",\"(2) NO\": 2 2 2 NA 2 2 2 2 2 2 ...\n",
      " $ HLTHINS : Factor w/ 4 levels \"(1) PRIVATE INSURANCE, BC/BS, HMO\",..: 4 NA 4 NA 4 NA NA NA 4 NA ...\n",
      " $ PRIMPAY : Factor w/ 7 levels \"(1) SELF-PAY\",..: 7 NA 5 NA 5 NA 5 4 NA NA ...\n",
      " - attr(*, \"variable.labels\")= Named chr  \"CASE IDENTIFICATION NUMBER\" \"YEAR OF ADMISSION\" \"AGE (RECODED)\" \"SEX\" ...\n",
      "  ..- attr(*, \"names\")= chr  \"CASEID\" \"YEAR\" \"AGE\" \"GENDER\" ...\n",
      " - attr(*, \"codepage\")= int 28591\n"
     ]
    }
   ],
   "source": [
    "str(physc)"
   ]
  },
  {
   "cell_type": "code",
   "execution_count": 48,
   "metadata": {},
   "outputs": [
    {
     "name": "stdout",
     "output_type": "stream",
     "text": [
      " Factor w/ 11 levels \"(2) 12-14\",\"(3) 15-17\",..: 10 7 7 10 8 10 3 2 7 9 ...\n"
     ]
    },
    {
     "data": {
      "text/html": [
       "<ol class=list-inline>\n",
       "\t<li>'(2) 12-14'</li>\n",
       "\t<li>'(3) 15-17'</li>\n",
       "\t<li>'(4) 18-20'</li>\n",
       "\t<li>'(5) 21-24'</li>\n",
       "\t<li>'(6) 25-29'</li>\n",
       "\t<li>'(7) 30-34'</li>\n",
       "\t<li>'(8) 35-39'</li>\n",
       "\t<li>'(9) 40-44'</li>\n",
       "\t<li>'(10) 45-49'</li>\n",
       "\t<li>'(11) 50-54'</li>\n",
       "\t<li>'(12) 55 AND OVER'</li>\n",
       "</ol>\n"
      ],
      "text/latex": [
       "\\begin{enumerate*}\n",
       "\\item '(2) 12-14'\n",
       "\\item '(3) 15-17'\n",
       "\\item '(4) 18-20'\n",
       "\\item '(5) 21-24'\n",
       "\\item '(6) 25-29'\n",
       "\\item '(7) 30-34'\n",
       "\\item '(8) 35-39'\n",
       "\\item '(9) 40-44'\n",
       "\\item '(10) 45-49'\n",
       "\\item '(11) 50-54'\n",
       "\\item '(12) 55 AND OVER'\n",
       "\\end{enumerate*}\n"
      ],
      "text/markdown": [
       "1. '(2) 12-14'\n",
       "2. '(3) 15-17'\n",
       "3. '(4) 18-20'\n",
       "4. '(5) 21-24'\n",
       "5. '(6) 25-29'\n",
       "6. '(7) 30-34'\n",
       "7. '(8) 35-39'\n",
       "8. '(9) 40-44'\n",
       "9. '(10) 45-49'\n",
       "10. '(11) 50-54'\n",
       "11. '(12) 55 AND OVER'\n",
       "\n",
       "\n"
      ],
      "text/plain": [
       " [1] \"(2) 12-14\"        \"(3) 15-17\"        \"(4) 18-20\"        \"(5) 21-24\"       \n",
       " [5] \"(6) 25-29\"        \"(7) 30-34\"        \"(8) 35-39\"        \"(9) 40-44\"       \n",
       " [9] \"(10) 45-49\"       \"(11) 50-54\"       \"(12) 55 AND OVER\""
      ]
     },
     "metadata": {},
     "output_type": "display_data"
    },
    {
     "data": {
      "text/html": [
       "'factor'"
      ],
      "text/latex": [
       "'factor'"
      ],
      "text/markdown": [
       "'factor'"
      ],
      "text/plain": [
       "[1] \"factor\""
      ]
     },
     "metadata": {},
     "output_type": "display_data"
    },
    {
     "data": {
      "text/html": [
       "<dl class=dl-horizontal>\n",
       "\t<dt>(1) HOMELESS</dt>\n",
       "\t\t<dd>233643</dd>\n",
       "\t<dt>(2) DEPENDENT LIVING</dt>\n",
       "\t\t<dd>358708</dd>\n",
       "\t<dt>(3) INDEPENDENT LIVING</dt>\n",
       "\t\t<dd>1133005</dd>\n",
       "</dl>\n"
      ],
      "text/latex": [
       "\\begin{description*}\n",
       "\\item[(1) HOMELESS] 233643\n",
       "\\item[(2) DEPENDENT LIVING] 358708\n",
       "\\item[(3) INDEPENDENT LIVING] 1133005\n",
       "\\end{description*}\n"
      ],
      "text/markdown": [
       "(1) HOMELESS\n",
       ":   233643(2) DEPENDENT LIVING\n",
       ":   358708(3) INDEPENDENT LIVING\n",
       ":   1133005\n",
       "\n"
      ],
      "text/plain": [
       "          (1) HOMELESS   (2) DEPENDENT LIVING (3) INDEPENDENT LIVING \n",
       "                233643                 358708                1133005 "
      ]
     },
     "metadata": {},
     "output_type": "display_data"
    },
    {
     "data": {
      "text/html": [
       "<dl class=dl-horizontal>\n",
       "\t<dt>(1) MALE</dt>\n",
       "\t\t<dd>1149463</dd>\n",
       "\t<dt>(2) FEMALE</dt>\n",
       "\t\t<dd>575893</dd>\n",
       "</dl>\n"
      ],
      "text/latex": [
       "\\begin{description*}\n",
       "\\item[(1) MALE] 1149463\n",
       "\\item[(2) FEMALE] 575893\n",
       "\\end{description*}\n"
      ],
      "text/markdown": [
       "(1) MALE\n",
       ":   1149463(2) FEMALE\n",
       ":   575893\n",
       "\n"
      ],
      "text/plain": [
       "  (1) MALE (2) FEMALE \n",
       "   1149463     575893 "
      ]
     },
     "metadata": {},
     "output_type": "display_data"
    },
    {
     "data": {
      "text/html": [
       "<dl class=dl-horizontal>\n",
       "\t<dt>(2) 12-14</dt>\n",
       "\t\t<dd>20644</dd>\n",
       "\t<dt>(3) 15-17</dt>\n",
       "\t\t<dd>97901</dd>\n",
       "\t<dt>(4) 18-20</dt>\n",
       "\t\t<dd>103108</dd>\n",
       "\t<dt>(5) 21-24</dt>\n",
       "\t\t<dd>211370</dd>\n",
       "\t<dt>(6) 25-29</dt>\n",
       "\t\t<dd>271932</dd>\n",
       "\t<dt>(7) 30-34</dt>\n",
       "\t\t<dd>234929</dd>\n",
       "\t<dt>(8) 35-39</dt>\n",
       "\t\t<dd>168404</dd>\n",
       "\t<dt>(9) 40-44</dt>\n",
       "\t\t<dd>176514</dd>\n",
       "\t<dt>(10) 45-49</dt>\n",
       "\t\t<dd>179015</dd>\n",
       "\t<dt>(11) 50-54</dt>\n",
       "\t\t<dd>141975</dd>\n",
       "\t<dt>(12) 55 AND OVER</dt>\n",
       "\t\t<dd>119564</dd>\n",
       "</dl>\n"
      ],
      "text/latex": [
       "\\begin{description*}\n",
       "\\item[(2) 12-14] 20644\n",
       "\\item[(3) 15-17] 97901\n",
       "\\item[(4) 18-20] 103108\n",
       "\\item[(5) 21-24] 211370\n",
       "\\item[(6) 25-29] 271932\n",
       "\\item[(7) 30-34] 234929\n",
       "\\item[(8) 35-39] 168404\n",
       "\\item[(9) 40-44] 176514\n",
       "\\item[(10) 45-49] 179015\n",
       "\\item[(11) 50-54] 141975\n",
       "\\item[(12) 55 AND OVER] 119564\n",
       "\\end{description*}\n"
      ],
      "text/markdown": [
       "(2) 12-14\n",
       ":   20644(3) 15-17\n",
       ":   97901(4) 18-20\n",
       ":   103108(5) 21-24\n",
       ":   211370(6) 25-29\n",
       ":   271932(7) 30-34\n",
       ":   234929(8) 35-39\n",
       ":   168404(9) 40-44\n",
       ":   176514(10) 45-49\n",
       ":   179015(11) 50-54\n",
       ":   141975(12) 55 AND OVER\n",
       ":   119564\n",
       "\n"
      ],
      "text/plain": [
       "       (2) 12-14        (3) 15-17        (4) 18-20        (5) 21-24 \n",
       "           20644            97901           103108           211370 \n",
       "       (6) 25-29        (7) 30-34        (8) 35-39        (9) 40-44 \n",
       "          271932           234929           168404           176514 \n",
       "      (10) 45-49       (11) 50-54 (12) 55 AND OVER \n",
       "          179015           141975           119564 "
      ]
     },
     "metadata": {},
     "output_type": "display_data"
    }
   ],
   "source": []
  },
  {
   "cell_type": "code",
   "execution_count": 10,
   "metadata": {},
   "outputs": [
    {
     "data": {
      "text/html": [
       "<ol class=list-inline>\n",
       "\t<li>(1) MALE</li>\n",
       "\t<li>(1) MALE</li>\n",
       "\t<li>(1) MALE</li>\n",
       "\t<li>(1) MALE</li>\n",
       "\t<li>(1) MALE</li>\n",
       "\t<li>(1) MALE</li>\n",
       "</ol>\n",
       "\n",
       "<details>\n",
       "\t<summary style=display:list-item;cursor:pointer>\n",
       "\t\t<strong>Levels</strong>:\n",
       "\t</summary>\n",
       "\t<ol class=list-inline>\n",
       "\t\t<li>'(1) MALE'</li>\n",
       "\t\t<li>'(2) FEMALE'</li>\n",
       "\t</ol>\n",
       "</details>"
      ],
      "text/latex": [
       "\\begin{enumerate*}\n",
       "\\item (1) MALE\n",
       "\\item (1) MALE\n",
       "\\item (1) MALE\n",
       "\\item (1) MALE\n",
       "\\item (1) MALE\n",
       "\\item (1) MALE\n",
       "\\end{enumerate*}\n",
       "\n",
       "\\emph{Levels}: \\begin{enumerate*}\n",
       "\\item '(1) MALE'\n",
       "\\item '(2) FEMALE'\n",
       "\\end{enumerate*}\n"
      ],
      "text/markdown": [
       "1. (1) MALE\n",
       "2. (1) MALE\n",
       "3. (1) MALE\n",
       "4. (1) MALE\n",
       "5. (1) MALE\n",
       "6. (1) MALE\n",
       "\n",
       "\n",
       "\n",
       "**Levels**: 1. '(1) MALE'\n",
       "2. '(2) FEMALE'\n",
       "\n",
       "\n"
      ],
      "text/plain": [
       "[1] (1) MALE (1) MALE (1) MALE (1) MALE (1) MALE (1) MALE\n",
       "Levels: (1) MALE (2) FEMALE"
      ]
     },
     "metadata": {},
     "output_type": "display_data"
    }
   ],
   "source": [
    "#Checking if ther are any junk values. like NA so that we can clean the data.\n",
    "head(physc$GENDER)"
   ]
  },
  {
   "cell_type": "code",
   "execution_count": 44,
   "metadata": {},
   "outputs": [
    {
     "data": {
      "text/html": [
       "<table>\n",
       "<tbody>\n",
       "\t<tr><td>10</td><td>1 </td><td>3 </td></tr>\n",
       "\t<tr><td> 7</td><td>1 </td><td>3 </td></tr>\n",
       "\t<tr><td>10</td><td>1 </td><td>3 </td></tr>\n",
       "\t<tr><td> 8</td><td>1 </td><td>3 </td></tr>\n",
       "\t<tr><td>10</td><td>1 </td><td>3 </td></tr>\n",
       "\t<tr><td> 3</td><td>1 </td><td>2 </td></tr>\n",
       "</tbody>\n",
       "</table>\n"
      ],
      "text/latex": [
       "\\begin{tabular}{lll}\n",
       "\t 10 & 1  & 3 \\\\\n",
       "\t  7 & 1  & 3 \\\\\n",
       "\t 10 & 1  & 3 \\\\\n",
       "\t  8 & 1  & 3 \\\\\n",
       "\t 10 & 1  & 3 \\\\\n",
       "\t  3 & 1  & 2 \\\\\n",
       "\\end{tabular}\n"
      ],
      "text/markdown": [
       "\n",
       "| 10 | 1  | 3  | \n",
       "|  7 | 1  | 3  | \n",
       "| 10 | 1  | 3  | \n",
       "|  8 | 1  | 3  | \n",
       "| 10 | 1  | 3  | \n",
       "|  3 | 1  | 2  | \n",
       "\n",
       "\n"
      ],
      "text/plain": [
       "     [,1] [,2] [,3]\n",
       "[1,] 10   1    3   \n",
       "[2,]  7   1    3   \n",
       "[3,] 10   1    3   \n",
       "[4,]  8   1    3   \n",
       "[5,] 10   1    3   \n",
       "[6,]  3   1    2   "
      ]
     },
     "metadata": {},
     "output_type": "display_data"
    },
    {
     "data": {
      "text/plain": [
       "       V1              V2              V3       \n",
       " Min.   : 1.00   Min.   :1.000   Min.   :1.000  \n",
       " 1st Qu.: 4.00   1st Qu.:1.000   1st Qu.:2.000  \n",
       " Median : 6.00   Median :1.000   Median :3.000  \n",
       " Mean   : 6.42   Mean   :1.334   Mean   :2.521  \n",
       " 3rd Qu.: 9.00   3rd Qu.:2.000   3rd Qu.:3.000  \n",
       " Max.   :11.00   Max.   :2.000   Max.   :3.000  "
      ]
     },
     "metadata": {},
     "output_type": "display_data"
    }
   ],
   "source": [
    "cluster <- matrix( c(as.numeric(livarg$AGE),as.numeric(livarg$GENDER),as.numeric(livarg$LIVARAG)),ncol=3)\n",
    "head(cluster)\n",
    "summary(cluster)"
   ]
  },
  {
   "cell_type": "code",
   "execution_count": 45,
   "metadata": {},
   "outputs": [
    {
     "name": "stdout",
     "output_type": "stream",
     "text": [
      "List of 9\n",
      " $ cluster     : int [1:1725356] 1 2 1 1 1 4 2 1 1 2 ...\n",
      " $ centers     : num [1:5, 1:3] 9.33 6.41 5.57 3.13 5 ...\n",
      "  ..- attr(*, \"dimnames\")=List of 2\n",
      "  .. ..$ : chr [1:5] \"1\" \"2\" \"3\" \"4\" ...\n",
      "  .. ..$ : NULL\n",
      " $ totss       : num 12850746\n",
      " $ withinss    : num [1:5] 1252787 219948 138148 572807 97207\n",
      " $ tot.withinss: num 2280897\n",
      " $ betweenss   : num 10569850\n",
      " $ size        : int [1:5] 617068 348605 104272 413175 242236\n",
      " $ iter        : int 2\n",
      " $ ifault      : int 0\n",
      " - attr(*, \"class\")= chr \"kmeans\"\n"
     ]
    }
   ],
   "source": [
    "# str shows what is in the kmeans result. (it is a list of lists, the first list has names)\n",
    "res <- kmeans(cluster,5)\n",
    "str(res)"
   ]
  },
  {
   "cell_type": "code",
   "execution_count": 47,
   "metadata": {},
   "outputs": [
    {
     "data": {
      "text/html": [
       "15"
      ],
      "text/latex": [
       "15"
      ],
      "text/markdown": [
       "15"
      ],
      "text/plain": [
       "[1] 15"
      ]
     },
     "metadata": {},
     "output_type": "display_data"
    },
    {
     "data": {
      "text/html": [
       "5"
      ],
      "text/latex": [
       "5"
      ],
      "text/markdown": [
       "5"
      ],
      "text/plain": [
       "[1] 5"
      ]
     },
     "metadata": {},
     "output_type": "display_data"
    },
    {
     "name": "stdout",
     "output_type": "stream",
     "text": [
      "[1] 9.33155\n"
     ]
    },
    {
     "data": {
      "text/html": [
       "3"
      ],
      "text/latex": [
       "3"
      ],
      "text/markdown": [
       "3"
      ],
      "text/plain": [
       "[1] 3"
      ]
     },
     "metadata": {},
     "output_type": "display_data"
    },
    {
     "data": {
      "text/html": [
       "5"
      ],
      "text/latex": [
       "5"
      ],
      "text/markdown": [
       "5"
      ],
      "text/plain": [
       "[1] 5"
      ]
     },
     "metadata": {},
     "output_type": "display_data"
    },
    {
     "ename": "ERROR",
     "evalue": "Error in xy.coords(x, y, xlabel, ylabel, log): 'x' and 'y' lengths differ\n",
     "output_type": "error",
     "traceback": [
      "Error in xy.coords(x, y, xlabel, ylabel, log): 'x' and 'y' lengths differ\nTraceback:\n",
      "1. plot(res$center, res$size)",
      "2. plot.default(res$center, res$size)",
      "3. xy.coords(x, y, xlabel, ylabel, log)",
      "4. stop(\"'x' and 'y' lengths differ\")"
     ]
    }
   ],
   "source": [
    "length(res$center)\n",
    "length(res$size)\n",
    "print(res$center[1])\n",
    "ncol(res$center)\n",
    "nrow(res$center)\n",
    "\n",
    "#colnames(res$center) <- paste('v', 1:3,sep=\"\")\n",
    "#res[,'v1']\n",
    "plot(res$center,res$size)"
   ]
  },
  {
   "cell_type": "code",
   "execution_count": null,
   "metadata": {},
   "outputs": [],
   "source": []
  }
 ],
 "metadata": {
  "kernelspec": {
   "display_name": "R",
   "language": "R",
   "name": "ir"
  },
  "language_info": {
   "codemirror_mode": "r",
   "file_extension": ".r",
   "mimetype": "text/x-r-source",
   "name": "R",
   "pygments_lexer": "r",
   "version": "3.5.1"
  }
 },
 "nbformat": 4,
 "nbformat_minor": 2
}
