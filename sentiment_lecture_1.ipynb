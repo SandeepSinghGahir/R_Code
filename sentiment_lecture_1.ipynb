{
 "cells": [
  {
   "cell_type": "markdown",
   "metadata": {},
   "source": [
    "# sentiment lecture\n",
    "\n",
    "Begin by using a library syuzhet\n",
    "\n",
    "You might have to install it... (install.packages)\n"
   ]
  },
  {
   "cell_type": "code",
   "execution_count": 3,
   "metadata": {
    "scrolled": true
   },
   "outputs": [
    {
     "name": "stderr",
     "output_type": "stream",
     "text": [
      "Installing package into ‘/home/morris/R/x86_64-redhat-linux-gnu-library/3.5’\n",
      "(as ‘lib’ is unspecified)\n"
     ]
    }
   ],
   "source": [
    "#install.packages(\"syuzhet\")\n",
    "library(syuzhet)"
   ]
  },
  {
   "cell_type": "code",
   "execution_count": 4,
   "metadata": {},
   "outputs": [],
   "source": [
    "my_example_text <- \"I begin this story with a neutral statement.  \n",
    "  Basically this is a very silly test.  \n",
    "  You are testing the Syuzhet package using short, inane sentences.  \n",
    "  I am actually very happy today. \n",
    "  I have finally finished writing this package.  \n",
    "  Tomorrow I will be very sad. \n",
    "  I won't have anything left to do. \n",
    "  I might get angry and decide to do something horrible.  \n",
    "  I might destroy the entire package and start from scratch.  \n",
    "  Then again, I might find it satisfying to have completed my first R package. \n",
    "  Honestly this use of the Fourier transformation is really quite elegant.  \n",
    "  You might even say it's beautiful!\""
   ]
  },
  {
   "cell_type": "code",
   "execution_count": 5,
   "metadata": {},
   "outputs": [],
   "source": [
    "s_v <- get_sentences(my_example_text)"
   ]
  },
  {
   "cell_type": "code",
   "execution_count": 6,
   "metadata": {},
   "outputs": [
    {
     "data": {
      "text/html": [
       "<ol class=list-inline>\n",
       "\t<li>'I begin this story with a neutral statement.'</li>\n",
       "\t<li>'Basically this is a very silly test.'</li>\n",
       "\t<li>'You are testing the Syuzhet package using short, inane sentences.'</li>\n",
       "\t<li>'I am actually very happy today.'</li>\n",
       "\t<li>'I have finally finished writing this package.'</li>\n",
       "\t<li>'Tomorrow I will be very sad.'</li>\n",
       "\t<li>'I won\\'t have anything left to do.'</li>\n",
       "\t<li>'I might get angry and decide to do something horrible.'</li>\n",
       "\t<li>'I might destroy the entire package and start from scratch.'</li>\n",
       "\t<li>'Then again, I might find it satisfying to have completed my first R package.'</li>\n",
       "\t<li>'Honestly this use of the Fourier transformation is really quite elegant.'</li>\n",
       "\t<li>'You might even say it\\'s beautiful!'</li>\n",
       "</ol>\n"
      ],
      "text/latex": [
       "\\begin{enumerate*}\n",
       "\\item 'I begin this story with a neutral statement.'\n",
       "\\item 'Basically this is a very silly test.'\n",
       "\\item 'You are testing the Syuzhet package using short, inane sentences.'\n",
       "\\item 'I am actually very happy today.'\n",
       "\\item 'I have finally finished writing this package.'\n",
       "\\item 'Tomorrow I will be very sad.'\n",
       "\\item 'I won\\textbackslash{}'t have anything left to do.'\n",
       "\\item 'I might get angry and decide to do something horrible.'\n",
       "\\item 'I might destroy the entire package and start from scratch.'\n",
       "\\item 'Then again, I might find it satisfying to have completed my first R package.'\n",
       "\\item 'Honestly this use of the Fourier transformation is really quite elegant.'\n",
       "\\item 'You might even say it\\textbackslash{}'s beautiful!'\n",
       "\\end{enumerate*}\n"
      ],
      "text/markdown": [
       "1. 'I begin this story with a neutral statement.'\n",
       "2. 'Basically this is a very silly test.'\n",
       "3. 'You are testing the Syuzhet package using short, inane sentences.'\n",
       "4. 'I am actually very happy today.'\n",
       "5. 'I have finally finished writing this package.'\n",
       "6. 'Tomorrow I will be very sad.'\n",
       "7. 'I won\\'t have anything left to do.'\n",
       "8. 'I might get angry and decide to do something horrible.'\n",
       "9. 'I might destroy the entire package and start from scratch.'\n",
       "10. 'Then again, I might find it satisfying to have completed my first R package.'\n",
       "11. 'Honestly this use of the Fourier transformation is really quite elegant.'\n",
       "12. 'You might even say it\\'s beautiful!'\n",
       "\n",
       "\n"
      ],
      "text/plain": [
       " [1] \"I begin this story with a neutral statement.\"                                \n",
       " [2] \"Basically this is a very silly test.\"                                        \n",
       " [3] \"You are testing the Syuzhet package using short, inane sentences.\"           \n",
       " [4] \"I am actually very happy today.\"                                             \n",
       " [5] \"I have finally finished writing this package.\"                               \n",
       " [6] \"Tomorrow I will be very sad.\"                                                \n",
       " [7] \"I won't have anything left to do.\"                                           \n",
       " [8] \"I might get angry and decide to do something horrible.\"                      \n",
       " [9] \"I might destroy the entire package and start from scratch.\"                  \n",
       "[10] \"Then again, I might find it satisfying to have completed my first R package.\"\n",
       "[11] \"Honestly this use of the Fourier transformation is really quite elegant.\"    \n",
       "[12] \"You might even say it's beautiful!\"                                          "
      ]
     },
     "metadata": {},
     "output_type": "display_data"
    }
   ],
   "source": [
    "s_v"
   ]
  },
  {
   "cell_type": "code",
   "execution_count": 7,
   "metadata": {},
   "outputs": [],
   "source": [
    "syuzhet_vector <- get_sentiment(s_v, method=\"syuzhet\")"
   ]
  },
  {
   "cell_type": "code",
   "execution_count": 8,
   "metadata": {},
   "outputs": [
    {
     "data": {
      "text/html": [
       "<ol class=list-inline>\n",
       "\t<li>0</li>\n",
       "\t<li>-0.25</li>\n",
       "\t<li>-0.5</li>\n",
       "\t<li>0.75</li>\n",
       "\t<li>0.4</li>\n",
       "\t<li>-0.5</li>\n",
       "\t<li>0</li>\n",
       "\t<li>-1.5</li>\n",
       "\t<li>-1.1</li>\n",
       "\t<li>1</li>\n",
       "\t<li>1</li>\n",
       "\t<li>0.75</li>\n",
       "</ol>\n"
      ],
      "text/latex": [
       "\\begin{enumerate*}\n",
       "\\item 0\n",
       "\\item -0.25\n",
       "\\item -0.5\n",
       "\\item 0.75\n",
       "\\item 0.4\n",
       "\\item -0.5\n",
       "\\item 0\n",
       "\\item -1.5\n",
       "\\item -1.1\n",
       "\\item 1\n",
       "\\item 1\n",
       "\\item 0.75\n",
       "\\end{enumerate*}\n"
      ],
      "text/markdown": [
       "1. 0\n",
       "2. -0.25\n",
       "3. -0.5\n",
       "4. 0.75\n",
       "5. 0.4\n",
       "6. -0.5\n",
       "7. 0\n",
       "8. -1.5\n",
       "9. -1.1\n",
       "10. 1\n",
       "11. 1\n",
       "12. 0.75\n",
       "\n",
       "\n"
      ],
      "text/plain": [
       " [1]  0.00 -0.25 -0.50  0.75  0.40 -0.50  0.00 -1.50 -1.10  1.00  1.00  0.75"
      ]
     },
     "metadata": {},
     "output_type": "display_data"
    }
   ],
   "source": [
    "syuzhet_vector"
   ]
  },
  {
   "cell_type": "code",
   "execution_count": 9,
   "metadata": {},
   "outputs": [
    {
     "data": {
      "image/png": "[encoded data removed]",
      "text/plain": [
       "plot without title"
      ]
     },
     "metadata": {},
     "output_type": "display_data"
    }
   ],
   "source": [
    "plot(syuzhet_vector,type=\"l\")"
   ]
  },
  {
   "cell_type": "code",
   "execution_count": 10,
   "metadata": {},
   "outputs": [
    {
     "data": {
      "text/html": [
       "'data.frame'"
      ],
      "text/latex": [
       "'data.frame'"
      ],
      "text/markdown": [
       "'data.frame'"
      ],
      "text/plain": [
       "[1] \"data.frame\""
      ]
     },
     "metadata": {},
     "output_type": "display_data"
    }
   ],
   "source": [
    "class(get_nrc_sentiment(s_v))"
   ]
  },
  {
   "cell_type": "code",
   "execution_count": 11,
   "metadata": {},
   "outputs": [],
   "source": [
    "ns <- get_nrc_sentiment(s_v)"
   ]
  },
  {
   "cell_type": "code",
   "execution_count": 12,
   "metadata": {},
   "outputs": [
    {
     "data": {
      "text/html": [
       "0.0833333333333333"
      ],
      "text/latex": [
       "0.0833333333333333"
      ],
      "text/markdown": [
       "0.0833333333333333"
      ],
      "text/plain": [
       "[1] 0.08333333"
      ]
     },
     "metadata": {},
     "output_type": "display_data"
    }
   ],
   "source": [
    "mean(ns$positive-ns$negative)"
   ]
  },
  {
   "cell_type": "code",
   "execution_count": 13,
   "metadata": {},
   "outputs": [
    {
     "data": {
      "text/html": [
       "<table>\n",
       "<thead><tr><th></th><th scope=col>anger</th><th scope=col>anticipation</th><th scope=col>disgust</th><th scope=col>fear</th><th scope=col>joy</th><th scope=col>sadness</th><th scope=col>surprise</th><th scope=col>trust</th><th scope=col>negative</th><th scope=col>positive</th></tr></thead>\n",
       "<tbody>\n",
       "\t<tr><th scope=row>8</th><td>2</td><td>0</td><td>2</td><td>1</td><td>0</td><td>0</td><td>0</td><td>0</td><td>2</td><td>0</td></tr>\n",
       "</tbody>\n",
       "</table>\n"
      ],
      "text/latex": [
       "\\begin{tabular}{r|llllllllll}\n",
       "  & anger & anticipation & disgust & fear & joy & sadness & surprise & trust & negative & positive\\\\\n",
       "\\hline\n",
       "\t8 & 2 & 0 & 2 & 1 & 0 & 0 & 0 & 0 & 2 & 0\\\\\n",
       "\\end{tabular}\n"
      ],
      "text/markdown": [
       "\n",
       "| <!--/--> | anger | anticipation | disgust | fear | joy | sadness | surprise | trust | negative | positive | \n",
       "|---|\n",
       "| 8 | 2 | 0 | 2 | 1 | 0 | 0 | 0 | 0 | 2 | 0 | \n",
       "\n",
       "\n"
      ],
      "text/plain": [
       "  anger anticipation disgust fear joy sadness surprise trust negative positive\n",
       "8 2     0            2       1    0   0       0        0     2        0       "
      ]
     },
     "metadata": {},
     "output_type": "display_data"
    }
   ],
   "source": [
    "ns[ns$anger>0,]"
   ]
  },
  {
   "cell_type": "code",
   "execution_count": 14,
   "metadata": {},
   "outputs": [],
   "source": [
    "fire <- \" LOS ANGELES — Fierce wildfires whipping up nightmare conditions in Northern California have killed at least 15 people, destroyed more than 1,500 structures and turned wineries into charred wastelands.\n",
    "\n",
    "The death toll continued to climb Tuesday as fire crews battled at least 17 large fires, while more than 20,000 people in the paths of the fast-moving infernos fled their homes, the California Department of Forestry and Fire Protection, or Cal Fire, said. In all, more than 115,000 acres have burned since the weekend, officials added.\n",
    "\n",
    "Firefighters were counting on cooler weather and weakening winds to help in their fight.\n",
    "\n",
    "With increased resources headed to the region, hopefully we'll start seeing some turnaround throughout the course of today and into tomorrow, Scott McLean, deputy chief of Cal Fire, said Tuesday on TODAY.\n",
    "[Massive wildfires ravage Northern California, killing at least 11]\n",
    "Massive wildfires ravage Northern California, killing at least 11 2:39\n",
    "\n",
    "Gov. Jerry Brown declared an emergency in the affected counties, which include Napa and Sonoma, and the Federal Emergency Management Agency agreed to the state's request for federal funds to help the fires, the Department of Homeland Security said.\n",
    "\n",
    "In Sonoma County, officials said they had received about 200 phone calls to its missing persons hotline, although they believe some could be duplicates. About 45 of the missing had been located as of Tuesday afternoon, according to Sonoma County spokeswoman Maggie Fleming.\n",
    "\n",
    "Resident Marian Williams of Kenwood, in Sonoma County, told NBC Bay Area that she joined a caravan of neighbors driving through the flames before dawn as one of the fires reached the area's vineyards.\n",
    "\n",
    "It was an inferno like you've never seen before, Williams told the station.\n",
    "\n",
    "The 15 wildfires — which also engulfed a hotel and a trailer park in the city of Santa Rosa and sent smoke spewing as far south as San Francisco — have collectively become among the deadliest in California's history.\n",
    "\n",
    "Photos: Massive Wildfires Consume Homes Across Northern California\n",
    "\n",
    "At least nine people were killed in Sonoma County in fire-related incidents — and that number's going to change, warned Sheriff Rob Giordano of Sonoma County.\n",
    "\n",
    "Cal Fire confirmed that three people had been killed in Mendocino County and two people in Napa County. They were identified by NBC Bay Area as 100-year-old Charlie Rippey, a World War II veteran, and his 98-year-old wife, Sara.\n",
    "\n",
    "Their son, Chuck Rippey, told the station that their caregiver contacted him as the fire closed in and said his parents were still inside the Silverado Golf Course home they had lived in for the past 40 years.\n",
    "\n",
    "The caregiver called and said there's fire everywhere, Chuck Rippey said. I said get these guys out on the street, and before she knew it, the roof was caving in very fast.\n",
    "\n",
    "Another fire-related death was confirmed in Yuba Country.\n",
    "\n",
    "Mark Ghilarducci, director of the state Office of Emergency Services, agreed Monday that other deaths were likely across the region. Since the fires were moving so rapidly, he added, authorities were still trying to get our hands around the full extent of the damage and casualties.\n",
    "\n",
    "Cal Fire Director Ken Pimlott said that many other people had been injured and that an undetermined number were missing.\n",
    "\n",
    "Firefighters were also contending with strong winds fueling the flames, although the roaring gusts that reached between 35 to 50 mph were expected to weaken to about 20 mph by Tuesday afternoon.\n",
    "\n",
    "All of California faces a renewed threat from dangerous weather conditions Wednesday that could spark wildfires, including the return of strong, offshore winds and lower humidity.\n",
    "\n",
    "Pacific Gas & Electric said more than 94,000 customers were without power as of Tuesday morning, most of them in the North Bay Division and Sonoma area. Gas service was shut off to 30,000 customers, it said. The California Highway Patrol said it had rescued 44 people by helicopter.\n",
    "\n",
    "All of the new fires started after 10 p.m. PT (1 a.m. ET) on Sunday, Pimlott said.\n",
    "\n",
    "McClean said investigators were still trying to determine the origin of the blazes and called it a meticulous process.\n",
    "Image: A helicopter drops water on a wind-driven wildfire\n",
    "A helicopter drops water on a wind-driven wildfire in Orange, California on Monday. Mike Blake / Reuters\n",
    "\n",
    "Californians are pushing their way through a phenomenon called the Santa Ana winds — powerful systems that start inland and almost always blast hot, extremely dry air across Northern California and the southern California coast.\n",
    "\n",
    "The hot, dry blasts are sometimes called los diablos, or the devil winds, and they often create critical fire conditions.\n",
    "\n",
    "Every spark is going to ignite a fire, Pimlott said. The planets literally aligned to have this explosive state.\n",
    "\n",
    "At least 1,500 homes and commercial structures were destroyed in the region in just 12 hours, authorities said.\n",
    "\n",
    "Cal Fire Deputy Chief Bret Gouvea, commander of the unified response team, described a simultaneous eruption of large fires that were all wind driven, with winds up to 50 miles per hour, in seven counties.\n",
    "\n",
    "Sometimes we get away with these wind events, and other times we get caught, he said.\n",
    "\n",
    "Capt. Craig Schwartz, acting chief of the Santa Rosa police, said evacuation efforts were continuing. Officers were going in and reporting that they were having a hard time getting out, he said.\n",
    "Image: Michael Pond, left, looks through ashes as his wife Kristine, center, gets a hug from Zack Thurston\n",
    "Michael Pond, left, looks through ashes as his wife Kristine, center, gets a hug from Zack Thurston, their daughter's boyfriend, while they search the remains of their home destroyed by fire on Monday. Jeff Chiu / AP\n",
    "\n",
    "Brown said Monday night that authorities anticipate more destruction, both to homes and public infrastructure. The governor added that officials would continue to do preliminary damage assessments as soon as conditions permit access.\n",
    "\n",
    "Santa Rosa Fire Chief Tony Gossner said that the flames in Sonoma County came in very, very hard, and that they drained our resources very quickly.\n",
    "\n",
    "But Northern California wasn't the only part of the state inundated by infernos.\n",
    "\n",
    "The Canyon Fire 2 wildfire was scorching rugged terrain in Anaheim Hills in Orange County, about 40 miles southeast of Los Angeles. More than 7,500 acres were burned by early Tuesday, fire officials said, and at least 24 structures were destroyed with another 5,000 threatened.\n",
    "\n",
    "Photos: Orange Skies Shroud Disneyland as Wildfires Loom\n",
    "\n",
    "The officials warned that the thousands of homeowners in evacuation zones won't be allowed to return until the fire was solidly contained, but strong onshore winds could hamper the fight. Evacuation shelters were set up Monday and Tuesday in nearby communities, including the city of Anaheim, where Disneyland is.\n",
    "\n",
    "The wildfire — the biggest in the county in nearly a decade — cast an eerie orange glow in the sky above the theme park, which remained open.\n",
    "\n",
    "The hillside was on fire, Anaheim Hills resident John Teague told NBC Los Angeles. I've never seen anything like this. \""
   ]
  },
  {
   "cell_type": "code",
   "execution_count": 15,
   "metadata": {},
   "outputs": [],
   "source": [
    "fs <- get_sentences(fire)"
   ]
  },
  {
   "cell_type": "code",
   "execution_count": 16,
   "metadata": {},
   "outputs": [],
   "source": [
    "sent <- get_sentiment(fs)"
   ]
  },
  {
   "cell_type": "code",
   "execution_count": 17,
   "metadata": {},
   "outputs": [
    {
     "data": {
      "text/plain": [
       "   Min. 1st Qu.  Median    Mean 3rd Qu.    Max. \n",
       "-2.6500 -0.7500 -0.2500 -0.4206  0.0000  1.1000 "
      ]
     },
     "metadata": {},
     "output_type": "display_data"
    }
   ],
   "source": [
    "summary(sent)"
   ]
  },
  {
   "cell_type": "code",
   "execution_count": 20,
   "metadata": {},
   "outputs": [
    {
     "data": {
      "text/html": [
       "<table>\n",
       "<thead><tr><th scope=col>anger</th><th scope=col>anticipation</th><th scope=col>disgust</th><th scope=col>fear</th><th scope=col>joy</th><th scope=col>sadness</th><th scope=col>surprise</th><th scope=col>trust</th><th scope=col>negative</th><th scope=col>positive</th></tr></thead>\n",
       "<tbody>\n",
       "\t<tr><td>2</td><td>0</td><td>1</td><td>3</td><td>0</td><td>1</td><td>0</td><td>0</td><td>3</td><td>0</td></tr>\n",
       "\t<tr><td>2</td><td>1</td><td>1</td><td>4</td><td>0</td><td>2</td><td>1</td><td>0</td><td>2</td><td>0</td></tr>\n",
       "\t<tr><td>0</td><td>0</td><td>0</td><td>0</td><td>0</td><td>0</td><td>0</td><td>0</td><td>0</td><td>0</td></tr>\n",
       "\t<tr><td>1</td><td>0</td><td>0</td><td>1</td><td>0</td><td>0</td><td>0</td><td>0</td><td>1</td><td>0</td></tr>\n",
       "\t<tr><td>1</td><td>2</td><td>0</td><td>3</td><td>1</td><td>2</td><td>1</td><td>4</td><td>2</td><td>4</td></tr>\n",
       "\t<tr><td>0</td><td>1</td><td>0</td><td>1</td><td>0</td><td>1</td><td>0</td><td>2</td><td>2</td><td>1</td></tr>\n",
       "</tbody>\n",
       "</table>\n"
      ],
      "text/latex": [
       "\\begin{tabular}{r|llllllllll}\n",
       " anger & anticipation & disgust & fear & joy & sadness & surprise & trust & negative & positive\\\\\n",
       "\\hline\n",
       "\t 2 & 0 & 1 & 3 & 0 & 1 & 0 & 0 & 3 & 0\\\\\n",
       "\t 2 & 1 & 1 & 4 & 0 & 2 & 1 & 0 & 2 & 0\\\\\n",
       "\t 0 & 0 & 0 & 0 & 0 & 0 & 0 & 0 & 0 & 0\\\\\n",
       "\t 1 & 0 & 0 & 1 & 0 & 0 & 0 & 0 & 1 & 0\\\\\n",
       "\t 1 & 2 & 0 & 3 & 1 & 2 & 1 & 4 & 2 & 4\\\\\n",
       "\t 0 & 1 & 0 & 1 & 0 & 1 & 0 & 2 & 2 & 1\\\\\n",
       "\\end{tabular}\n"
      ],
      "text/markdown": [
       "\n",
       "anger | anticipation | disgust | fear | joy | sadness | surprise | trust | negative | positive | \n",
       "|---|---|---|---|---|---|\n",
       "| 2 | 0 | 1 | 3 | 0 | 1 | 0 | 0 | 3 | 0 | \n",
       "| 2 | 1 | 1 | 4 | 0 | 2 | 1 | 0 | 2 | 0 | \n",
       "| 0 | 0 | 0 | 0 | 0 | 0 | 0 | 0 | 0 | 0 | \n",
       "| 1 | 0 | 0 | 1 | 0 | 0 | 0 | 0 | 1 | 0 | \n",
       "| 1 | 2 | 0 | 3 | 1 | 2 | 1 | 4 | 2 | 4 | \n",
       "| 0 | 1 | 0 | 1 | 0 | 1 | 0 | 2 | 2 | 1 | \n",
       "\n",
       "\n"
      ],
      "text/plain": [
       "  anger anticipation disgust fear joy sadness surprise trust negative positive\n",
       "1 2     0            1       3    0   1       0        0     3        0       \n",
       "2 2     1            1       4    0   2       1        0     2        0       \n",
       "3 0     0            0       0    0   0       0        0     0        0       \n",
       "4 1     0            0       1    0   0       0        0     1        0       \n",
       "5 1     2            0       3    1   2       1        4     2        4       \n",
       "6 0     1            0       1    0   1       0        2     2        1       "
      ]
     },
     "metadata": {},
     "output_type": "display_data"
    }
   ],
   "source": [
    "sent_nrc <- get_nrc_sentiment(fs)\n",
    "head(sent_nrc)"
   ]
  },
  {
   "cell_type": "code",
   "execution_count": 19,
   "metadata": {},
   "outputs": [
    {
     "data": {
      "text/plain": [
       "     anger         anticipation       disgust            fear      \n",
       " Min.   :0.0000   Min.   :0.0000   Min.   :0.0000   Min.   :0.000  \n",
       " 1st Qu.:0.0000   1st Qu.:0.0000   1st Qu.:0.0000   1st Qu.:0.000  \n",
       " Median :0.0000   Median :0.0000   Median :0.0000   Median :1.000  \n",
       " Mean   :0.4902   Mean   :0.3725   Mean   :0.1961   Mean   :1.078  \n",
       " 3rd Qu.:1.0000   3rd Qu.:1.0000   3rd Qu.:0.0000   3rd Qu.:2.000  \n",
       " Max.   :3.0000   Max.   :2.0000   Max.   :1.0000   Max.   :4.000  \n",
       "      joy            sadness          surprise          trust       \n",
       " Min.   :0.0000   Min.   :0.0000   Min.   :0.0000   Min.   :0.0000  \n",
       " 1st Qu.:0.0000   1st Qu.:0.0000   1st Qu.:0.0000   1st Qu.:0.0000  \n",
       " Median :0.0000   Median :0.0000   Median :0.0000   Median :0.0000  \n",
       " Mean   :0.1569   Mean   :0.4706   Mean   :0.2745   Mean   :0.7059  \n",
       " 3rd Qu.:0.0000   3rd Qu.:1.0000   3rd Qu.:1.0000   3rd Qu.:1.0000  \n",
       " Max.   :1.0000   Max.   :2.0000   Max.   :1.0000   Max.   :4.0000  \n",
       "    negative         positive     \n",
       " Min.   :0.0000   Min.   :0.0000  \n",
       " 1st Qu.:0.0000   1st Qu.:0.0000  \n",
       " Median :1.0000   Median :0.0000  \n",
       " Mean   :0.8824   Mean   :0.6667  \n",
       " 3rd Qu.:1.0000   3rd Qu.:1.0000  \n",
       " Max.   :4.0000   Max.   :4.0000  "
      ]
     },
     "metadata": {},
     "output_type": "display_data"
    }
   ],
   "source": [
    "summary(sent_nrc)"
   ]
  },
  {
   "cell_type": "code",
   "execution_count": 21,
   "metadata": {},
   "outputs": [
    {
     "data": {
      "text/html": [
       "'data.frame'"
      ],
      "text/latex": [
       "'data.frame'"
      ],
      "text/markdown": [
       "'data.frame'"
      ],
      "text/plain": [
       "[1] \"data.frame\""
      ]
     },
     "metadata": {},
     "output_type": "display_data"
    }
   ],
   "source": [
    "class(sent_nrc)"
   ]
  },
  {
   "cell_type": "code",
   "execution_count": 22,
   "metadata": {},
   "outputs": [
    {
     "data": {
      "text/html": [
       "1.07843137254902"
      ],
      "text/latex": [
       "1.07843137254902"
      ],
      "text/markdown": [
       "1.07843137254902"
      ],
      "text/plain": [
       "[1] 1.078431"
      ]
     },
     "metadata": {},
     "output_type": "display_data"
    }
   ],
   "source": [
    "mean(sent_nrc[,\"fear\"])"
   ]
  },
  {
   "cell_type": "code",
   "execution_count": null,
   "metadata": {},
   "outputs": [],
   "source": []
  }
 ],
 "metadata": {
  "kernelspec": {
   "display_name": "R",
   "language": "R",
   "name": "ir"
  },
  "language_info": {
   "codemirror_mode": "r",
   "file_extension": ".r",
   "mimetype": "text/x-r-source",
   "name": "R",
   "pygments_lexer": "r",
   "version": "3.5.1"
  }
 },
 "nbformat": 4,
 "nbformat_minor": 2
}
