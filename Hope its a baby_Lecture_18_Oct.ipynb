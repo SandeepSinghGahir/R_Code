{
 "cells": [
  {
   "cell_type": "code",
   "execution_count": 1,
   "metadata": {},
   "outputs": [],
   "source": [
    "library(RSQLite)"
   ]
  },
  {
   "cell_type": "code",
   "execution_count": 6,
   "metadata": {},
   "outputs": [],
   "source": [
    "db <- dbConnect(SQLite(),'bnames.sqlite')"
   ]
  },
  {
   "cell_type": "code",
   "execution_count": 7,
   "metadata": {},
   "outputs": [
    {
     "data": {
      "text/html": [
       "'babyNames'"
      ],
      "text/latex": [
       "'babyNames'"
      ],
      "text/markdown": [
       "'babyNames'"
      ],
      "text/plain": [
       "[1] \"babyNames\""
      ]
     },
     "metadata": {},
     "output_type": "display_data"
    }
   ],
   "source": [
    "dbListTables(db)"
   ]
  },
  {
   "cell_type": "code",
   "execution_count": 8,
   "metadata": {},
   "outputs": [
    {
     "data": {
      "text/html": [
       "<table>\n",
       "<thead><tr><th scope=col>Name</th><th scope=col>sum(Count)</th></tr></thead>\n",
       "<tbody>\n",
       "\t<tr><td>Zzyzx    </td><td>321472269</td></tr>\n",
       "</tbody>\n",
       "</table>\n"
      ],
      "text/latex": [
       "\\begin{tabular}{r|ll}\n",
       " Name & sum(Count)\\\\\n",
       "\\hline\n",
       "\t Zzyzx     & 321472269\\\\\n",
       "\\end{tabular}\n"
      ],
      "text/markdown": [
       "\n",
       "Name | sum(Count) | \n",
       "|---|\n",
       "| Zzyzx     | 321472269 | \n",
       "\n",
       "\n"
      ],
      "text/plain": [
       "  Name  sum(Count)\n",
       "1 Zzyzx 321472269 "
      ]
     },
     "metadata": {},
     "output_type": "display_data"
    }
   ],
   "source": [
    "dbGetQuery(db,\"select name,sum(Count) from babyNames ;\")"
   ]
  },
  {
   "cell_type": "code",
   "execution_count": 11,
   "metadata": {},
   "outputs": [
    {
     "name": "stdout",
     "output_type": "stream",
     "text": [
      "'data.frame':\t88584 obs. of  2 variables:\n",
      " $ Name      : chr  \"Aaban\" \"Aabid\" \"Aabriella\" \"Aadam\" ...\n",
      " $ sum(Count): int  20 5 5 133 69 109 2985 10 29 5 ...\n"
     ]
    },
    {
     "data": {
      "text/html": [
       "<table>\n",
       "<thead><tr><th></th><th scope=col>Name</th><th scope=col>sum(Count)</th></tr></thead>\n",
       "<tbody>\n",
       "\t<tr><th scope=row>88579</th><td>Zyshon   </td><td> 19      </td></tr>\n",
       "\t<tr><th scope=row>88580</th><td>Zyshonne </td><td>101      </td></tr>\n",
       "\t<tr><th scope=row>88581</th><td>Zytavious</td><td> 43      </td></tr>\n",
       "\t<tr><th scope=row>88582</th><td>Zyvion   </td><td>  5      </td></tr>\n",
       "\t<tr><th scope=row>88583</th><td>Zyyanna  </td><td>  6      </td></tr>\n",
       "\t<tr><th scope=row>88584</th><td>Zzyzx    </td><td>  5      </td></tr>\n",
       "</tbody>\n",
       "</table>\n"
      ],
      "text/latex": [
       "\\begin{tabular}{r|ll}\n",
       "  & Name & sum(Count)\\\\\n",
       "\\hline\n",
       "\t88579 & Zyshon    &  19      \\\\\n",
       "\t88580 & Zyshonne  & 101      \\\\\n",
       "\t88581 & Zytavious &  43      \\\\\n",
       "\t88582 & Zyvion    &   5      \\\\\n",
       "\t88583 & Zyyanna   &   6      \\\\\n",
       "\t88584 & Zzyzx     &   5      \\\\\n",
       "\\end{tabular}\n"
      ],
      "text/markdown": [
       "\n",
       "| <!--/--> | Name | sum(Count) | \n",
       "|---|---|---|---|---|---|\n",
       "| 88579 | Zyshon    |  19       | \n",
       "| 88580 | Zyshonne  | 101       | \n",
       "| 88581 | Zytavious |  43       | \n",
       "| 88582 | Zyvion    |   5       | \n",
       "| 88583 | Zyyanna   |   6       | \n",
       "| 88584 | Zzyzx     |   5       | \n",
       "\n",
       "\n"
      ],
      "text/plain": [
       "      Name      sum(Count)\n",
       "88579 Zyshon     19       \n",
       "88580 Zyshonne  101       \n",
       "88581 Zytavious  43       \n",
       "88582 Zyvion      5       \n",
       "88583 Zyyanna     6       \n",
       "88584 Zzyzx       5       "
      ]
     },
     "metadata": {},
     "output_type": "display_data"
    }
   ],
   "source": [
    "bob <- dbGetQuery(db,\"select name,sum(Count) from babyNames group by Name ;\")\n",
    "str(bob)\n",
    "tail(bob)"
   ]
  },
  {
   "cell_type": "raw",
   "metadata": {},
   "source": [
    "dbGetQuery(db,\"select bn.Name,max(bn.Cnt) from bn (select name,sum(Count) as 'Cnt' from babyNames group by Name) \"bn\" ;\")"
   ]
  },
  {
   "cell_type": "code",
   "execution_count": 14,
   "metadata": {},
   "outputs": [
    {
     "data": {
      "text/html": [
       "<table>\n",
       "<thead><tr><th scope=col>Name</th><th scope=col>max(bn.Cnt)</th></tr></thead>\n",
       "<tbody>\n",
       "\t<tr><td>James  </td><td>5046253</td></tr>\n",
       "</tbody>\n",
       "</table>\n"
      ],
      "text/latex": [
       "\\begin{tabular}{r|ll}\n",
       " Name & max(bn.Cnt)\\\\\n",
       "\\hline\n",
       "\t James   & 5046253\\\\\n",
       "\\end{tabular}\n"
      ],
      "text/markdown": [
       "\n",
       "Name | max(bn.Cnt) | \n",
       "|---|\n",
       "| James   | 5046253 | \n",
       "\n",
       "\n"
      ],
      "text/plain": [
       "  Name  max(bn.Cnt)\n",
       "1 James 5046253    "
      ]
     },
     "metadata": {},
     "output_type": "display_data"
    }
   ],
   "source": [
    "dbGetQuery(db,\"select bn.Name,max(bn.Cnt) from (select Name,sum(Count) as 'Cnt' from babyNames group by Name) 'bn' ;\")"
   ]
  },
  {
   "cell_type": "code",
   "execution_count": 16,
   "metadata": {},
   "outputs": [
    {
     "data": {
      "text/html": [
       "<table>\n",
       "<thead><tr><th scope=col>Sex</th><th scope=col>max(bn.Cnt)</th></tr></thead>\n",
       "<tbody>\n",
       "\t<tr><td>M        </td><td>161955468</td></tr>\n",
       "</tbody>\n",
       "</table>\n"
      ],
      "text/latex": [
       "\\begin{tabular}{r|ll}\n",
       " Sex & max(bn.Cnt)\\\\\n",
       "\\hline\n",
       "\t M         & 161955468\\\\\n",
       "\\end{tabular}\n"
      ],
      "text/markdown": [
       "\n",
       "Sex | max(bn.Cnt) | \n",
       "|---|\n",
       "| M         | 161955468 | \n",
       "\n",
       "\n"
      ],
      "text/plain": [
       "  Sex max(bn.Cnt)\n",
       "1 M   161955468  "
      ]
     },
     "metadata": {},
     "output_type": "display_data"
    }
   ],
   "source": [
    "dbGetQuery(db,\"select bn.Sex,max(bn.Cnt) from (select Sex,sum(Count) as 'Cnt' from babyNames group by Sex) 'bn' ;\")"
   ]
  },
  {
   "cell_type": "code",
   "execution_count": 17,
   "metadata": {},
   "outputs": [
    {
     "data": {
      "text/html": [
       "<table>\n",
       "<thead><tr><th scope=col>Sex</th><th scope=col>Cnt</th></tr></thead>\n",
       "<tbody>\n",
       "\t<tr><td>F        </td><td>159516801</td></tr>\n",
       "\t<tr><td>M        </td><td>161955468</td></tr>\n",
       "</tbody>\n",
       "</table>\n"
      ],
      "text/latex": [
       "\\begin{tabular}{r|ll}\n",
       " Sex & Cnt\\\\\n",
       "\\hline\n",
       "\t F         & 159516801\\\\\n",
       "\t M         & 161955468\\\\\n",
       "\\end{tabular}\n"
      ],
      "text/markdown": [
       "\n",
       "Sex | Cnt | \n",
       "|---|---|\n",
       "| F         | 159516801 | \n",
       "| M         | 161955468 | \n",
       "\n",
       "\n"
      ],
      "text/plain": [
       "  Sex Cnt      \n",
       "1 F   159516801\n",
       "2 M   161955468"
      ]
     },
     "metadata": {},
     "output_type": "display_data"
    }
   ],
   "source": [
    "dbGetQuery(db,\"select bn.Sex,bn.Cnt from (select Sex,sum(Count) as 'Cnt' from babyNames group by Sex) 'bn' ;\")"
   ]
  },
  {
   "cell_type": "code",
   "execution_count": 23,
   "metadata": {},
   "outputs": [
    {
     "name": "stdout",
     "output_type": "stream",
     "text": [
      "'data.frame':\t36795 obs. of  2 variables:\n",
      " $ Name: chr  \"Aaban\" \"Aabid\" \"Aadam\" \"Aadan\" ...\n",
      " $ Cnt : int  20 5 133 69 109 2980 10 29 5 444 ...\n"
     ]
    },
    {
     "data": {
      "text/html": [
       "<table>\n",
       "<thead><tr><th></th><th scope=col>Name</th><th scope=col>Cnt</th></tr></thead>\n",
       "<tbody>\n",
       "\t<tr><th scope=row>24754</th><td>Morris</td><td>69133 </td></tr>\n",
       "</tbody>\n",
       "</table>\n"
      ],
      "text/latex": [
       "\\begin{tabular}{r|ll}\n",
       "  & Name & Cnt\\\\\n",
       "\\hline\n",
       "\t24754 & Morris & 69133 \\\\\n",
       "\\end{tabular}\n"
      ],
      "text/markdown": [
       "\n",
       "| <!--/--> | Name | Cnt | \n",
       "|---|\n",
       "| 24754 | Morris | 69133  | \n",
       "\n",
       "\n"
      ],
      "text/plain": [
       "      Name   Cnt  \n",
       "24754 Morris 69133"
      ]
     },
     "metadata": {},
     "output_type": "display_data"
    }
   ],
   "source": [
    "a <- dbGetQuery(db,\"select bn.Name,bn.Cnt from (select Name,sum(Count) as 'Cnt' from babyNames where Sex='M' group by Name) 'bn' ;\")\n",
    "str(a)\n",
    "a[a$Name=='Morris',]"
   ]
  },
  {
   "cell_type": "code",
   "execution_count": 26,
   "metadata": {},
   "outputs": [
    {
     "data": {
      "text/html": [
       "<table>\n",
       "<thead><tr><th scope=col>Name</th><th scope=col>max(bn.Cnt)</th></tr></thead>\n",
       "<tbody>\n",
       "\t<tr><td>Mary   </td><td>4065412</td></tr>\n",
       "</tbody>\n",
       "</table>\n"
      ],
      "text/latex": [
       "\\begin{tabular}{r|ll}\n",
       " Name & max(bn.Cnt)\\\\\n",
       "\\hline\n",
       "\t Mary    & 4065412\\\\\n",
       "\\end{tabular}\n"
      ],
      "text/markdown": [
       "\n",
       "Name | max(bn.Cnt) | \n",
       "|---|\n",
       "| Mary    | 4065412 | \n",
       "\n",
       "\n"
      ],
      "text/plain": [
       "  Name max(bn.Cnt)\n",
       "1 Mary 4065412    "
      ]
     },
     "metadata": {},
     "output_type": "display_data"
    }
   ],
   "source": [
    "dbGetQuery(db,\"select bn.Name,max(bn.Cnt) from (select Name,sum(Count) as 'Cnt' from babyNames where Sex='F' group by Name) 'bn' ;\")"
   ]
  },
  {
   "cell_type": "code",
   "execution_count": 28,
   "metadata": {},
   "outputs": [
    {
     "data": {
      "text/html": [
       "<table>\n",
       "<thead><tr><th scope=col>Year</th><th scope=col>max(bn.Cnt)</th></tr></thead>\n",
       "<tbody>\n",
       "\t<tr><td>1921 </td><td>74172</td></tr>\n",
       "</tbody>\n",
       "</table>\n"
      ],
      "text/latex": [
       "\\begin{tabular}{r|ll}\n",
       " Year & max(bn.Cnt)\\\\\n",
       "\\hline\n",
       "\t 1921  & 74172\\\\\n",
       "\\end{tabular}\n"
      ],
      "text/markdown": [
       "\n",
       "Year | max(bn.Cnt) | \n",
       "|---|\n",
       "| 1921  | 74172 | \n",
       "\n",
       "\n"
      ],
      "text/plain": [
       "  Year max(bn.Cnt)\n",
       "1 1921 74172      "
      ]
     },
     "metadata": {},
     "output_type": "display_data"
    }
   ],
   "source": [
    "#Which year had most Mary's\n",
    "dbGetQuery(db,\"select bn.Year,max(bn.Cnt) from (select Year,sum(Count) as 'Cnt' from babyNames where Name='Mary' group by Year) 'bn' ;\")"
   ]
  },
  {
   "cell_type": "code",
   "execution_count": 39,
   "metadata": {},
   "outputs": [
    {
     "data": {
      "text/html": [
       "<table>\n",
       "<thead><tr><th scope=col>Name</th><th scope=col>Year</th><th scope=col>max(bn.Cnt)</th></tr></thead>\n",
       "<tbody>\n",
       "\t<tr><td>Sandeep</td><td>1989   </td><td>32     </td></tr>\n",
       "</tbody>\n",
       "</table>\n"
      ],
      "text/latex": [
       "\\begin{tabular}{r|lll}\n",
       " Name & Year & max(bn.Cnt)\\\\\n",
       "\\hline\n",
       "\t Sandeep & 1989    & 32     \\\\\n",
       "\\end{tabular}\n"
      ],
      "text/markdown": [
       "\n",
       "Name | Year | max(bn.Cnt) | \n",
       "|---|\n",
       "| Sandeep | 1989    | 32      | \n",
       "\n",
       "\n"
      ],
      "text/plain": [
       "  Name    Year max(bn.Cnt)\n",
       "1 Sandeep 1989 32         "
      ]
     },
     "metadata": {},
     "output_type": "display_data"
    }
   ],
   "source": [
    "dbGetQuery(db,\"select bn.Name, bn.Year,max(bn.Cnt) from (select Name,Year,sum(Count) as 'Cnt' from babyNames where Name='Sandeep' and Sex='M' group by Year) 'bn' ;\")"
   ]
  },
  {
   "cell_type": "code",
   "execution_count": 42,
   "metadata": {},
   "outputs": [
    {
     "data": {
      "text/html": [
       "<table>\n",
       "<thead><tr><th scope=col>Name</th><th scope=col>Year</th><th scope=col>max(bn.Cnt)</th></tr></thead>\n",
       "<tbody>\n",
       "\t<tr><td>Teri </td><td>1957 </td><td>15625</td></tr>\n",
       "</tbody>\n",
       "</table>\n"
      ],
      "text/latex": [
       "\\begin{tabular}{r|lll}\n",
       " Name & Year & max(bn.Cnt)\\\\\n",
       "\\hline\n",
       "\t Teri  & 1957  & 15625\\\\\n",
       "\\end{tabular}\n"
      ],
      "text/markdown": [
       "\n",
       "Name | Year | max(bn.Cnt) | \n",
       "|---|\n",
       "| Teri  | 1957  | 15625 | \n",
       "\n",
       "\n"
      ],
      "text/plain": [
       "  Name Year max(bn.Cnt)\n",
       "1 Teri 1957 15625      "
      ]
     },
     "metadata": {},
     "output_type": "display_data"
    }
   ],
   "source": [
    "dbGetQuery(db,\"select bn.Name, bn.Year,max(bn.Cnt) from (select Name,Year,sum(Count) as 'Cnt' from babyNames where Name in ('Terry','Teri','Terie') and Sex='M' group by Year) 'bn' ;\")"
   ]
  },
  {
   "cell_type": "code",
   "execution_count": null,
   "metadata": {},
   "outputs": [],
   "source": []
  }
 ],
 "metadata": {
  "kernelspec": {
   "display_name": "R",
   "language": "R",
   "name": "ir"
  },
  "language_info": {
   "codemirror_mode": "r",
   "file_extension": ".r",
   "mimetype": "text/x-r-source",
   "name": "R",
   "pygments_lexer": "r",
   "version": "3.5.1"
  }
 },
 "nbformat": 4,
 "nbformat_minor": 2
}
